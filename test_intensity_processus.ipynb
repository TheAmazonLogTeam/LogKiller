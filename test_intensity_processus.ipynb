{
 "cells": [
  {
   "cell_type": "code",
   "execution_count": 1,
   "metadata": {},
   "outputs": [],
   "source": [
    "%load_ext autoreload"
   ]
  },
  {
   "cell_type": "code",
   "execution_count": 2,
   "metadata": {},
   "outputs": [],
   "source": [
    "import times_series_learning as tsl\n",
    "import server_profile_learning as spl\n",
    "import matplotlib.pyplot as plt\n",
    "from scipy.spatial.distance import euclidean\n",
    "from fastdtw import fastdtw\n",
    "import datetime as dt\n",
    "import time\n",
    "from logreader import read_dir\n",
    "from logparser import parse_all\n",
    "from loganalyzer import MessageLogAnalyzer, describe, print_description, print_clusters\n",
    "import class_time_series\n",
    "import pandas as pd\n",
    "import numpy as np\n",
    "import sortedcontainers\n",
    "from scipy import stats, integrate\n",
    "import matplotlib.pyplot as plt\n",
    "import seaborn as sns\n",
    "sns.set(color_codes=True)\n",
    "%autoreload "
   ]
  },
  {
   "cell_type": "code",
   "execution_count": 3,
   "metadata": {},
   "outputs": [],
   "source": [
    "LogPath = '/home/joseph/Dropbox/DeepLearning/ProjetFilRouge/AirFrance/logs/servers/'\n",
    "p = class_time_series.GetServerData(LogPath)\n",
    "ServerName = p.ServerList()"
   ]
  },
  {
   "cell_type": "code",
   "execution_count": 4,
   "metadata": {},
   "outputs": [
    {
     "data": {
      "text/plain": [
       "Index(['qvipnbdora02', 'qvipnbdora04', 'qvipnbusin02', 'qvipnmonlx06',\n",
       "       'qvipnmonlx10', 'qvipnmonlx14', 'qvipnmonlx16', 'qviqbkarfs02',\n",
       "       'qviqbocpno12', 'qviqbocpno14', 'qvirbkarfs02', 'qvirbkarno10',\n",
       "       'qvirbkarno12', 'qvirbkarno14', 'qvirbkarno16', 'qvirbkarno18',\n",
       "       'qvirbloges02', 'qvirbsapcr02', 'qvircmqsvr02', 'qvirctbems04',\n",
       "       'qvirnbdora02', 'qvirnbdora04', 'qvirnbusin02', 'qvitbbautin02',\n",
       "       'qvitbbautin04', 'qvitbbautin06', 'qvitbcjbod02', 'qvitntbems02',\n",
       "       'qvitsys6'],\n",
       "      dtype='object')"
      ]
     },
     "execution_count": 4,
     "metadata": {},
     "output_type": "execute_result"
    }
   ],
   "source": [
    "ServerName.columns"
   ]
  },
  {
   "cell_type": "code",
   "execution_count": 5,
   "metadata": {},
   "outputs": [
    {
     "data": {
      "text/html": [
       "<div>\n",
       "<style scoped>\n",
       "    .dataframe tbody tr th:only-of-type {\n",
       "        vertical-align: middle;\n",
       "    }\n",
       "\n",
       "    .dataframe tbody tr th {\n",
       "        vertical-align: top;\n",
       "    }\n",
       "\n",
       "    .dataframe thead th {\n",
       "        text-align: right;\n",
       "    }\n",
       "</style>\n",
       "<table border=\"1\" class=\"dataframe\">\n",
       "  <thead>\n",
       "    <tr style=\"text-align: right;\">\n",
       "      <th></th>\n",
       "      <th>qvipnbdora02</th>\n",
       "      <th>qvipnbdora04</th>\n",
       "      <th>qvipnbusin02</th>\n",
       "      <th>qvipnmonlx06</th>\n",
       "      <th>qvipnmonlx10</th>\n",
       "      <th>qvipnmonlx14</th>\n",
       "      <th>qvipnmonlx16</th>\n",
       "      <th>qviqbkarfs02</th>\n",
       "      <th>qviqbocpno12</th>\n",
       "      <th>qviqbocpno14</th>\n",
       "      <th>...</th>\n",
       "      <th>qvirctbems04</th>\n",
       "      <th>qvirnbdora02</th>\n",
       "      <th>qvirnbdora04</th>\n",
       "      <th>qvirnbusin02</th>\n",
       "      <th>qvitbbautin02</th>\n",
       "      <th>qvitbbautin04</th>\n",
       "      <th>qvitbbautin06</th>\n",
       "      <th>qvitbcjbod02</th>\n",
       "      <th>qvitntbems02</th>\n",
       "      <th>qvitsys6</th>\n",
       "    </tr>\n",
       "  </thead>\n",
       "  <tbody>\n",
       "    <tr>\n",
       "      <th>2017-09-24</th>\n",
       "      <td>/home/joseph/Dropbox/DeepLearning/ProjetFilRou...</td>\n",
       "      <td>/home/joseph/Dropbox/DeepLearning/ProjetFilRou...</td>\n",
       "      <td>/home/joseph/Dropbox/DeepLearning/ProjetFilRou...</td>\n",
       "      <td>/home/joseph/Dropbox/DeepLearning/ProjetFilRou...</td>\n",
       "      <td>/home/joseph/Dropbox/DeepLearning/ProjetFilRou...</td>\n",
       "      <td>/home/joseph/Dropbox/DeepLearning/ProjetFilRou...</td>\n",
       "      <td>/home/joseph/Dropbox/DeepLearning/ProjetFilRou...</td>\n",
       "      <td>/home/joseph/Dropbox/DeepLearning/ProjetFilRou...</td>\n",
       "      <td>0</td>\n",
       "      <td>/home/joseph/Dropbox/DeepLearning/ProjetFilRou...</td>\n",
       "      <td>...</td>\n",
       "      <td>/home/joseph/Dropbox/DeepLearning/ProjetFilRou...</td>\n",
       "      <td>/home/joseph/Dropbox/DeepLearning/ProjetFilRou...</td>\n",
       "      <td>/home/joseph/Dropbox/DeepLearning/ProjetFilRou...</td>\n",
       "      <td>/home/joseph/Dropbox/DeepLearning/ProjetFilRou...</td>\n",
       "      <td>/home/joseph/Dropbox/DeepLearning/ProjetFilRou...</td>\n",
       "      <td>/home/joseph/Dropbox/DeepLearning/ProjetFilRou...</td>\n",
       "      <td>/home/joseph/Dropbox/DeepLearning/ProjetFilRou...</td>\n",
       "      <td>/home/joseph/Dropbox/DeepLearning/ProjetFilRou...</td>\n",
       "      <td>0</td>\n",
       "      <td>/home/joseph/Dropbox/DeepLearning/ProjetFilRou...</td>\n",
       "    </tr>\n",
       "    <tr>\n",
       "      <th>2017-09-25</th>\n",
       "      <td>/home/joseph/Dropbox/DeepLearning/ProjetFilRou...</td>\n",
       "      <td>/home/joseph/Dropbox/DeepLearning/ProjetFilRou...</td>\n",
       "      <td>/home/joseph/Dropbox/DeepLearning/ProjetFilRou...</td>\n",
       "      <td>/home/joseph/Dropbox/DeepLearning/ProjetFilRou...</td>\n",
       "      <td>/home/joseph/Dropbox/DeepLearning/ProjetFilRou...</td>\n",
       "      <td>/home/joseph/Dropbox/DeepLearning/ProjetFilRou...</td>\n",
       "      <td>/home/joseph/Dropbox/DeepLearning/ProjetFilRou...</td>\n",
       "      <td>/home/joseph/Dropbox/DeepLearning/ProjetFilRou...</td>\n",
       "      <td>/home/joseph/Dropbox/DeepLearning/ProjetFilRou...</td>\n",
       "      <td>/home/joseph/Dropbox/DeepLearning/ProjetFilRou...</td>\n",
       "      <td>...</td>\n",
       "      <td>/home/joseph/Dropbox/DeepLearning/ProjetFilRou...</td>\n",
       "      <td>/home/joseph/Dropbox/DeepLearning/ProjetFilRou...</td>\n",
       "      <td>/home/joseph/Dropbox/DeepLearning/ProjetFilRou...</td>\n",
       "      <td>/home/joseph/Dropbox/DeepLearning/ProjetFilRou...</td>\n",
       "      <td>/home/joseph/Dropbox/DeepLearning/ProjetFilRou...</td>\n",
       "      <td>/home/joseph/Dropbox/DeepLearning/ProjetFilRou...</td>\n",
       "      <td>/home/joseph/Dropbox/DeepLearning/ProjetFilRou...</td>\n",
       "      <td>/home/joseph/Dropbox/DeepLearning/ProjetFilRou...</td>\n",
       "      <td>0</td>\n",
       "      <td>/home/joseph/Dropbox/DeepLearning/ProjetFilRou...</td>\n",
       "    </tr>\n",
       "    <tr>\n",
       "      <th>2017-09-26</th>\n",
       "      <td>/home/joseph/Dropbox/DeepLearning/ProjetFilRou...</td>\n",
       "      <td>/home/joseph/Dropbox/DeepLearning/ProjetFilRou...</td>\n",
       "      <td>/home/joseph/Dropbox/DeepLearning/ProjetFilRou...</td>\n",
       "      <td>/home/joseph/Dropbox/DeepLearning/ProjetFilRou...</td>\n",
       "      <td>/home/joseph/Dropbox/DeepLearning/ProjetFilRou...</td>\n",
       "      <td>/home/joseph/Dropbox/DeepLearning/ProjetFilRou...</td>\n",
       "      <td>/home/joseph/Dropbox/DeepLearning/ProjetFilRou...</td>\n",
       "      <td>/home/joseph/Dropbox/DeepLearning/ProjetFilRou...</td>\n",
       "      <td>/home/joseph/Dropbox/DeepLearning/ProjetFilRou...</td>\n",
       "      <td>/home/joseph/Dropbox/DeepLearning/ProjetFilRou...</td>\n",
       "      <td>...</td>\n",
       "      <td>/home/joseph/Dropbox/DeepLearning/ProjetFilRou...</td>\n",
       "      <td>/home/joseph/Dropbox/DeepLearning/ProjetFilRou...</td>\n",
       "      <td>/home/joseph/Dropbox/DeepLearning/ProjetFilRou...</td>\n",
       "      <td>/home/joseph/Dropbox/DeepLearning/ProjetFilRou...</td>\n",
       "      <td>/home/joseph/Dropbox/DeepLearning/ProjetFilRou...</td>\n",
       "      <td>/home/joseph/Dropbox/DeepLearning/ProjetFilRou...</td>\n",
       "      <td>/home/joseph/Dropbox/DeepLearning/ProjetFilRou...</td>\n",
       "      <td>/home/joseph/Dropbox/DeepLearning/ProjetFilRou...</td>\n",
       "      <td>/home/joseph/Dropbox/DeepLearning/ProjetFilRou...</td>\n",
       "      <td>/home/joseph/Dropbox/DeepLearning/ProjetFilRou...</td>\n",
       "    </tr>\n",
       "    <tr>\n",
       "      <th>2017-09-27</th>\n",
       "      <td>/home/joseph/Dropbox/DeepLearning/ProjetFilRou...</td>\n",
       "      <td>/home/joseph/Dropbox/DeepLearning/ProjetFilRou...</td>\n",
       "      <td>/home/joseph/Dropbox/DeepLearning/ProjetFilRou...</td>\n",
       "      <td>/home/joseph/Dropbox/DeepLearning/ProjetFilRou...</td>\n",
       "      <td>/home/joseph/Dropbox/DeepLearning/ProjetFilRou...</td>\n",
       "      <td>/home/joseph/Dropbox/DeepLearning/ProjetFilRou...</td>\n",
       "      <td>/home/joseph/Dropbox/DeepLearning/ProjetFilRou...</td>\n",
       "      <td>/home/joseph/Dropbox/DeepLearning/ProjetFilRou...</td>\n",
       "      <td>/home/joseph/Dropbox/DeepLearning/ProjetFilRou...</td>\n",
       "      <td>/home/joseph/Dropbox/DeepLearning/ProjetFilRou...</td>\n",
       "      <td>...</td>\n",
       "      <td>/home/joseph/Dropbox/DeepLearning/ProjetFilRou...</td>\n",
       "      <td>/home/joseph/Dropbox/DeepLearning/ProjetFilRou...</td>\n",
       "      <td>/home/joseph/Dropbox/DeepLearning/ProjetFilRou...</td>\n",
       "      <td>/home/joseph/Dropbox/DeepLearning/ProjetFilRou...</td>\n",
       "      <td>/home/joseph/Dropbox/DeepLearning/ProjetFilRou...</td>\n",
       "      <td>/home/joseph/Dropbox/DeepLearning/ProjetFilRou...</td>\n",
       "      <td>/home/joseph/Dropbox/DeepLearning/ProjetFilRou...</td>\n",
       "      <td>/home/joseph/Dropbox/DeepLearning/ProjetFilRou...</td>\n",
       "      <td>/home/joseph/Dropbox/DeepLearning/ProjetFilRou...</td>\n",
       "      <td>/home/joseph/Dropbox/DeepLearning/ProjetFilRou...</td>\n",
       "    </tr>\n",
       "    <tr>\n",
       "      <th>2017-09-28</th>\n",
       "      <td>/home/joseph/Dropbox/DeepLearning/ProjetFilRou...</td>\n",
       "      <td>/home/joseph/Dropbox/DeepLearning/ProjetFilRou...</td>\n",
       "      <td>/home/joseph/Dropbox/DeepLearning/ProjetFilRou...</td>\n",
       "      <td>/home/joseph/Dropbox/DeepLearning/ProjetFilRou...</td>\n",
       "      <td>/home/joseph/Dropbox/DeepLearning/ProjetFilRou...</td>\n",
       "      <td>/home/joseph/Dropbox/DeepLearning/ProjetFilRou...</td>\n",
       "      <td>/home/joseph/Dropbox/DeepLearning/ProjetFilRou...</td>\n",
       "      <td>/home/joseph/Dropbox/DeepLearning/ProjetFilRou...</td>\n",
       "      <td>/home/joseph/Dropbox/DeepLearning/ProjetFilRou...</td>\n",
       "      <td>/home/joseph/Dropbox/DeepLearning/ProjetFilRou...</td>\n",
       "      <td>...</td>\n",
       "      <td>/home/joseph/Dropbox/DeepLearning/ProjetFilRou...</td>\n",
       "      <td>/home/joseph/Dropbox/DeepLearning/ProjetFilRou...</td>\n",
       "      <td>/home/joseph/Dropbox/DeepLearning/ProjetFilRou...</td>\n",
       "      <td>/home/joseph/Dropbox/DeepLearning/ProjetFilRou...</td>\n",
       "      <td>/home/joseph/Dropbox/DeepLearning/ProjetFilRou...</td>\n",
       "      <td>/home/joseph/Dropbox/DeepLearning/ProjetFilRou...</td>\n",
       "      <td>/home/joseph/Dropbox/DeepLearning/ProjetFilRou...</td>\n",
       "      <td>/home/joseph/Dropbox/DeepLearning/ProjetFilRou...</td>\n",
       "      <td>/home/joseph/Dropbox/DeepLearning/ProjetFilRou...</td>\n",
       "      <td>/home/joseph/Dropbox/DeepLearning/ProjetFilRou...</td>\n",
       "    </tr>\n",
       "  </tbody>\n",
       "</table>\n",
       "<p>5 rows × 29 columns</p>\n",
       "</div>"
      ],
      "text/plain": [
       "                                                 qvipnbdora02  \\\n",
       "2017-09-24  /home/joseph/Dropbox/DeepLearning/ProjetFilRou...   \n",
       "2017-09-25  /home/joseph/Dropbox/DeepLearning/ProjetFilRou...   \n",
       "2017-09-26  /home/joseph/Dropbox/DeepLearning/ProjetFilRou...   \n",
       "2017-09-27  /home/joseph/Dropbox/DeepLearning/ProjetFilRou...   \n",
       "2017-09-28  /home/joseph/Dropbox/DeepLearning/ProjetFilRou...   \n",
       "\n",
       "                                                 qvipnbdora04  \\\n",
       "2017-09-24  /home/joseph/Dropbox/DeepLearning/ProjetFilRou...   \n",
       "2017-09-25  /home/joseph/Dropbox/DeepLearning/ProjetFilRou...   \n",
       "2017-09-26  /home/joseph/Dropbox/DeepLearning/ProjetFilRou...   \n",
       "2017-09-27  /home/joseph/Dropbox/DeepLearning/ProjetFilRou...   \n",
       "2017-09-28  /home/joseph/Dropbox/DeepLearning/ProjetFilRou...   \n",
       "\n",
       "                                                 qvipnbusin02  \\\n",
       "2017-09-24  /home/joseph/Dropbox/DeepLearning/ProjetFilRou...   \n",
       "2017-09-25  /home/joseph/Dropbox/DeepLearning/ProjetFilRou...   \n",
       "2017-09-26  /home/joseph/Dropbox/DeepLearning/ProjetFilRou...   \n",
       "2017-09-27  /home/joseph/Dropbox/DeepLearning/ProjetFilRou...   \n",
       "2017-09-28  /home/joseph/Dropbox/DeepLearning/ProjetFilRou...   \n",
       "\n",
       "                                                 qvipnmonlx06  \\\n",
       "2017-09-24  /home/joseph/Dropbox/DeepLearning/ProjetFilRou...   \n",
       "2017-09-25  /home/joseph/Dropbox/DeepLearning/ProjetFilRou...   \n",
       "2017-09-26  /home/joseph/Dropbox/DeepLearning/ProjetFilRou...   \n",
       "2017-09-27  /home/joseph/Dropbox/DeepLearning/ProjetFilRou...   \n",
       "2017-09-28  /home/joseph/Dropbox/DeepLearning/ProjetFilRou...   \n",
       "\n",
       "                                                 qvipnmonlx10  \\\n",
       "2017-09-24  /home/joseph/Dropbox/DeepLearning/ProjetFilRou...   \n",
       "2017-09-25  /home/joseph/Dropbox/DeepLearning/ProjetFilRou...   \n",
       "2017-09-26  /home/joseph/Dropbox/DeepLearning/ProjetFilRou...   \n",
       "2017-09-27  /home/joseph/Dropbox/DeepLearning/ProjetFilRou...   \n",
       "2017-09-28  /home/joseph/Dropbox/DeepLearning/ProjetFilRou...   \n",
       "\n",
       "                                                 qvipnmonlx14  \\\n",
       "2017-09-24  /home/joseph/Dropbox/DeepLearning/ProjetFilRou...   \n",
       "2017-09-25  /home/joseph/Dropbox/DeepLearning/ProjetFilRou...   \n",
       "2017-09-26  /home/joseph/Dropbox/DeepLearning/ProjetFilRou...   \n",
       "2017-09-27  /home/joseph/Dropbox/DeepLearning/ProjetFilRou...   \n",
       "2017-09-28  /home/joseph/Dropbox/DeepLearning/ProjetFilRou...   \n",
       "\n",
       "                                                 qvipnmonlx16  \\\n",
       "2017-09-24  /home/joseph/Dropbox/DeepLearning/ProjetFilRou...   \n",
       "2017-09-25  /home/joseph/Dropbox/DeepLearning/ProjetFilRou...   \n",
       "2017-09-26  /home/joseph/Dropbox/DeepLearning/ProjetFilRou...   \n",
       "2017-09-27  /home/joseph/Dropbox/DeepLearning/ProjetFilRou...   \n",
       "2017-09-28  /home/joseph/Dropbox/DeepLearning/ProjetFilRou...   \n",
       "\n",
       "                                                 qviqbkarfs02  \\\n",
       "2017-09-24  /home/joseph/Dropbox/DeepLearning/ProjetFilRou...   \n",
       "2017-09-25  /home/joseph/Dropbox/DeepLearning/ProjetFilRou...   \n",
       "2017-09-26  /home/joseph/Dropbox/DeepLearning/ProjetFilRou...   \n",
       "2017-09-27  /home/joseph/Dropbox/DeepLearning/ProjetFilRou...   \n",
       "2017-09-28  /home/joseph/Dropbox/DeepLearning/ProjetFilRou...   \n",
       "\n",
       "                                                 qviqbocpno12  \\\n",
       "2017-09-24                                                  0   \n",
       "2017-09-25  /home/joseph/Dropbox/DeepLearning/ProjetFilRou...   \n",
       "2017-09-26  /home/joseph/Dropbox/DeepLearning/ProjetFilRou...   \n",
       "2017-09-27  /home/joseph/Dropbox/DeepLearning/ProjetFilRou...   \n",
       "2017-09-28  /home/joseph/Dropbox/DeepLearning/ProjetFilRou...   \n",
       "\n",
       "                                                 qviqbocpno14  \\\n",
       "2017-09-24  /home/joseph/Dropbox/DeepLearning/ProjetFilRou...   \n",
       "2017-09-25  /home/joseph/Dropbox/DeepLearning/ProjetFilRou...   \n",
       "2017-09-26  /home/joseph/Dropbox/DeepLearning/ProjetFilRou...   \n",
       "2017-09-27  /home/joseph/Dropbox/DeepLearning/ProjetFilRou...   \n",
       "2017-09-28  /home/joseph/Dropbox/DeepLearning/ProjetFilRou...   \n",
       "\n",
       "                                  ...                          \\\n",
       "2017-09-24                        ...                           \n",
       "2017-09-25                        ...                           \n",
       "2017-09-26                        ...                           \n",
       "2017-09-27                        ...                           \n",
       "2017-09-28                        ...                           \n",
       "\n",
       "                                                 qvirctbems04  \\\n",
       "2017-09-24  /home/joseph/Dropbox/DeepLearning/ProjetFilRou...   \n",
       "2017-09-25  /home/joseph/Dropbox/DeepLearning/ProjetFilRou...   \n",
       "2017-09-26  /home/joseph/Dropbox/DeepLearning/ProjetFilRou...   \n",
       "2017-09-27  /home/joseph/Dropbox/DeepLearning/ProjetFilRou...   \n",
       "2017-09-28  /home/joseph/Dropbox/DeepLearning/ProjetFilRou...   \n",
       "\n",
       "                                                 qvirnbdora02  \\\n",
       "2017-09-24  /home/joseph/Dropbox/DeepLearning/ProjetFilRou...   \n",
       "2017-09-25  /home/joseph/Dropbox/DeepLearning/ProjetFilRou...   \n",
       "2017-09-26  /home/joseph/Dropbox/DeepLearning/ProjetFilRou...   \n",
       "2017-09-27  /home/joseph/Dropbox/DeepLearning/ProjetFilRou...   \n",
       "2017-09-28  /home/joseph/Dropbox/DeepLearning/ProjetFilRou...   \n",
       "\n",
       "                                                 qvirnbdora04  \\\n",
       "2017-09-24  /home/joseph/Dropbox/DeepLearning/ProjetFilRou...   \n",
       "2017-09-25  /home/joseph/Dropbox/DeepLearning/ProjetFilRou...   \n",
       "2017-09-26  /home/joseph/Dropbox/DeepLearning/ProjetFilRou...   \n",
       "2017-09-27  /home/joseph/Dropbox/DeepLearning/ProjetFilRou...   \n",
       "2017-09-28  /home/joseph/Dropbox/DeepLearning/ProjetFilRou...   \n",
       "\n",
       "                                                 qvirnbusin02  \\\n",
       "2017-09-24  /home/joseph/Dropbox/DeepLearning/ProjetFilRou...   \n",
       "2017-09-25  /home/joseph/Dropbox/DeepLearning/ProjetFilRou...   \n",
       "2017-09-26  /home/joseph/Dropbox/DeepLearning/ProjetFilRou...   \n",
       "2017-09-27  /home/joseph/Dropbox/DeepLearning/ProjetFilRou...   \n",
       "2017-09-28  /home/joseph/Dropbox/DeepLearning/ProjetFilRou...   \n",
       "\n",
       "                                                qvitbbautin02  \\\n",
       "2017-09-24  /home/joseph/Dropbox/DeepLearning/ProjetFilRou...   \n",
       "2017-09-25  /home/joseph/Dropbox/DeepLearning/ProjetFilRou...   \n",
       "2017-09-26  /home/joseph/Dropbox/DeepLearning/ProjetFilRou...   \n",
       "2017-09-27  /home/joseph/Dropbox/DeepLearning/ProjetFilRou...   \n",
       "2017-09-28  /home/joseph/Dropbox/DeepLearning/ProjetFilRou...   \n",
       "\n",
       "                                                qvitbbautin04  \\\n",
       "2017-09-24  /home/joseph/Dropbox/DeepLearning/ProjetFilRou...   \n",
       "2017-09-25  /home/joseph/Dropbox/DeepLearning/ProjetFilRou...   \n",
       "2017-09-26  /home/joseph/Dropbox/DeepLearning/ProjetFilRou...   \n",
       "2017-09-27  /home/joseph/Dropbox/DeepLearning/ProjetFilRou...   \n",
       "2017-09-28  /home/joseph/Dropbox/DeepLearning/ProjetFilRou...   \n",
       "\n",
       "                                                qvitbbautin06  \\\n",
       "2017-09-24  /home/joseph/Dropbox/DeepLearning/ProjetFilRou...   \n",
       "2017-09-25  /home/joseph/Dropbox/DeepLearning/ProjetFilRou...   \n",
       "2017-09-26  /home/joseph/Dropbox/DeepLearning/ProjetFilRou...   \n",
       "2017-09-27  /home/joseph/Dropbox/DeepLearning/ProjetFilRou...   \n",
       "2017-09-28  /home/joseph/Dropbox/DeepLearning/ProjetFilRou...   \n",
       "\n",
       "                                                 qvitbcjbod02  \\\n",
       "2017-09-24  /home/joseph/Dropbox/DeepLearning/ProjetFilRou...   \n",
       "2017-09-25  /home/joseph/Dropbox/DeepLearning/ProjetFilRou...   \n",
       "2017-09-26  /home/joseph/Dropbox/DeepLearning/ProjetFilRou...   \n",
       "2017-09-27  /home/joseph/Dropbox/DeepLearning/ProjetFilRou...   \n",
       "2017-09-28  /home/joseph/Dropbox/DeepLearning/ProjetFilRou...   \n",
       "\n",
       "                                                 qvitntbems02  \\\n",
       "2017-09-24                                                  0   \n",
       "2017-09-25                                                  0   \n",
       "2017-09-26  /home/joseph/Dropbox/DeepLearning/ProjetFilRou...   \n",
       "2017-09-27  /home/joseph/Dropbox/DeepLearning/ProjetFilRou...   \n",
       "2017-09-28  /home/joseph/Dropbox/DeepLearning/ProjetFilRou...   \n",
       "\n",
       "                                                     qvitsys6  \n",
       "2017-09-24  /home/joseph/Dropbox/DeepLearning/ProjetFilRou...  \n",
       "2017-09-25  /home/joseph/Dropbox/DeepLearning/ProjetFilRou...  \n",
       "2017-09-26  /home/joseph/Dropbox/DeepLearning/ProjetFilRou...  \n",
       "2017-09-27  /home/joseph/Dropbox/DeepLearning/ProjetFilRou...  \n",
       "2017-09-28  /home/joseph/Dropbox/DeepLearning/ProjetFilRou...  \n",
       "\n",
       "[5 rows x 29 columns]"
      ]
     },
     "execution_count": 5,
     "metadata": {},
     "output_type": "execute_result"
    }
   ],
   "source": [
    "ServerName.head()"
   ]
  },
  {
   "cell_type": "code",
   "execution_count": 6,
   "metadata": {},
   "outputs": [
    {
     "data": {
      "text/plain": [
       "(33, 29)"
      ]
     },
     "execution_count": 6,
     "metadata": {},
     "output_type": "execute_result"
    }
   ],
   "source": [
    "ServerName.shape"
   ]
  },
  {
   "cell_type": "code",
   "execution_count": 7,
   "metadata": {},
   "outputs": [
    {
     "name": "stdout",
     "output_type": "stream",
     "text": [
      "<class 'pandas.core.indexes.datetimes.DatetimeIndex'>\n",
      "[datetime.date(2017, 10, 1), datetime.date(2017, 10, 2), datetime.date(2017, 10, 3), datetime.date(2017, 10, 4), datetime.date(2017, 10, 5), datetime.date(2017, 10, 6), datetime.date(2017, 10, 7), datetime.date(2017, 10, 8), datetime.date(2017, 10, 9), datetime.date(2017, 10, 10), datetime.date(2017, 10, 11), datetime.date(2017, 10, 12), datetime.date(2017, 10, 13), datetime.date(2017, 10, 14), datetime.date(2017, 10, 15), datetime.date(2017, 10, 16), datetime.date(2017, 10, 17), datetime.date(2017, 10, 18), datetime.date(2017, 10, 19), datetime.date(2017, 10, 20), datetime.date(2017, 10, 21), datetime.date(2017, 10, 22), datetime.date(2017, 10, 23), datetime.date(2017, 10, 24), datetime.date(2017, 10, 25), datetime.date(2017, 10, 26)]\n",
      "[datetime.date(2017, 9, 25) datetime.date(2017, 9, 26)\n",
      " datetime.date(2017, 9, 27) datetime.date(2017, 9, 28)\n",
      " datetime.date(2017, 9, 29) datetime.date(2017, 9, 30)\n",
      " datetime.date(2017, 9, 24)]\n"
     ]
    }
   ],
   "source": [
    "#Select a full week for learning even if not contiguous date\n",
    "date_available = ServerName[ServerName['qvipnbdora04'] != 0].index\n",
    "# let 's del the 2017-10-19\n",
    "#date_available = np.delete(date_available, np.argwhere(date_available == '2017-10-19')[0])\n",
    "# bug from 19:00 for 284 minutes without logs\n",
    "print(type(date_available))\n",
    "# let's take now the first full week\n",
    "date_ind = np.empty(7,dtype=dt.date)\n",
    "date_available_2 = np.empty(date_available.shape[0]-7,dtype=dt.date)\n",
    "for i in range(7):\n",
    "    d = date_available[int(np.argwhere(date_available.weekday ==i)[0])]\n",
    "    date_available = np.delete(date_available, np.argwhere(date_available == d)[0])\n",
    "    date_ind[i]= dt.date.fromtimestamp(d.timestamp())\n",
    "date_available_2 =[dt.date.fromtimestamp(d.timestamp()) for d in date_available]\n",
    "print(date_available_2)\n",
    "print(date_ind)"
   ]
  },
  {
   "cell_type": "code",
   "execution_count": 8,
   "metadata": {},
   "outputs": [
    {
     "data": {
      "text/plain": [
       "['/home/joseph/Dropbox/DeepLearning/ProjetFilRouge/AirFrance/logs/servers/qvipnbdora04.20170924.log',\n",
       " '/home/joseph/Dropbox/DeepLearning/ProjetFilRouge/AirFrance/logs/servers/qvipnbdora04.20170925.log',\n",
       " '/home/joseph/Dropbox/DeepLearning/ProjetFilRouge/AirFrance/logs/servers/qvipnbdora04.20170926.log',\n",
       " '/home/joseph/Dropbox/DeepLearning/ProjetFilRouge/AirFrance/logs/servers/qvipnbdora04.20170927.log',\n",
       " '/home/joseph/Dropbox/DeepLearning/ProjetFilRouge/AirFrance/logs/servers/qvipnbdora04.20170928.log',\n",
       " '/home/joseph/Dropbox/DeepLearning/ProjetFilRouge/AirFrance/logs/servers/qvipnbdora04.20170929.log',\n",
       " '/home/joseph/Dropbox/DeepLearning/ProjetFilRouge/AirFrance/logs/servers/qvipnbdora04.20170930.log',\n",
       " '/home/joseph/Dropbox/DeepLearning/ProjetFilRouge/AirFrance/logs/servers/qvipnbdora04.20171001.log',\n",
       " '/home/joseph/Dropbox/DeepLearning/ProjetFilRouge/AirFrance/logs/servers/qvipnbdora04.20171002.log',\n",
       " '/home/joseph/Dropbox/DeepLearning/ProjetFilRouge/AirFrance/logs/servers/qvipnbdora04.20171003.log',\n",
       " '/home/joseph/Dropbox/DeepLearning/ProjetFilRouge/AirFrance/logs/servers/qvipnbdora04.20171004.log',\n",
       " '/home/joseph/Dropbox/DeepLearning/ProjetFilRouge/AirFrance/logs/servers/qvipnbdora04.20171005.log',\n",
       " '/home/joseph/Dropbox/DeepLearning/ProjetFilRouge/AirFrance/logs/servers/qvipnbdora04.20171006.log',\n",
       " '/home/joseph/Dropbox/DeepLearning/ProjetFilRouge/AirFrance/logs/servers/qvipnbdora04.20171007.log',\n",
       " '/home/joseph/Dropbox/DeepLearning/ProjetFilRouge/AirFrance/logs/servers/qvipnbdora04.20171008.log',\n",
       " '/home/joseph/Dropbox/DeepLearning/ProjetFilRouge/AirFrance/logs/servers/qvipnbdora04.20171009.log',\n",
       " '/home/joseph/Dropbox/DeepLearning/ProjetFilRouge/AirFrance/logs/servers/qvipnbdora04.20171010.log',\n",
       " '/home/joseph/Dropbox/DeepLearning/ProjetFilRouge/AirFrance/logs/servers/qvipnbdora04.20171011.log',\n",
       " '/home/joseph/Dropbox/DeepLearning/ProjetFilRouge/AirFrance/logs/servers/qvipnbdora04.20171012.log',\n",
       " '/home/joseph/Dropbox/DeepLearning/ProjetFilRouge/AirFrance/logs/servers/qvipnbdora04.20171013.log',\n",
       " '/home/joseph/Dropbox/DeepLearning/ProjetFilRouge/AirFrance/logs/servers/qvipnbdora04.20171014.log',\n",
       " '/home/joseph/Dropbox/DeepLearning/ProjetFilRouge/AirFrance/logs/servers/qvipnbdora04.20171015.log',\n",
       " '/home/joseph/Dropbox/DeepLearning/ProjetFilRouge/AirFrance/logs/servers/qvipnbdora04.20171016.log',\n",
       " '/home/joseph/Dropbox/DeepLearning/ProjetFilRouge/AirFrance/logs/servers/qvipnbdora04.20171017.log',\n",
       " '/home/joseph/Dropbox/DeepLearning/ProjetFilRouge/AirFrance/logs/servers/qvipnbdora04.20171018.log',\n",
       " '/home/joseph/Dropbox/DeepLearning/ProjetFilRouge/AirFrance/logs/servers/qvipnbdora04.20171019.log',\n",
       " '/home/joseph/Dropbox/DeepLearning/ProjetFilRouge/AirFrance/logs/servers/qvipnbdora04.20171020.log',\n",
       " '/home/joseph/Dropbox/DeepLearning/ProjetFilRouge/AirFrance/logs/servers/qvipnbdora04.20171021.log',\n",
       " '/home/joseph/Dropbox/DeepLearning/ProjetFilRouge/AirFrance/logs/servers/qvipnbdora04.20171022.log',\n",
       " '/home/joseph/Dropbox/DeepLearning/ProjetFilRouge/AirFrance/logs/servers/qvipnbdora04.20171023.log',\n",
       " '/home/joseph/Dropbox/DeepLearning/ProjetFilRouge/AirFrance/logs/servers/qvipnbdora04.20171024.log',\n",
       " '/home/joseph/Dropbox/DeepLearning/ProjetFilRouge/AirFrance/logs/servers/qvipnbdora04.20171025.log',\n",
       " '/home/joseph/Dropbox/DeepLearning/ProjetFilRouge/AirFrance/logs/servers/qvipnbdora04.20171026.log']"
      ]
     },
     "execution_count": 8,
     "metadata": {},
     "output_type": "execute_result"
    }
   ],
   "source": [
    "log_data_list = ServerName.loc[:,'qvipnbdora04'].values\n",
    "log_data_list = [i for i in log_data_list if i !=0 ]\n",
    "log_data_list"
   ]
  },
  {
   "cell_type": "code",
   "execution_count": 9,
   "metadata": {},
   "outputs": [
    {
     "name": "stdout",
     "output_type": "stream",
     "text": [
      "[Success] Logs parsed within 2.12s\n"
     ]
    }
   ],
   "source": [
    "#Log Clustering\n",
    "\n",
    "analyzer = MessageLogAnalyzer()\n",
    "\n",
    "# Import des logs\n",
    "logs = read_dir('../logs/servers/*qvipnbdora04*')\n",
    "\n",
    "# Parsing des logs en df\n",
    "df_log = parse_all(logs)\n",
    "\n",
    "df_log.to_csv('dataframe.csv')"
   ]
  },
  {
   "cell_type": "code",
   "execution_count": 10,
   "metadata": {},
   "outputs": [
    {
     "name": "stderr",
     "output_type": "stream",
     "text": [
      "/home/joseph/.local/lib/python3.6/site-packages/IPython/core/interactiveshell.py:2728: DtypeWarning: Columns (15,18,19,20,21,22,23,24,25,26,27,28,29,30,31,32,33,34,35,36,37,38,39,40,41,42,43,44,45,46,47,48,49,50,51,52,53,54,55,56,57,58,59,60,61,62,63,64,65,66,67,68,69,70) have mixed types. Specify dtype option on import or set low_memory=False.\n",
      "  interactivity=interactivity, compiler=compiler, result=result)\n"
     ]
    },
    {
     "data": {
      "text/html": [
       "<div>\n",
       "<style scoped>\n",
       "    .dataframe tbody tr th:only-of-type {\n",
       "        vertical-align: middle;\n",
       "    }\n",
       "\n",
       "    .dataframe tbody tr th {\n",
       "        vertical-align: top;\n",
       "    }\n",
       "\n",
       "    .dataframe thead th {\n",
       "        text-align: right;\n",
       "    }\n",
       "</style>\n",
       "<table border=\"1\" class=\"dataframe\">\n",
       "  <thead>\n",
       "    <tr style=\"text-align: right;\">\n",
       "      <th></th>\n",
       "      <th>timestamp</th>\n",
       "      <th>0</th>\n",
       "      <th>1</th>\n",
       "      <th>2</th>\n",
       "      <th>3</th>\n",
       "      <th>4</th>\n",
       "      <th>5</th>\n",
       "      <th>6</th>\n",
       "      <th>7</th>\n",
       "      <th>8</th>\n",
       "      <th>...</th>\n",
       "      <th>60</th>\n",
       "      <th>61</th>\n",
       "      <th>62</th>\n",
       "      <th>63</th>\n",
       "      <th>64</th>\n",
       "      <th>65</th>\n",
       "      <th>66</th>\n",
       "      <th>67</th>\n",
       "      <th>68</th>\n",
       "      <th>69</th>\n",
       "    </tr>\n",
       "  </thead>\n",
       "  <tbody>\n",
       "    <tr>\n",
       "      <th>0</th>\n",
       "      <td>2017-10-20 10:09:06</td>\n",
       "      <td>qvipnbdora04</td>\n",
       "      <td>kernel:</td>\n",
       "      <td>Initializing</td>\n",
       "      <td>cgroup</td>\n",
       "      <td>subsys</td>\n",
       "      <td>cpuset</td>\n",
       "      <td>NaN</td>\n",
       "      <td>NaN</td>\n",
       "      <td>NaN</td>\n",
       "      <td>...</td>\n",
       "      <td>NaN</td>\n",
       "      <td>NaN</td>\n",
       "      <td>NaN</td>\n",
       "      <td>NaN</td>\n",
       "      <td>NaN</td>\n",
       "      <td>NaN</td>\n",
       "      <td>NaN</td>\n",
       "      <td>NaN</td>\n",
       "      <td>NaN</td>\n",
       "      <td>NaN</td>\n",
       "    </tr>\n",
       "    <tr>\n",
       "      <th>1</th>\n",
       "      <td>2017-10-20 10:09:06</td>\n",
       "      <td>qvipnbdora04</td>\n",
       "      <td>kernel:</td>\n",
       "      <td>Initializing</td>\n",
       "      <td>cgroup</td>\n",
       "      <td>subsys</td>\n",
       "      <td>cpu</td>\n",
       "      <td>NaN</td>\n",
       "      <td>NaN</td>\n",
       "      <td>NaN</td>\n",
       "      <td>...</td>\n",
       "      <td>NaN</td>\n",
       "      <td>NaN</td>\n",
       "      <td>NaN</td>\n",
       "      <td>NaN</td>\n",
       "      <td>NaN</td>\n",
       "      <td>NaN</td>\n",
       "      <td>NaN</td>\n",
       "      <td>NaN</td>\n",
       "      <td>NaN</td>\n",
       "      <td>NaN</td>\n",
       "    </tr>\n",
       "    <tr>\n",
       "      <th>2</th>\n",
       "      <td>2017-10-20 10:09:06</td>\n",
       "      <td>qvipnbdora04</td>\n",
       "      <td>kernel:</td>\n",
       "      <td>Linux</td>\n",
       "      <td>version</td>\n",
       "      <td>339.275.859-307.3.307.el275.x86_64</td>\n",
       "      <td>(mockbuild@x86-029.build.eng.bos.redhat.com)</td>\n",
       "      <td>(gcc version 4.4.7 20120313 (Red Hat 4.4.7-9)</td>\n",
       "      <td>(GCC)</td>\n",
       "      <td>)</td>\n",
       "      <td>...</td>\n",
       "      <td>NaN</td>\n",
       "      <td>NaN</td>\n",
       "      <td>NaN</td>\n",
       "      <td>NaN</td>\n",
       "      <td>NaN</td>\n",
       "      <td>NaN</td>\n",
       "      <td>NaN</td>\n",
       "      <td>NaN</td>\n",
       "      <td>NaN</td>\n",
       "      <td>NaN</td>\n",
       "    </tr>\n",
       "    <tr>\n",
       "      <th>3</th>\n",
       "      <td>2017-10-20 10:09:06</td>\n",
       "      <td>qvipnbdora04</td>\n",
       "      <td>kernel:</td>\n",
       "      <td>Command</td>\n",
       "      <td>line:</td>\n",
       "      <td>ro</td>\n",
       "      <td>rdloaddriver</td>\n",
       "      <td>megaraid_sas</td>\n",
       "      <td>rdloaddriver</td>\n",
       "      <td>qla2xxx</td>\n",
       "      <td>...</td>\n",
       "      <td>NaN</td>\n",
       "      <td>NaN</td>\n",
       "      <td>NaN</td>\n",
       "      <td>NaN</td>\n",
       "      <td>NaN</td>\n",
       "      <td>NaN</td>\n",
       "      <td>NaN</td>\n",
       "      <td>NaN</td>\n",
       "      <td>NaN</td>\n",
       "      <td>NaN</td>\n",
       "    </tr>\n",
       "    <tr>\n",
       "      <th>4</th>\n",
       "      <td>2017-10-20 10:09:06</td>\n",
       "      <td>qvipnbdora04</td>\n",
       "      <td>kernel:</td>\n",
       "      <td>KERNEL</td>\n",
       "      <td>supported</td>\n",
       "      <td>cpus:</td>\n",
       "      <td>NaN</td>\n",
       "      <td>NaN</td>\n",
       "      <td>NaN</td>\n",
       "      <td>NaN</td>\n",
       "      <td>...</td>\n",
       "      <td>NaN</td>\n",
       "      <td>NaN</td>\n",
       "      <td>NaN</td>\n",
       "      <td>NaN</td>\n",
       "      <td>NaN</td>\n",
       "      <td>NaN</td>\n",
       "      <td>NaN</td>\n",
       "      <td>NaN</td>\n",
       "      <td>NaN</td>\n",
       "      <td>NaN</td>\n",
       "    </tr>\n",
       "  </tbody>\n",
       "</table>\n",
       "<p>5 rows × 71 columns</p>\n",
       "</div>"
      ],
      "text/plain": [
       "             timestamp             0        1             2          3  \\\n",
       "0  2017-10-20 10:09:06  qvipnbdora04  kernel:  Initializing     cgroup   \n",
       "1  2017-10-20 10:09:06  qvipnbdora04  kernel:  Initializing     cgroup   \n",
       "2  2017-10-20 10:09:06  qvipnbdora04  kernel:         Linux    version   \n",
       "3  2017-10-20 10:09:06  qvipnbdora04  kernel:       Command      line:   \n",
       "4  2017-10-20 10:09:06  qvipnbdora04  kernel:        KERNEL  supported   \n",
       "\n",
       "                                    4  \\\n",
       "0                              subsys   \n",
       "1                              subsys   \n",
       "2  339.275.859-307.3.307.el275.x86_64   \n",
       "3                                  ro   \n",
       "4                               cpus:   \n",
       "\n",
       "                                              5  \\\n",
       "0                                        cpuset   \n",
       "1                                           cpu   \n",
       "2  (mockbuild@x86-029.build.eng.bos.redhat.com)   \n",
       "3                                  rdloaddriver   \n",
       "4                                           NaN   \n",
       "\n",
       "                                               6             7        8 ...   \\\n",
       "0                                            NaN           NaN      NaN ...    \n",
       "1                                            NaN           NaN      NaN ...    \n",
       "2  (gcc version 4.4.7 20120313 (Red Hat 4.4.7-9)         (GCC)        ) ...    \n",
       "3                                   megaraid_sas  rdloaddriver  qla2xxx ...    \n",
       "4                                            NaN           NaN      NaN ...    \n",
       "\n",
       "    60   61   62   63   64   65   66   67   68   69  \n",
       "0  NaN  NaN  NaN  NaN  NaN  NaN  NaN  NaN  NaN  NaN  \n",
       "1  NaN  NaN  NaN  NaN  NaN  NaN  NaN  NaN  NaN  NaN  \n",
       "2  NaN  NaN  NaN  NaN  NaN  NaN  NaN  NaN  NaN  NaN  \n",
       "3  NaN  NaN  NaN  NaN  NaN  NaN  NaN  NaN  NaN  NaN  \n",
       "4  NaN  NaN  NaN  NaN  NaN  NaN  NaN  NaN  NaN  NaN  \n",
       "\n",
       "[5 rows x 71 columns]"
      ]
     },
     "execution_count": 10,
     "metadata": {},
     "output_type": "execute_result"
    }
   ],
   "source": [
    "df_log = pd.read_csv('dataframe.csv')\n",
    "df_log.head()"
   ]
  },
  {
   "cell_type": "code",
   "execution_count": 11,
   "metadata": {},
   "outputs": [],
   "source": [
    "# I have to preprocess the dataframe, put timestamp in index in order to get\n",
    "# the 3 datasets (1 for profiling, 2nd to set distributionn, 3rd to test)\n",
    "df_log.index = pd.to_datetime(df_log.timestamp, format='%Y-%m-%d %H:%M:%S')\n",
    "df_log = df_log.sort_index()"
   ]
  },
  {
   "cell_type": "code",
   "execution_count": 12,
   "metadata": {},
   "outputs": [
    {
     "data": {
      "text/plain": [
       "['2017-09-25',\n",
       " '2017-09-26',\n",
       " '2017-09-27',\n",
       " '2017-09-28',\n",
       " '2017-09-29',\n",
       " '2017-09-30',\n",
       " '2017-09-24']"
      ]
     },
     "execution_count": 12,
     "metadata": {},
     "output_type": "execute_result"
    }
   ],
   "source": [
    "date_profile = [t.isoformat() for t in date_ind]\n",
    "date_train = [t.isoformat() for t in date_available_2]\n",
    "date_profile"
   ]
  },
  {
   "cell_type": "code",
   "execution_count": 13,
   "metadata": {},
   "outputs": [
    {
     "data": {
      "text/plain": [
       "['2017-10-01',\n",
       " '2017-10-02',\n",
       " '2017-10-03',\n",
       " '2017-10-04',\n",
       " '2017-10-05',\n",
       " '2017-10-06',\n",
       " '2017-10-07',\n",
       " '2017-10-08',\n",
       " '2017-10-09',\n",
       " '2017-10-10',\n",
       " '2017-10-11',\n",
       " '2017-10-12',\n",
       " '2017-10-13',\n",
       " '2017-10-14',\n",
       " '2017-10-15',\n",
       " '2017-10-16',\n",
       " '2017-10-17',\n",
       " '2017-10-18',\n",
       " '2017-10-19',\n",
       " '2017-10-20',\n",
       " '2017-10-21',\n",
       " '2017-10-22',\n",
       " '2017-10-23',\n",
       " '2017-10-24',\n",
       " '2017-10-25',\n",
       " '2017-10-26']"
      ]
     },
     "execution_count": 13,
     "metadata": {},
     "output_type": "execute_result"
    }
   ],
   "source": [
    "date_train"
   ]
  },
  {
   "cell_type": "code",
   "execution_count": 14,
   "metadata": {},
   "outputs": [
    {
     "data": {
      "text/html": [
       "<div>\n",
       "<style scoped>\n",
       "    .dataframe tbody tr th:only-of-type {\n",
       "        vertical-align: middle;\n",
       "    }\n",
       "\n",
       "    .dataframe tbody tr th {\n",
       "        vertical-align: top;\n",
       "    }\n",
       "\n",
       "    .dataframe thead th {\n",
       "        text-align: right;\n",
       "    }\n",
       "</style>\n",
       "<table border=\"1\" class=\"dataframe\">\n",
       "  <thead>\n",
       "    <tr style=\"text-align: right;\">\n",
       "      <th></th>\n",
       "      <th>timestamp</th>\n",
       "      <th>0</th>\n",
       "      <th>1</th>\n",
       "      <th>2</th>\n",
       "      <th>3</th>\n",
       "      <th>4</th>\n",
       "      <th>5</th>\n",
       "      <th>6</th>\n",
       "      <th>7</th>\n",
       "      <th>8</th>\n",
       "      <th>...</th>\n",
       "      <th>60</th>\n",
       "      <th>61</th>\n",
       "      <th>62</th>\n",
       "      <th>63</th>\n",
       "      <th>64</th>\n",
       "      <th>65</th>\n",
       "      <th>66</th>\n",
       "      <th>67</th>\n",
       "      <th>68</th>\n",
       "      <th>69</th>\n",
       "    </tr>\n",
       "    <tr>\n",
       "      <th>timestamp</th>\n",
       "      <th></th>\n",
       "      <th></th>\n",
       "      <th></th>\n",
       "      <th></th>\n",
       "      <th></th>\n",
       "      <th></th>\n",
       "      <th></th>\n",
       "      <th></th>\n",
       "      <th></th>\n",
       "      <th></th>\n",
       "      <th></th>\n",
       "      <th></th>\n",
       "      <th></th>\n",
       "      <th></th>\n",
       "      <th></th>\n",
       "      <th></th>\n",
       "      <th></th>\n",
       "      <th></th>\n",
       "      <th></th>\n",
       "      <th></th>\n",
       "      <th></th>\n",
       "    </tr>\n",
       "  </thead>\n",
       "  <tbody>\n",
       "    <tr>\n",
       "      <th>2017-09-24 00:00:54</th>\n",
       "      <td>2017-09-24 00:00:54</td>\n",
       "      <td>qvipnbdora04</td>\n",
       "      <td>su:</td>\n",
       "      <td>pam_unix(su:session):</td>\n",
       "      <td>session</td>\n",
       "      <td>opened</td>\n",
       "      <td>for</td>\n",
       "      <td>user</td>\n",
       "      <td>oracle</td>\n",
       "      <td>by</td>\n",
       "      <td>...</td>\n",
       "      <td>NaN</td>\n",
       "      <td>NaN</td>\n",
       "      <td>NaN</td>\n",
       "      <td>NaN</td>\n",
       "      <td>NaN</td>\n",
       "      <td>NaN</td>\n",
       "      <td>NaN</td>\n",
       "      <td>NaN</td>\n",
       "      <td>NaN</td>\n",
       "      <td>NaN</td>\n",
       "    </tr>\n",
       "    <tr>\n",
       "      <th>2017-09-24 00:00:54</th>\n",
       "      <td>2017-09-24 00:00:54</td>\n",
       "      <td>qvipnbdora04</td>\n",
       "      <td>su:</td>\n",
       "      <td>pam_unix(su:session):</td>\n",
       "      <td>session</td>\n",
       "      <td>opened</td>\n",
       "      <td>for</td>\n",
       "      <td>user</td>\n",
       "      <td>oracle</td>\n",
       "      <td>by</td>\n",
       "      <td>...</td>\n",
       "      <td>NaN</td>\n",
       "      <td>NaN</td>\n",
       "      <td>NaN</td>\n",
       "      <td>NaN</td>\n",
       "      <td>NaN</td>\n",
       "      <td>NaN</td>\n",
       "      <td>NaN</td>\n",
       "      <td>NaN</td>\n",
       "      <td>NaN</td>\n",
       "      <td>NaN</td>\n",
       "    </tr>\n",
       "    <tr>\n",
       "      <th>2017-09-24 00:00:54</th>\n",
       "      <td>2017-09-24 00:00:54</td>\n",
       "      <td>qvipnbdora04</td>\n",
       "      <td>su:</td>\n",
       "      <td>pam_unix(su:session):</td>\n",
       "      <td>session</td>\n",
       "      <td>closed</td>\n",
       "      <td>for</td>\n",
       "      <td>user</td>\n",
       "      <td>oracle</td>\n",
       "      <td>NaN</td>\n",
       "      <td>...</td>\n",
       "      <td>NaN</td>\n",
       "      <td>NaN</td>\n",
       "      <td>NaN</td>\n",
       "      <td>NaN</td>\n",
       "      <td>NaN</td>\n",
       "      <td>NaN</td>\n",
       "      <td>NaN</td>\n",
       "      <td>NaN</td>\n",
       "      <td>NaN</td>\n",
       "      <td>NaN</td>\n",
       "    </tr>\n",
       "    <tr>\n",
       "      <th>2017-09-24 00:00:54</th>\n",
       "      <td>2017-09-24 00:00:54</td>\n",
       "      <td>qvipnbdora04</td>\n",
       "      <td>su:</td>\n",
       "      <td>pam_unix(su:session):</td>\n",
       "      <td>session</td>\n",
       "      <td>opened</td>\n",
       "      <td>for</td>\n",
       "      <td>user</td>\n",
       "      <td>oracle</td>\n",
       "      <td>by</td>\n",
       "      <td>...</td>\n",
       "      <td>NaN</td>\n",
       "      <td>NaN</td>\n",
       "      <td>NaN</td>\n",
       "      <td>NaN</td>\n",
       "      <td>NaN</td>\n",
       "      <td>NaN</td>\n",
       "      <td>NaN</td>\n",
       "      <td>NaN</td>\n",
       "      <td>NaN</td>\n",
       "      <td>NaN</td>\n",
       "    </tr>\n",
       "    <tr>\n",
       "      <th>2017-09-24 00:00:54</th>\n",
       "      <td>2017-09-24 00:00:54</td>\n",
       "      <td>qvipnbdora04</td>\n",
       "      <td>su:</td>\n",
       "      <td>pam_unix(su:session):</td>\n",
       "      <td>session</td>\n",
       "      <td>closed</td>\n",
       "      <td>for</td>\n",
       "      <td>user</td>\n",
       "      <td>oracle</td>\n",
       "      <td>NaN</td>\n",
       "      <td>...</td>\n",
       "      <td>NaN</td>\n",
       "      <td>NaN</td>\n",
       "      <td>NaN</td>\n",
       "      <td>NaN</td>\n",
       "      <td>NaN</td>\n",
       "      <td>NaN</td>\n",
       "      <td>NaN</td>\n",
       "      <td>NaN</td>\n",
       "      <td>NaN</td>\n",
       "      <td>NaN</td>\n",
       "    </tr>\n",
       "  </tbody>\n",
       "</table>\n",
       "<p>5 rows × 71 columns</p>\n",
       "</div>"
      ],
      "text/plain": [
       "                               timestamp             0    1  \\\n",
       "timestamp                                                     \n",
       "2017-09-24 00:00:54  2017-09-24 00:00:54  qvipnbdora04  su:   \n",
       "2017-09-24 00:00:54  2017-09-24 00:00:54  qvipnbdora04  su:   \n",
       "2017-09-24 00:00:54  2017-09-24 00:00:54  qvipnbdora04  su:   \n",
       "2017-09-24 00:00:54  2017-09-24 00:00:54  qvipnbdora04  su:   \n",
       "2017-09-24 00:00:54  2017-09-24 00:00:54  qvipnbdora04  su:   \n",
       "\n",
       "                                         2        3       4    5     6  \\\n",
       "timestamp                                                                \n",
       "2017-09-24 00:00:54  pam_unix(su:session):  session  opened  for  user   \n",
       "2017-09-24 00:00:54  pam_unix(su:session):  session  opened  for  user   \n",
       "2017-09-24 00:00:54  pam_unix(su:session):  session  closed  for  user   \n",
       "2017-09-24 00:00:54  pam_unix(su:session):  session  opened  for  user   \n",
       "2017-09-24 00:00:54  pam_unix(su:session):  session  closed  for  user   \n",
       "\n",
       "                          7    8 ...    60   61   62   63   64   65   66   67  \\\n",
       "timestamp                        ...                                            \n",
       "2017-09-24 00:00:54  oracle   by ...   NaN  NaN  NaN  NaN  NaN  NaN  NaN  NaN   \n",
       "2017-09-24 00:00:54  oracle   by ...   NaN  NaN  NaN  NaN  NaN  NaN  NaN  NaN   \n",
       "2017-09-24 00:00:54  oracle  NaN ...   NaN  NaN  NaN  NaN  NaN  NaN  NaN  NaN   \n",
       "2017-09-24 00:00:54  oracle   by ...   NaN  NaN  NaN  NaN  NaN  NaN  NaN  NaN   \n",
       "2017-09-24 00:00:54  oracle  NaN ...   NaN  NaN  NaN  NaN  NaN  NaN  NaN  NaN   \n",
       "\n",
       "                      68   69  \n",
       "timestamp                      \n",
       "2017-09-24 00:00:54  NaN  NaN  \n",
       "2017-09-24 00:00:54  NaN  NaN  \n",
       "2017-09-24 00:00:54  NaN  NaN  \n",
       "2017-09-24 00:00:54  NaN  NaN  \n",
       "2017-09-24 00:00:54  NaN  NaN  \n",
       "\n",
       "[5 rows x 71 columns]"
      ]
     },
     "execution_count": 14,
     "metadata": {},
     "output_type": "execute_result"
    }
   ],
   "source": [
    "#resample nous demande une semaine contigu\n",
    "mask = (df_log.index >= date_profile[6]) & (df_log.index <= date_profile[5])\n",
    "data_profile = df_log.loc[mask]\n",
    "data_profile.head()"
   ]
  },
  {
   "cell_type": "code",
   "execution_count": 15,
   "metadata": {},
   "outputs": [
    {
     "data": {
      "text/plain": [
       "17974"
      ]
     },
     "execution_count": 15,
     "metadata": {},
     "output_type": "execute_result"
    }
   ],
   "source": [
    "len(data_profile['2017-09-29'])"
   ]
  },
  {
   "cell_type": "code",
   "execution_count": 22,
   "metadata": {},
   "outputs": [],
   "source": [
    "distribution_init = sortedcontainers.SortedDict(sortedcontainers.SortedList())\n",
    "for i in range(7):\n",
    "    distribution_init[i]=sortedcontainers.SortedList([0,np.inf])"
   ]
  },
  {
   "cell_type": "code",
   "execution_count": 23,
   "metadata": {},
   "outputs": [],
   "source": [
    "# Server Profile Learning (data, parameters, distribution, distribution_period, level_threshold)\n",
    "%autoreload \n",
    "period = 1\n",
    "m_avg_period = 5\n",
    "dist_period = 15\n",
    "dist_radius = 5\n",
    "parameters = np.asarray([period, m_avg_period, dist_period, dist_radius])\n",
    "distribution_period = 60*24 # 1 distribution for each day\n",
    "level_threshold = 1e-2 # For defining outliers\n",
    "distribution = distribution_init\n",
    "processus = True"
   ]
  },
  {
   "cell_type": "code",
   "execution_count": 24,
   "metadata": {},
   "outputs": [
    {
     "name": "stdout",
     "output_type": "stream",
     "text": [
      "Learning Serverqvipnbdora04 Done in 1.3469529151916504\n"
     ]
    }
   ],
   "source": [
    "server_profile = spl.ServerProfileLearning(data_profile,parameters, distribution,distribution_period,level_threshold, processus)\n",
    "server_profile.set_profile()"
   ]
  },
  {
   "cell_type": "code",
   "execution_count": 25,
   "metadata": {},
   "outputs": [
    {
     "data": {
      "text/plain": [
       "dict_keys(['qvipnbdora04_general'])"
      ]
     },
     "execution_count": 25,
     "metadata": {},
     "output_type": "execute_result"
    }
   ],
   "source": [
    "server_profile.server_profile.keys()"
   ]
  },
  {
   "cell_type": "code",
   "execution_count": 26,
   "metadata": {},
   "outputs": [
    {
     "data": {
      "text/plain": [
       "61"
      ]
     },
     "execution_count": 26,
     "metadata": {},
     "output_type": "execute_result"
    }
   ],
   "source": [
    "server_profile.server_profile['qvipnbdora04_general'].max_spread"
   ]
  },
  {
   "cell_type": "code",
   "execution_count": 27,
   "metadata": {},
   "outputs": [
    {
     "data": {
      "text/plain": [
       "dict_items([('Area_Difference', []), ('Max_Spread', [])])"
      ]
     },
     "execution_count": 27,
     "metadata": {},
     "output_type": "execute_result"
    }
   ],
   "source": [
    "server_profile.measures[0].items()"
   ]
  },
  {
   "cell_type": "code",
   "execution_count": 28,
   "metadata": {},
   "outputs": [
    {
     "data": {
      "text/plain": [
       "[<matplotlib.lines.Line2D at 0x7fa61d21d3c8>]"
      ]
     },
     "execution_count": 28,
     "metadata": {},
     "output_type": "execute_result"
    },
    {
     "data": {
      "image/png": "[encoded data removed]",
      "text/plain": [
       "<Figure size 2160x1440 with 1 Axes>"
      ]
     },
     "metadata": {},
     "output_type": "display_data"
    }
   ],
   "source": [
    "plt.figure(figsize=(30,20))\n",
    "plt.plot(server_profile.server_profile['qvipnbdora04_general'].profile['2017-09-29'])"
   ]
  },
  {
   "cell_type": "code",
   "execution_count": 29,
   "metadata": {},
   "outputs": [],
   "source": [
    "mask = (df_log.index >= date_train[0]) & (df_log.index <= date_train[17])\n",
    "data = df_log.loc[mask]"
   ]
  },
  {
   "cell_type": "code",
   "execution_count": 30,
   "metadata": {},
   "outputs": [
    {
     "data": {
      "text/html": [
       "<div>\n",
       "<style scoped>\n",
       "    .dataframe tbody tr th:only-of-type {\n",
       "        vertical-align: middle;\n",
       "    }\n",
       "\n",
       "    .dataframe tbody tr th {\n",
       "        vertical-align: top;\n",
       "    }\n",
       "\n",
       "    .dataframe thead th {\n",
       "        text-align: right;\n",
       "    }\n",
       "</style>\n",
       "<table border=\"1\" class=\"dataframe\">\n",
       "  <thead>\n",
       "    <tr style=\"text-align: right;\">\n",
       "      <th></th>\n",
       "      <th>timestamp</th>\n",
       "      <th>0</th>\n",
       "      <th>1</th>\n",
       "      <th>2</th>\n",
       "      <th>3</th>\n",
       "      <th>4</th>\n",
       "      <th>5</th>\n",
       "      <th>6</th>\n",
       "      <th>7</th>\n",
       "      <th>8</th>\n",
       "      <th>...</th>\n",
       "      <th>60</th>\n",
       "      <th>61</th>\n",
       "      <th>62</th>\n",
       "      <th>63</th>\n",
       "      <th>64</th>\n",
       "      <th>65</th>\n",
       "      <th>66</th>\n",
       "      <th>67</th>\n",
       "      <th>68</th>\n",
       "      <th>69</th>\n",
       "    </tr>\n",
       "    <tr>\n",
       "      <th>timestamp</th>\n",
       "      <th></th>\n",
       "      <th></th>\n",
       "      <th></th>\n",
       "      <th></th>\n",
       "      <th></th>\n",
       "      <th></th>\n",
       "      <th></th>\n",
       "      <th></th>\n",
       "      <th></th>\n",
       "      <th></th>\n",
       "      <th></th>\n",
       "      <th></th>\n",
       "      <th></th>\n",
       "      <th></th>\n",
       "      <th></th>\n",
       "      <th></th>\n",
       "      <th></th>\n",
       "      <th></th>\n",
       "      <th></th>\n",
       "      <th></th>\n",
       "      <th></th>\n",
       "    </tr>\n",
       "  </thead>\n",
       "  <tbody>\n",
       "    <tr>\n",
       "      <th>2017-10-01 00:00:54</th>\n",
       "      <td>2017-10-01 00:00:54</td>\n",
       "      <td>qvipnbdora04</td>\n",
       "      <td>su:</td>\n",
       "      <td>pam_unix(su:session):</td>\n",
       "      <td>session</td>\n",
       "      <td>opened</td>\n",
       "      <td>for</td>\n",
       "      <td>user</td>\n",
       "      <td>oracle</td>\n",
       "      <td>by</td>\n",
       "      <td>...</td>\n",
       "      <td>NaN</td>\n",
       "      <td>NaN</td>\n",
       "      <td>NaN</td>\n",
       "      <td>NaN</td>\n",
       "      <td>NaN</td>\n",
       "      <td>NaN</td>\n",
       "      <td>NaN</td>\n",
       "      <td>NaN</td>\n",
       "      <td>NaN</td>\n",
       "      <td>NaN</td>\n",
       "    </tr>\n",
       "    <tr>\n",
       "      <th>2017-10-01 00:00:54</th>\n",
       "      <td>2017-10-01 00:00:54</td>\n",
       "      <td>qvipnbdora04</td>\n",
       "      <td>su:</td>\n",
       "      <td>pam_unix(su:session):</td>\n",
       "      <td>session</td>\n",
       "      <td>opened</td>\n",
       "      <td>for</td>\n",
       "      <td>user</td>\n",
       "      <td>oracle</td>\n",
       "      <td>by</td>\n",
       "      <td>...</td>\n",
       "      <td>NaN</td>\n",
       "      <td>NaN</td>\n",
       "      <td>NaN</td>\n",
       "      <td>NaN</td>\n",
       "      <td>NaN</td>\n",
       "      <td>NaN</td>\n",
       "      <td>NaN</td>\n",
       "      <td>NaN</td>\n",
       "      <td>NaN</td>\n",
       "      <td>NaN</td>\n",
       "    </tr>\n",
       "    <tr>\n",
       "      <th>2017-10-01 00:00:54</th>\n",
       "      <td>2017-10-01 00:00:54</td>\n",
       "      <td>qvipnbdora04</td>\n",
       "      <td>su:</td>\n",
       "      <td>pam_unix(su:session):</td>\n",
       "      <td>session</td>\n",
       "      <td>closed</td>\n",
       "      <td>for</td>\n",
       "      <td>user</td>\n",
       "      <td>oracle</td>\n",
       "      <td>NaN</td>\n",
       "      <td>...</td>\n",
       "      <td>NaN</td>\n",
       "      <td>NaN</td>\n",
       "      <td>NaN</td>\n",
       "      <td>NaN</td>\n",
       "      <td>NaN</td>\n",
       "      <td>NaN</td>\n",
       "      <td>NaN</td>\n",
       "      <td>NaN</td>\n",
       "      <td>NaN</td>\n",
       "      <td>NaN</td>\n",
       "    </tr>\n",
       "    <tr>\n",
       "      <th>2017-10-01 00:00:54</th>\n",
       "      <td>2017-10-01 00:00:54</td>\n",
       "      <td>qvipnbdora04</td>\n",
       "      <td>su:</td>\n",
       "      <td>pam_unix(su:session):</td>\n",
       "      <td>session</td>\n",
       "      <td>opened</td>\n",
       "      <td>for</td>\n",
       "      <td>user</td>\n",
       "      <td>oracle</td>\n",
       "      <td>by</td>\n",
       "      <td>...</td>\n",
       "      <td>NaN</td>\n",
       "      <td>NaN</td>\n",
       "      <td>NaN</td>\n",
       "      <td>NaN</td>\n",
       "      <td>NaN</td>\n",
       "      <td>NaN</td>\n",
       "      <td>NaN</td>\n",
       "      <td>NaN</td>\n",
       "      <td>NaN</td>\n",
       "      <td>NaN</td>\n",
       "    </tr>\n",
       "    <tr>\n",
       "      <th>2017-10-01 00:00:54</th>\n",
       "      <td>2017-10-01 00:00:54</td>\n",
       "      <td>qvipnbdora04</td>\n",
       "      <td>su:</td>\n",
       "      <td>pam_unix(su:session):</td>\n",
       "      <td>session</td>\n",
       "      <td>closed</td>\n",
       "      <td>for</td>\n",
       "      <td>user</td>\n",
       "      <td>oracle</td>\n",
       "      <td>NaN</td>\n",
       "      <td>...</td>\n",
       "      <td>NaN</td>\n",
       "      <td>NaN</td>\n",
       "      <td>NaN</td>\n",
       "      <td>NaN</td>\n",
       "      <td>NaN</td>\n",
       "      <td>NaN</td>\n",
       "      <td>NaN</td>\n",
       "      <td>NaN</td>\n",
       "      <td>NaN</td>\n",
       "      <td>NaN</td>\n",
       "    </tr>\n",
       "  </tbody>\n",
       "</table>\n",
       "<p>5 rows × 71 columns</p>\n",
       "</div>"
      ],
      "text/plain": [
       "                               timestamp             0    1  \\\n",
       "timestamp                                                     \n",
       "2017-10-01 00:00:54  2017-10-01 00:00:54  qvipnbdora04  su:   \n",
       "2017-10-01 00:00:54  2017-10-01 00:00:54  qvipnbdora04  su:   \n",
       "2017-10-01 00:00:54  2017-10-01 00:00:54  qvipnbdora04  su:   \n",
       "2017-10-01 00:00:54  2017-10-01 00:00:54  qvipnbdora04  su:   \n",
       "2017-10-01 00:00:54  2017-10-01 00:00:54  qvipnbdora04  su:   \n",
       "\n",
       "                                         2        3       4    5     6  \\\n",
       "timestamp                                                                \n",
       "2017-10-01 00:00:54  pam_unix(su:session):  session  opened  for  user   \n",
       "2017-10-01 00:00:54  pam_unix(su:session):  session  opened  for  user   \n",
       "2017-10-01 00:00:54  pam_unix(su:session):  session  closed  for  user   \n",
       "2017-10-01 00:00:54  pam_unix(su:session):  session  opened  for  user   \n",
       "2017-10-01 00:00:54  pam_unix(su:session):  session  closed  for  user   \n",
       "\n",
       "                          7    8 ...    60   61   62   63   64   65   66   67  \\\n",
       "timestamp                        ...                                            \n",
       "2017-10-01 00:00:54  oracle   by ...   NaN  NaN  NaN  NaN  NaN  NaN  NaN  NaN   \n",
       "2017-10-01 00:00:54  oracle   by ...   NaN  NaN  NaN  NaN  NaN  NaN  NaN  NaN   \n",
       "2017-10-01 00:00:54  oracle  NaN ...   NaN  NaN  NaN  NaN  NaN  NaN  NaN  NaN   \n",
       "2017-10-01 00:00:54  oracle   by ...   NaN  NaN  NaN  NaN  NaN  NaN  NaN  NaN   \n",
       "2017-10-01 00:00:54  oracle  NaN ...   NaN  NaN  NaN  NaN  NaN  NaN  NaN  NaN   \n",
       "\n",
       "                      68   69  \n",
       "timestamp                      \n",
       "2017-10-01 00:00:54  NaN  NaN  \n",
       "2017-10-01 00:00:54  NaN  NaN  \n",
       "2017-10-01 00:00:54  NaN  NaN  \n",
       "2017-10-01 00:00:54  NaN  NaN  \n",
       "2017-10-01 00:00:54  NaN  NaN  \n",
       "\n",
       "[5 rows x 71 columns]"
      ]
     },
     "execution_count": 30,
     "metadata": {},
     "output_type": "execute_result"
    }
   ],
   "source": [
    "data.head()"
   ]
  },
  {
   "cell_type": "code",
   "execution_count": 31,
   "metadata": {},
   "outputs": [],
   "source": [
    "# learning the distribution hope we do not have any anomaly\n",
    "%autoreload \n",
    "distribution_init = sortedcontainers.SortedDict(sortedcontainers.SortedList())\n",
    "for i in range(7):\n",
    "    distribution_init[i]=sortedcontainers.SortedList([0,np.inf])\n",
    "server_profile.verbose = False\n",
    "server_profile.level_threshold = 1e-6\n",
    "server_profile.distribution = distribution_init\n",
    "server_profile.processus = True\n",
    "start_date = data.index[0]\n"
   ]
  },
  {
   "cell_type": "code",
   "execution_count": 32,
   "metadata": {},
   "outputs": [
    {
     "name": "stdout",
     "output_type": "stream",
     "text": [
      "day 1 accomplished in 108.42398738861084\n",
      "day 2 accomplished in 107.19506239891052\n",
      "day 3 accomplished in 106.97533845901489\n",
      "day 4 accomplished in 107.66491031646729\n",
      "day 5 accomplished in 108.01402258872986\n",
      "day 6 accomplished in 109.68374824523926\n",
      "day 7 accomplished in 107.96987104415894\n",
      "day 8 accomplished in 108.30523896217346\n",
      "day 9 accomplished in 108.76933431625366\n",
      "day 10 accomplished in 106.95132160186768\n",
      "day 11 accomplished in 111.42361950874329\n",
      "day 12 accomplished in 109.0090925693512\n",
      "day 13 accomplished in 108.05142164230347\n",
      "day 14 accomplished in 110.37319946289062\n",
      "day 15 accomplished in 110.56642484664917\n",
      "day 16 accomplished in 110.59619092941284\n"
     ]
    }
   ],
   "source": [
    "i=0\n",
    "start =time.time()\n",
    "while start_date + dt.timedelta(seconds=server_profile.parameters[0,2]*60) < data.index[-1]:\n",
    "    day = start_date.day\n",
    "    data_to_compute = data.loc[start_date:(start_date + dt.timedelta(seconds=server_profile.parameters[0,2]*60))]\n",
    "    anomaly, max_spread, min_spread, d, date, threshold, quant = server_profile.process_distance(data_to_compute)\n",
    "    start_date = start_date + dt.timedelta(minutes=1)\n",
    "    if start_date.day > day:\n",
    "        period = time.time()-start\n",
    "        print(\"day \"+str(day)+\" accomplished in \" +str(period))\n",
    "        start = time.time()\n",
    "    i+=1"
   ]
  },
  {
   "cell_type": "code",
   "execution_count": 33,
   "metadata": {},
   "outputs": [],
   "source": [
    "server_profile.distribution[0].remove(np.inf)\n",
    "server_profile.distribution[1].remove(np.inf)\n",
    "server_profile.distribution[2].remove(np.inf)\n",
    "server_profile.distribution[3].remove(np.inf)\n",
    "server_profile.distribution[4].remove(np.inf)\n",
    "server_profile.distribution[5].remove(np.inf)\n",
    "server_profile.distribution[6].remove(np.inf)"
   ]
  },
  {
   "cell_type": "code",
   "execution_count": 34,
   "metadata": {},
   "outputs": [
    {
     "name": "stderr",
     "output_type": "stream",
     "text": [
      "No handles with labels found to put in legend.\n"
     ]
    },
    {
     "data": {
      "image/png": "[encoded data removed]",
      "text/plain": [
       "<Figure size 2160x720 with 1 Axes>"
      ]
     },
     "metadata": {},
     "output_type": "display_data"
    }
   ],
   "source": [
    "# distribution jour \n",
    "import calendar\n",
    "plt.figure(figsize=(30,10))\n",
    "plt.hist(server_profile.distribution[0], bins = 'auto')\n",
    "plt.title(calendar.day_name[0])\n",
    "plt.legend()\n",
    "plt.show()"
   ]
  },
  {
   "cell_type": "code",
   "execution_count": 35,
   "metadata": {},
   "outputs": [
    {
     "name": "stderr",
     "output_type": "stream",
     "text": [
      "No handles with labels found to put in legend.\n"
     ]
    },
    {
     "data": {
      "image/png": "[encoded data removed]",
      "text/plain": [
       "<Figure size 2160x720 with 1 Axes>"
      ]
     },
     "metadata": {},
     "output_type": "display_data"
    }
   ],
   "source": [
    "import calendar\n",
    "plt.figure(figsize=(30,10))\n",
    "plt.hist(server_profile.distribution[3], bins ='auto')\n",
    "plt.title(calendar.day_name[3])\n",
    "plt.legend()\n",
    "plt.show()"
   ]
  },
  {
   "cell_type": "code",
   "execution_count": 39,
   "metadata": {},
   "outputs": [
    {
     "data": {
      "text/plain": [
       "[<matplotlib.lines.Line2D at 0x7fa61d534198>]"
      ]
     },
     "execution_count": 39,
     "metadata": {},
     "output_type": "execute_result"
    },
    {
     "data": {
      "image/png": "[encoded data removed]",
      "text/plain": [
       "<Figure size 2160x720 with 1 Axes>"
      ]
     },
     "metadata": {},
     "output_type": "display_data"
    }
   ],
   "source": [
    "plt.figure(figsize=(30,10))\n",
    "plt.plot(range(len(server_profile.measures[3]['Area_Difference'])),server_profile.measures[3]['Area_Difference'] )"
   ]
  },
  {
   "cell_type": "code",
   "execution_count": 46,
   "metadata": {},
   "outputs": [
    {
     "data": {
      "text/html": [
       "<div>\n",
       "<style scoped>\n",
       "    .dataframe tbody tr th:only-of-type {\n",
       "        vertical-align: middle;\n",
       "    }\n",
       "\n",
       "    .dataframe tbody tr th {\n",
       "        vertical-align: top;\n",
       "    }\n",
       "\n",
       "    .dataframe thead th {\n",
       "        text-align: right;\n",
       "    }\n",
       "</style>\n",
       "<table border=\"1\" class=\"dataframe\">\n",
       "  <thead>\n",
       "    <tr style=\"text-align: right;\">\n",
       "      <th></th>\n",
       "      <th>timestamp</th>\n",
       "      <th>0</th>\n",
       "      <th>1</th>\n",
       "      <th>2</th>\n",
       "      <th>3</th>\n",
       "      <th>4</th>\n",
       "      <th>5</th>\n",
       "      <th>6</th>\n",
       "      <th>7</th>\n",
       "      <th>8</th>\n",
       "      <th>...</th>\n",
       "      <th>60</th>\n",
       "      <th>61</th>\n",
       "      <th>62</th>\n",
       "      <th>63</th>\n",
       "      <th>64</th>\n",
       "      <th>65</th>\n",
       "      <th>66</th>\n",
       "      <th>67</th>\n",
       "      <th>68</th>\n",
       "      <th>69</th>\n",
       "    </tr>\n",
       "    <tr>\n",
       "      <th>timestamp</th>\n",
       "      <th></th>\n",
       "      <th></th>\n",
       "      <th></th>\n",
       "      <th></th>\n",
       "      <th></th>\n",
       "      <th></th>\n",
       "      <th></th>\n",
       "      <th></th>\n",
       "      <th></th>\n",
       "      <th></th>\n",
       "      <th></th>\n",
       "      <th></th>\n",
       "      <th></th>\n",
       "      <th></th>\n",
       "      <th></th>\n",
       "      <th></th>\n",
       "      <th></th>\n",
       "      <th></th>\n",
       "      <th></th>\n",
       "      <th></th>\n",
       "      <th></th>\n",
       "    </tr>\n",
       "  </thead>\n",
       "  <tbody>\n",
       "    <tr>\n",
       "      <th>2017-10-19 00:00:54</th>\n",
       "      <td>2017-10-19 00:00:54</td>\n",
       "      <td>qvipnbdora04</td>\n",
       "      <td>su:</td>\n",
       "      <td>pam_unix(su:session):</td>\n",
       "      <td>session</td>\n",
       "      <td>opened</td>\n",
       "      <td>for</td>\n",
       "      <td>user</td>\n",
       "      <td>oracle</td>\n",
       "      <td>by</td>\n",
       "      <td>...</td>\n",
       "      <td>NaN</td>\n",
       "      <td>NaN</td>\n",
       "      <td>NaN</td>\n",
       "      <td>NaN</td>\n",
       "      <td>NaN</td>\n",
       "      <td>NaN</td>\n",
       "      <td>NaN</td>\n",
       "      <td>NaN</td>\n",
       "      <td>NaN</td>\n",
       "      <td>NaN</td>\n",
       "    </tr>\n",
       "    <tr>\n",
       "      <th>2017-10-19 00:00:54</th>\n",
       "      <td>2017-10-19 00:00:54</td>\n",
       "      <td>qvipnbdora04</td>\n",
       "      <td>su:</td>\n",
       "      <td>pam_unix(su:session):</td>\n",
       "      <td>session</td>\n",
       "      <td>closed</td>\n",
       "      <td>for</td>\n",
       "      <td>user</td>\n",
       "      <td>oracle</td>\n",
       "      <td>NaN</td>\n",
       "      <td>...</td>\n",
       "      <td>NaN</td>\n",
       "      <td>NaN</td>\n",
       "      <td>NaN</td>\n",
       "      <td>NaN</td>\n",
       "      <td>NaN</td>\n",
       "      <td>NaN</td>\n",
       "      <td>NaN</td>\n",
       "      <td>NaN</td>\n",
       "      <td>NaN</td>\n",
       "      <td>NaN</td>\n",
       "    </tr>\n",
       "    <tr>\n",
       "      <th>2017-10-19 00:00:54</th>\n",
       "      <td>2017-10-19 00:00:54</td>\n",
       "      <td>qvipnbdora04</td>\n",
       "      <td>su:</td>\n",
       "      <td>pam_unix(su:session):</td>\n",
       "      <td>session</td>\n",
       "      <td>opened</td>\n",
       "      <td>for</td>\n",
       "      <td>user</td>\n",
       "      <td>oracle</td>\n",
       "      <td>by</td>\n",
       "      <td>...</td>\n",
       "      <td>NaN</td>\n",
       "      <td>NaN</td>\n",
       "      <td>NaN</td>\n",
       "      <td>NaN</td>\n",
       "      <td>NaN</td>\n",
       "      <td>NaN</td>\n",
       "      <td>NaN</td>\n",
       "      <td>NaN</td>\n",
       "      <td>NaN</td>\n",
       "      <td>NaN</td>\n",
       "    </tr>\n",
       "    <tr>\n",
       "      <th>2017-10-19 00:00:54</th>\n",
       "      <td>2017-10-19 00:00:54</td>\n",
       "      <td>qvipnbdora04</td>\n",
       "      <td>su:</td>\n",
       "      <td>pam_unix(su:session):</td>\n",
       "      <td>session</td>\n",
       "      <td>closed</td>\n",
       "      <td>for</td>\n",
       "      <td>user</td>\n",
       "      <td>oracle</td>\n",
       "      <td>NaN</td>\n",
       "      <td>...</td>\n",
       "      <td>NaN</td>\n",
       "      <td>NaN</td>\n",
       "      <td>NaN</td>\n",
       "      <td>NaN</td>\n",
       "      <td>NaN</td>\n",
       "      <td>NaN</td>\n",
       "      <td>NaN</td>\n",
       "      <td>NaN</td>\n",
       "      <td>NaN</td>\n",
       "      <td>NaN</td>\n",
       "    </tr>\n",
       "    <tr>\n",
       "      <th>2017-10-19 00:00:54</th>\n",
       "      <td>2017-10-19 00:00:54</td>\n",
       "      <td>qvipnbdora04</td>\n",
       "      <td>su:</td>\n",
       "      <td>pam_unix(su:session):</td>\n",
       "      <td>session</td>\n",
       "      <td>opened</td>\n",
       "      <td>for</td>\n",
       "      <td>user</td>\n",
       "      <td>oracle</td>\n",
       "      <td>by</td>\n",
       "      <td>...</td>\n",
       "      <td>NaN</td>\n",
       "      <td>NaN</td>\n",
       "      <td>NaN</td>\n",
       "      <td>NaN</td>\n",
       "      <td>NaN</td>\n",
       "      <td>NaN</td>\n",
       "      <td>NaN</td>\n",
       "      <td>NaN</td>\n",
       "      <td>NaN</td>\n",
       "      <td>NaN</td>\n",
       "    </tr>\n",
       "  </tbody>\n",
       "</table>\n",
       "<p>5 rows × 71 columns</p>\n",
       "</div>"
      ],
      "text/plain": [
       "                               timestamp             0    1  \\\n",
       "timestamp                                                     \n",
       "2017-10-19 00:00:54  2017-10-19 00:00:54  qvipnbdora04  su:   \n",
       "2017-10-19 00:00:54  2017-10-19 00:00:54  qvipnbdora04  su:   \n",
       "2017-10-19 00:00:54  2017-10-19 00:00:54  qvipnbdora04  su:   \n",
       "2017-10-19 00:00:54  2017-10-19 00:00:54  qvipnbdora04  su:   \n",
       "2017-10-19 00:00:54  2017-10-19 00:00:54  qvipnbdora04  su:   \n",
       "\n",
       "                                         2        3       4    5     6  \\\n",
       "timestamp                                                                \n",
       "2017-10-19 00:00:54  pam_unix(su:session):  session  opened  for  user   \n",
       "2017-10-19 00:00:54  pam_unix(su:session):  session  closed  for  user   \n",
       "2017-10-19 00:00:54  pam_unix(su:session):  session  opened  for  user   \n",
       "2017-10-19 00:00:54  pam_unix(su:session):  session  closed  for  user   \n",
       "2017-10-19 00:00:54  pam_unix(su:session):  session  opened  for  user   \n",
       "\n",
       "                          7    8 ...    60   61   62   63   64   65   66   67  \\\n",
       "timestamp                        ...                                            \n",
       "2017-10-19 00:00:54  oracle   by ...   NaN  NaN  NaN  NaN  NaN  NaN  NaN  NaN   \n",
       "2017-10-19 00:00:54  oracle  NaN ...   NaN  NaN  NaN  NaN  NaN  NaN  NaN  NaN   \n",
       "2017-10-19 00:00:54  oracle   by ...   NaN  NaN  NaN  NaN  NaN  NaN  NaN  NaN   \n",
       "2017-10-19 00:00:54  oracle  NaN ...   NaN  NaN  NaN  NaN  NaN  NaN  NaN  NaN   \n",
       "2017-10-19 00:00:54  oracle   by ...   NaN  NaN  NaN  NaN  NaN  NaN  NaN  NaN   \n",
       "\n",
       "                      68   69  \n",
       "timestamp                      \n",
       "2017-10-19 00:00:54  NaN  NaN  \n",
       "2017-10-19 00:00:54  NaN  NaN  \n",
       "2017-10-19 00:00:54  NaN  NaN  \n",
       "2017-10-19 00:00:54  NaN  NaN  \n",
       "2017-10-19 00:00:54  NaN  NaN  \n",
       "\n",
       "[5 rows x 71 columns]"
      ]
     },
     "execution_count": 46,
     "metadata": {},
     "output_type": "execute_result"
    }
   ],
   "source": [
    "#resample nous demande une semaine contigu\n",
    "mask = (df_log.index >= date_train[18])\n",
    "data_train = df_log.loc[mask]\n",
    "data_train.head()"
   ]
  },
  {
   "cell_type": "code",
   "execution_count": 47,
   "metadata": {},
   "outputs": [
    {
     "name": "stdout",
     "output_type": "stream",
     "text": [
      "Alert Anomaly detected, the distance is in the 0.01\n",
      "Timestamp is: 2017-10-19 11:50:54\n",
      "Area difference value is :  21683.0\n"
     ]
    },
    {
     "ename": "ValueError",
     "evalue": "If using all scalar values, you must pass an index",
     "output_type": "error",
     "traceback": [
      "\u001b[0;31m---------------------------------------------------------------------------\u001b[0m",
      "\u001b[0;31mValueError\u001b[0m                                Traceback (most recent call last)",
      "\u001b[0;32m<ipython-input-47-0509fd410b10>\u001b[0m in \u001b[0;36m<module>\u001b[0;34m()\u001b[0m\n\u001b[1;32m      7\u001b[0m     \u001b[0mday\u001b[0m \u001b[0;34m=\u001b[0m \u001b[0mstart_date\u001b[0m\u001b[0;34m.\u001b[0m\u001b[0mday\u001b[0m\u001b[0;34m\u001b[0m\u001b[0m\n\u001b[1;32m      8\u001b[0m     \u001b[0mdata_to_compute\u001b[0m \u001b[0;34m=\u001b[0m \u001b[0mdata_train\u001b[0m\u001b[0;34m.\u001b[0m\u001b[0mloc\u001b[0m\u001b[0;34m[\u001b[0m\u001b[0mstart_date\u001b[0m\u001b[0;34m:\u001b[0m\u001b[0;34m(\u001b[0m\u001b[0mstart_date\u001b[0m \u001b[0;34m+\u001b[0m \u001b[0mdt\u001b[0m\u001b[0;34m.\u001b[0m\u001b[0mtimedelta\u001b[0m\u001b[0;34m(\u001b[0m\u001b[0mseconds\u001b[0m\u001b[0;34m=\u001b[0m\u001b[0mserver_profile\u001b[0m\u001b[0;34m.\u001b[0m\u001b[0mparameters\u001b[0m\u001b[0;34m[\u001b[0m\u001b[0;36m0\u001b[0m\u001b[0;34m,\u001b[0m\u001b[0;36m2\u001b[0m\u001b[0;34m]\u001b[0m\u001b[0;34m*\u001b[0m\u001b[0;36m60\u001b[0m\u001b[0;34m)\u001b[0m\u001b[0;34m)\u001b[0m\u001b[0;34m]\u001b[0m\u001b[0;34m\u001b[0m\u001b[0m\n\u001b[0;32m----> 9\u001b[0;31m     \u001b[0manomaly\u001b[0m\u001b[0;34m,\u001b[0m \u001b[0mmax_spread\u001b[0m\u001b[0;34m,\u001b[0m \u001b[0mmin_spread\u001b[0m\u001b[0;34m,\u001b[0m \u001b[0md\u001b[0m\u001b[0;34m,\u001b[0m \u001b[0mdate\u001b[0m\u001b[0;34m,\u001b[0m \u001b[0mthreshold\u001b[0m\u001b[0;34m,\u001b[0m \u001b[0mquant\u001b[0m \u001b[0;34m=\u001b[0m \u001b[0mserver_profile\u001b[0m\u001b[0;34m.\u001b[0m\u001b[0mprocess_distance\u001b[0m\u001b[0;34m(\u001b[0m\u001b[0mdata_to_compute\u001b[0m\u001b[0;34m)\u001b[0m\u001b[0;34m\u001b[0m\u001b[0m\n\u001b[0m\u001b[1;32m     10\u001b[0m     \u001b[0mstart_date\u001b[0m \u001b[0;34m=\u001b[0m \u001b[0mstart_date\u001b[0m \u001b[0;34m+\u001b[0m \u001b[0mdt\u001b[0m\u001b[0;34m.\u001b[0m\u001b[0mtimedelta\u001b[0m\u001b[0;34m(\u001b[0m\u001b[0mminutes\u001b[0m\u001b[0;34m=\u001b[0m\u001b[0;36m1\u001b[0m\u001b[0;34m)\u001b[0m\u001b[0;34m\u001b[0m\u001b[0m\n\u001b[1;32m     11\u001b[0m     \u001b[0;32mif\u001b[0m \u001b[0mstart_date\u001b[0m\u001b[0;34m.\u001b[0m\u001b[0mday\u001b[0m \u001b[0;34m>\u001b[0m \u001b[0mday\u001b[0m\u001b[0;34m:\u001b[0m\u001b[0;34m\u001b[0m\u001b[0m\n",
      "\u001b[0;32m~/Dropbox/DeepLearning/ProjetFilRouge/AirFrance/LogKiller/server_profile_learning.py\u001b[0m in \u001b[0;36mprocess_distance\u001b[0;34m(self, streaming_data)\u001b[0m\n\u001b[1;32m     72\u001b[0m                                                                                                 \u001b[0mself\u001b[0m\u001b[0;34m.\u001b[0m\u001b[0mmeasures\u001b[0m\u001b[0;34m,\u001b[0m\u001b[0;34m\u001b[0m\u001b[0m\n\u001b[1;32m     73\u001b[0m                                                                                                 \u001b[0mself\u001b[0m\u001b[0;34m.\u001b[0m\u001b[0mtrain_mode\u001b[0m\u001b[0;34m,\u001b[0m\u001b[0;34m\u001b[0m\u001b[0m\n\u001b[0;32m---> 74\u001b[0;31m                                                                                                 self.verbose)\n\u001b[0m\u001b[1;32m     75\u001b[0m         \u001b[0;31m#streaming_data_prep = self.preprocess_data(streaming_data)\u001b[0m\u001b[0;34m\u001b[0m\u001b[0;34m\u001b[0m\u001b[0m\n\u001b[1;32m     76\u001b[0m         \u001b[0;31m# for k, v in streaming_data_prep:\u001b[0m\u001b[0;34m\u001b[0m\u001b[0;34m\u001b[0m\u001b[0m\n",
      "\u001b[0;32m~/Dropbox/DeepLearning/ProjetFilRouge/AirFrance/LogKiller/times_series_learning.py\u001b[0m in \u001b[0;36mcompute_distance_profile\u001b[0;34m(self, data, distribution, measures, train_mode, verbose)\u001b[0m\n\u001b[1;32m    150\u001b[0m             \u001b[0md\u001b[0m\u001b[0;34m,\u001b[0m \u001b[0mdate\u001b[0m \u001b[0;34m=\u001b[0m \u001b[0mself\u001b[0m\u001b[0;34m.\u001b[0m\u001b[0mcompute_distance\u001b[0m\u001b[0;34m(\u001b[0m\u001b[0mdata_rs\u001b[0m\u001b[0;34m,\u001b[0m \u001b[0mself\u001b[0m\u001b[0;34m.\u001b[0m\u001b[0mprofile\u001b[0m\u001b[0;34m)\u001b[0m\u001b[0;34m\u001b[0m\u001b[0m\n\u001b[1;32m    151\u001b[0m         \u001b[0mm\u001b[0m \u001b[0;34m=\u001b[0m \u001b[0mself\u001b[0m\u001b[0;34m.\u001b[0m\u001b[0mcompute_spread_metric\u001b[0m\u001b[0;34m(\u001b[0m\u001b[0mdata_rs\u001b[0m\u001b[0;34m)\u001b[0m\u001b[0;34m\u001b[0m\u001b[0m\n\u001b[0;32m--> 152\u001b[0;31m         \u001b[0mthreshold\u001b[0m\u001b[0;34m,\u001b[0m \u001b[0mquant\u001b[0m \u001b[0;34m=\u001b[0m \u001b[0mself\u001b[0m\u001b[0;34m.\u001b[0m\u001b[0madd_to_dist\u001b[0m\u001b[0;34m(\u001b[0m\u001b[0md\u001b[0m\u001b[0;34m,\u001b[0m \u001b[0mm\u001b[0m\u001b[0;34m,\u001b[0m  \u001b[0mdate\u001b[0m\u001b[0;34m,\u001b[0m \u001b[0mdistribution\u001b[0m\u001b[0;34m,\u001b[0m \u001b[0mmeasures\u001b[0m\u001b[0;34m,\u001b[0m \u001b[0mtrain_mode\u001b[0m\u001b[0;34m)\u001b[0m\u001b[0;34m\u001b[0m\u001b[0m\n\u001b[0m\u001b[1;32m    153\u001b[0m \u001b[0;34m\u001b[0m\u001b[0m\n\u001b[1;32m    154\u001b[0m         \u001b[0;31m# if anomaly or not threshold:\u001b[0m\u001b[0;34m\u001b[0m\u001b[0;34m\u001b[0m\u001b[0m\n",
      "\u001b[0;32m~/Dropbox/DeepLearning/ProjetFilRouge/AirFrance/LogKiller/times_series_learning.py\u001b[0m in \u001b[0;36madd_to_dist\u001b[0;34m(self, dist_score, metric, date, distribution, measure, train_mode)\u001b[0m\n\u001b[1;32m    242\u001b[0m                 \u001b[0manomaly\u001b[0m\u001b[0;34m[\u001b[0m\u001b[0;34m'Area_Difference'\u001b[0m\u001b[0;34m]\u001b[0m \u001b[0;34m=\u001b[0m \u001b[0mdist_score\u001b[0m\u001b[0;34m\u001b[0m\u001b[0m\n\u001b[1;32m    243\u001b[0m                 \u001b[0manomaly\u001b[0m\u001b[0;34m[\u001b[0m\u001b[0;34m'Timestamp'\u001b[0m\u001b[0;34m]\u001b[0m \u001b[0;34m=\u001b[0m \u001b[0mdate\u001b[0m\u001b[0;34m\u001b[0m\u001b[0m\n\u001b[0;32m--> 244\u001b[0;31m                 self.timestamp_anomaly = pd.concat([self.timestamp_anomaly,pd.DataFrame(anomaly)],\n\u001b[0m\u001b[1;32m    245\u001b[0m                                                    axis=0)\n\u001b[1;32m    246\u001b[0m \u001b[0;34m\u001b[0m\u001b[0m\n",
      "\u001b[0;32m~/anaconda3/lib/python3.6/site-packages/pandas/core/frame.py\u001b[0m in \u001b[0;36m__init__\u001b[0;34m(self, data, index, columns, dtype, copy)\u001b[0m\n\u001b[1;32m    328\u001b[0m                                  dtype=dtype, copy=copy)\n\u001b[1;32m    329\u001b[0m         \u001b[0;32melif\u001b[0m \u001b[0misinstance\u001b[0m\u001b[0;34m(\u001b[0m\u001b[0mdata\u001b[0m\u001b[0;34m,\u001b[0m \u001b[0mdict\u001b[0m\u001b[0;34m)\u001b[0m\u001b[0;34m:\u001b[0m\u001b[0;34m\u001b[0m\u001b[0m\n\u001b[0;32m--> 330\u001b[0;31m             \u001b[0mmgr\u001b[0m \u001b[0;34m=\u001b[0m \u001b[0mself\u001b[0m\u001b[0;34m.\u001b[0m\u001b[0m_init_dict\u001b[0m\u001b[0;34m(\u001b[0m\u001b[0mdata\u001b[0m\u001b[0;34m,\u001b[0m \u001b[0mindex\u001b[0m\u001b[0;34m,\u001b[0m \u001b[0mcolumns\u001b[0m\u001b[0;34m,\u001b[0m \u001b[0mdtype\u001b[0m\u001b[0;34m=\u001b[0m\u001b[0mdtype\u001b[0m\u001b[0;34m)\u001b[0m\u001b[0;34m\u001b[0m\u001b[0m\n\u001b[0m\u001b[1;32m    331\u001b[0m         \u001b[0;32melif\u001b[0m \u001b[0misinstance\u001b[0m\u001b[0;34m(\u001b[0m\u001b[0mdata\u001b[0m\u001b[0;34m,\u001b[0m \u001b[0mma\u001b[0m\u001b[0;34m.\u001b[0m\u001b[0mMaskedArray\u001b[0m\u001b[0;34m)\u001b[0m\u001b[0;34m:\u001b[0m\u001b[0;34m\u001b[0m\u001b[0m\n\u001b[1;32m    332\u001b[0m             \u001b[0;32mimport\u001b[0m \u001b[0mnumpy\u001b[0m\u001b[0;34m.\u001b[0m\u001b[0mma\u001b[0m\u001b[0;34m.\u001b[0m\u001b[0mmrecords\u001b[0m \u001b[0;32mas\u001b[0m \u001b[0mmrecords\u001b[0m\u001b[0;34m\u001b[0m\u001b[0m\n",
      "\u001b[0;32m~/anaconda3/lib/python3.6/site-packages/pandas/core/frame.py\u001b[0m in \u001b[0;36m_init_dict\u001b[0;34m(self, data, index, columns, dtype)\u001b[0m\n\u001b[1;32m    459\u001b[0m             \u001b[0marrays\u001b[0m \u001b[0;34m=\u001b[0m \u001b[0;34m[\u001b[0m\u001b[0mdata\u001b[0m\u001b[0;34m[\u001b[0m\u001b[0mk\u001b[0m\u001b[0;34m]\u001b[0m \u001b[0;32mfor\u001b[0m \u001b[0mk\u001b[0m \u001b[0;32min\u001b[0m \u001b[0mkeys\u001b[0m\u001b[0;34m]\u001b[0m\u001b[0;34m\u001b[0m\u001b[0m\n\u001b[1;32m    460\u001b[0m \u001b[0;34m\u001b[0m\u001b[0m\n\u001b[0;32m--> 461\u001b[0;31m         \u001b[0;32mreturn\u001b[0m \u001b[0m_arrays_to_mgr\u001b[0m\u001b[0;34m(\u001b[0m\u001b[0marrays\u001b[0m\u001b[0;34m,\u001b[0m \u001b[0mdata_names\u001b[0m\u001b[0;34m,\u001b[0m \u001b[0mindex\u001b[0m\u001b[0;34m,\u001b[0m \u001b[0mcolumns\u001b[0m\u001b[0;34m,\u001b[0m \u001b[0mdtype\u001b[0m\u001b[0;34m=\u001b[0m\u001b[0mdtype\u001b[0m\u001b[0;34m)\u001b[0m\u001b[0;34m\u001b[0m\u001b[0m\n\u001b[0m\u001b[1;32m    462\u001b[0m \u001b[0;34m\u001b[0m\u001b[0m\n\u001b[1;32m    463\u001b[0m     \u001b[0;32mdef\u001b[0m \u001b[0m_init_ndarray\u001b[0m\u001b[0;34m(\u001b[0m\u001b[0mself\u001b[0m\u001b[0;34m,\u001b[0m \u001b[0mvalues\u001b[0m\u001b[0;34m,\u001b[0m \u001b[0mindex\u001b[0m\u001b[0;34m,\u001b[0m \u001b[0mcolumns\u001b[0m\u001b[0;34m,\u001b[0m \u001b[0mdtype\u001b[0m\u001b[0;34m=\u001b[0m\u001b[0;32mNone\u001b[0m\u001b[0;34m,\u001b[0m \u001b[0mcopy\u001b[0m\u001b[0;34m=\u001b[0m\u001b[0;32mFalse\u001b[0m\u001b[0;34m)\u001b[0m\u001b[0;34m:\u001b[0m\u001b[0;34m\u001b[0m\u001b[0m\n",
      "\u001b[0;32m~/anaconda3/lib/python3.6/site-packages/pandas/core/frame.py\u001b[0m in \u001b[0;36m_arrays_to_mgr\u001b[0;34m(arrays, arr_names, index, columns, dtype)\u001b[0m\n\u001b[1;32m   6161\u001b[0m     \u001b[0;31m# figure out the index, if necessary\u001b[0m\u001b[0;34m\u001b[0m\u001b[0;34m\u001b[0m\u001b[0m\n\u001b[1;32m   6162\u001b[0m     \u001b[0;32mif\u001b[0m \u001b[0mindex\u001b[0m \u001b[0;32mis\u001b[0m \u001b[0;32mNone\u001b[0m\u001b[0;34m:\u001b[0m\u001b[0;34m\u001b[0m\u001b[0m\n\u001b[0;32m-> 6163\u001b[0;31m         \u001b[0mindex\u001b[0m \u001b[0;34m=\u001b[0m \u001b[0mextract_index\u001b[0m\u001b[0;34m(\u001b[0m\u001b[0marrays\u001b[0m\u001b[0;34m)\u001b[0m\u001b[0;34m\u001b[0m\u001b[0m\n\u001b[0m\u001b[1;32m   6164\u001b[0m     \u001b[0;32melse\u001b[0m\u001b[0;34m:\u001b[0m\u001b[0;34m\u001b[0m\u001b[0m\n\u001b[1;32m   6165\u001b[0m         \u001b[0mindex\u001b[0m \u001b[0;34m=\u001b[0m \u001b[0m_ensure_index\u001b[0m\u001b[0;34m(\u001b[0m\u001b[0mindex\u001b[0m\u001b[0;34m)\u001b[0m\u001b[0;34m\u001b[0m\u001b[0m\n",
      "\u001b[0;32m~/anaconda3/lib/python3.6/site-packages/pandas/core/frame.py\u001b[0m in \u001b[0;36mextract_index\u001b[0;34m(data)\u001b[0m\n\u001b[1;32m   6200\u001b[0m \u001b[0;34m\u001b[0m\u001b[0m\n\u001b[1;32m   6201\u001b[0m         \u001b[0;32mif\u001b[0m \u001b[0;32mnot\u001b[0m \u001b[0mindexes\u001b[0m \u001b[0;32mand\u001b[0m \u001b[0;32mnot\u001b[0m \u001b[0mraw_lengths\u001b[0m\u001b[0;34m:\u001b[0m\u001b[0;34m\u001b[0m\u001b[0m\n\u001b[0;32m-> 6202\u001b[0;31m             raise ValueError('If using all scalar values, you must pass'\n\u001b[0m\u001b[1;32m   6203\u001b[0m                              ' an index')\n\u001b[1;32m   6204\u001b[0m \u001b[0;34m\u001b[0m\u001b[0m\n",
      "\u001b[0;31mValueError\u001b[0m: If using all scalar values, you must pass an index"
     ]
    }
   ],
   "source": [
    "server_profile.processus = True\n",
    "server_profile.train_mode = False\n",
    "level_threshold = 0.01%\n",
    "start_date = data_train.index[0]\n",
    "i=0\n",
    "start =time.time()\n",
    "while start_date + dt.timedelta(seconds=server_profile.parameters[0,2]*60) < data_train.index[-1]:\n",
    "    day = start_date.day\n",
    "    data_to_compute = data_train.loc[start_date:(start_date + dt.timedelta(seconds=server_profile.parameters[0,2]*60))]\n",
    "    anomaly, max_spread, min_spread, d, date, threshold, quant = server_profile.process_distance(data_to_compute)\n",
    "    start_date = start_date + dt.timedelta(minutes=1)\n",
    "    if start_date.day > day:\n",
    "        period = time.time()-start\n",
    "        print(\"day \"+str(start_date)+\" accomplished in \" +str(period))\n",
    "        start = time.time()\n",
    "    i+=1"
   ]
  },
  {
   "cell_type": "code",
   "execution_count": 72,
   "metadata": {},
   "outputs": [
    {
     "data": {
      "text/html": [
       "<div>\n",
       "<style scoped>\n",
       "    .dataframe tbody tr th:only-of-type {\n",
       "        vertical-align: middle;\n",
       "    }\n",
       "\n",
       "    .dataframe tbody tr th {\n",
       "        vertical-align: top;\n",
       "    }\n",
       "\n",
       "    .dataframe thead th {\n",
       "        text-align: right;\n",
       "    }\n",
       "</style>\n",
       "<table border=\"1\" class=\"dataframe\">\n",
       "  <thead>\n",
       "    <tr style=\"text-align: right;\">\n",
       "      <th></th>\n",
       "      <th>Area_Difference</th>\n",
       "      <th>Timestamp</th>\n",
       "    </tr>\n",
       "  </thead>\n",
       "  <tbody>\n",
       "    <tr>\n",
       "      <th>0</th>\n",
       "      <td>5</td>\n",
       "      <td>10</td>\n",
       "    </tr>\n",
       "  </tbody>\n",
       "</table>\n",
       "</div>"
      ],
      "text/plain": [
       "   Area_Difference  Timestamp\n",
       "0                5         10"
      ]
     },
     "execution_count": 72,
     "metadata": {},
     "output_type": "execute_result"
    }
   ],
   "source": [
    "from collections import defaultdict\n",
    "anomaly = defaultdict(list)\n",
    "anomaly['Area_Difference'] = 5\n",
    "anomaly['Timestamp'] = 10\n",
    "d = pd.DataFrame([anomaly])\n",
    "d.head()\n",
    "\n"
   ]
  },
  {
   "cell_type": "code",
   "execution_count": 47,
   "metadata": {},
   "outputs": [
    {
     "data": {
      "text/plain": [
       "[<matplotlib.lines.Line2D at 0x7f8b6f353940>]"
      ]
     },
     "execution_count": 47,
     "metadata": {},
     "output_type": "execute_result"
    },
    {
     "data": {
      "image/png": "[encoded data removed]",
      "text/plain": [
       "<Figure size 2160x720 with 1 Axes>"
      ]
     },
     "metadata": {},
     "output_type": "display_data"
    }
   ],
   "source": [
    "plt.figure(figsize=(30,10))\n",
    "plt.plot(range(len(server_profile.measures[3]['Area_Difference'][1440:])),server_profile.measures[3]['Area_Difference'][1440:] )"
   ]
  },
  {
   "cell_type": "code",
   "execution_count": 127,
   "metadata": {},
   "outputs": [],
   "source": [
    "data.index = pd.to_datetime(data.timestamp, format='%Y-%m-%d %H:%M:%S')\n",
    "data_rs= data.drop(data.columns[1:len(data.columns) - 1], axis=1)\n",
    "d_min = data[date_train[1]].resample('1S').count().cumsum()['timestamp'].values\n",
    "d_min = pd.DataFrame(d_min, columns=['intensity'])"
   ]
  },
  {
   "cell_type": "code",
   "execution_count": 128,
   "metadata": {},
   "outputs": [
    {
     "data": {
      "text/plain": [
       "'2017-10-01'"
      ]
     },
     "execution_count": 128,
     "metadata": {},
     "output_type": "execute_result"
    }
   ],
   "source": [
    "date_train[0]"
   ]
  },
  {
   "cell_type": "code",
   "execution_count": 129,
   "metadata": {},
   "outputs": [
    {
     "data": {
      "text/html": [
       "<div>\n",
       "<style scoped>\n",
       "    .dataframe tbody tr th:only-of-type {\n",
       "        vertical-align: middle;\n",
       "    }\n",
       "\n",
       "    .dataframe tbody tr th {\n",
       "        vertical-align: top;\n",
       "    }\n",
       "\n",
       "    .dataframe thead th {\n",
       "        text-align: right;\n",
       "    }\n",
       "</style>\n",
       "<table border=\"1\" class=\"dataframe\">\n",
       "  <thead>\n",
       "    <tr style=\"text-align: right;\">\n",
       "      <th></th>\n",
       "      <th>intensity</th>\n",
       "    </tr>\n",
       "  </thead>\n",
       "  <tbody>\n",
       "    <tr>\n",
       "      <th>0</th>\n",
       "      <td>8</td>\n",
       "    </tr>\n",
       "    <tr>\n",
       "      <th>1</th>\n",
       "      <td>8</td>\n",
       "    </tr>\n",
       "    <tr>\n",
       "      <th>2</th>\n",
       "      <td>8</td>\n",
       "    </tr>\n",
       "    <tr>\n",
       "      <th>3</th>\n",
       "      <td>8</td>\n",
       "    </tr>\n",
       "    <tr>\n",
       "      <th>4</th>\n",
       "      <td>8</td>\n",
       "    </tr>\n",
       "  </tbody>\n",
       "</table>\n",
       "</div>"
      ],
      "text/plain": [
       "   intensity\n",
       "0          8\n",
       "1          8\n",
       "2          8\n",
       "3          8\n",
       "4          8"
      ]
     },
     "execution_count": 129,
     "metadata": {},
     "output_type": "execute_result"
    }
   ],
   "source": [
    "d_min.head()"
   ]
  },
  {
   "cell_type": "code",
   "execution_count": 130,
   "metadata": {},
   "outputs": [],
   "source": [
    "mask = (server_profile.server_profile['qvipnbdora04_general'].profile.index.weekday == 0) & (server_profile.server_profile['qvipnbdora04_general'].profile.index.hour <= 2) \n",
    "start_date = server_profile.server_profile['qvipnbdora04_general'].profile.loc[mask,'timestamp'].index[0]\n"
   ]
  },
  {
   "cell_type": "code",
   "execution_count": 131,
   "metadata": {},
   "outputs": [
    {
     "data": {
      "text/plain": [
       "array([16656., 16656., 16656., ..., 33500., 33500., 33500.])"
      ]
     },
     "execution_count": 131,
     "metadata": {},
     "output_type": "execute_result"
    }
   ],
   "source": [
    "server_profile.server_profile['qvipnbdora04_general'].profile.loc[start_date: start_date + dt.timedelta(seconds=3600*24),'timestamp'].values"
   ]
  },
  {
   "cell_type": "code",
   "execution_count": 135,
   "metadata": {},
   "outputs": [
    {
     "data": {
      "image/png": "[encoded data removed]",
      "text/plain": [
       "<Figure size 2160x720 with 1 Axes>"
      ]
     },
     "metadata": {},
     "output_type": "display_data"
    }
   ],
   "source": [
    "plt.figure(figsize=(30,10))\n",
    "plt.plot(d_min.loc[:3600*24,'intensity'])\n",
    "plt.plot(server_profile.server_profile['qvipnbdora04_general'].profile.loc[start_date: start_date + dt.timedelta(seconds=3600*24),'timestamp'].values\n",
    "         -server_profile.server_profile['qvipnbdora04_general'].profile.loc[start_date-dt.timedelta(seconds=1), 'timestamp'])\n",
    "plt.show()"
   ]
  },
  {
   "cell_type": "code",
   "execution_count": 128,
   "metadata": {},
   "outputs": [
    {
     "data": {
      "text/plain": [
       "['2017-09-25',\n",
       " '2017-09-26',\n",
       " '2017-09-27',\n",
       " '2017-09-28',\n",
       " '2017-09-29',\n",
       " '2017-09-30',\n",
       " '2017-09-24']"
      ]
     },
     "execution_count": 128,
     "metadata": {},
     "output_type": "execute_result"
    }
   ],
   "source": [
    "date_profile"
   ]
  },
  {
   "cell_type": "code",
   "execution_count": 129,
   "metadata": {},
   "outputs": [
    {
     "data": {
      "text/plain": [
       "['2017-10-01',\n",
       " '2017-10-02',\n",
       " '2017-10-03',\n",
       " '2017-10-04',\n",
       " '2017-10-05',\n",
       " '2017-10-06',\n",
       " '2017-10-07',\n",
       " '2017-10-08',\n",
       " '2017-10-09',\n",
       " '2017-10-10',\n",
       " '2017-10-11',\n",
       " '2017-10-12',\n",
       " '2017-10-13',\n",
       " '2017-10-14',\n",
       " '2017-10-15',\n",
       " '2017-10-16',\n",
       " '2017-10-17',\n",
       " '2017-10-18',\n",
       " '2017-10-19',\n",
       " '2017-10-20',\n",
       " '2017-10-21',\n",
       " '2017-10-22',\n",
       " '2017-10-23',\n",
       " '2017-10-24',\n",
       " '2017-10-25',\n",
       " '2017-10-26']"
      ]
     },
     "execution_count": 129,
     "metadata": {},
     "output_type": "execute_result"
    }
   ],
   "source": [
    "date_train"
   ]
  },
  {
   "cell_type": "code",
   "execution_count": 136,
   "metadata": {},
   "outputs": [
    {
     "data": {
      "text/plain": [
       "SortedList([-1621800.0, -1621800.0, -1621800.0, -1621800.0, -810900.0, -810900.0, -810900.0, -810900.0, -810900.0, -810900.0, -810900.0, -810900.0, -810900.0, -432000.0, -432000.0, -432000.0, -432000.0, 0, 44592720.0, 44690976.0, 45658380.0, 45719580.0, 45976083.0, 46198320.0, 47387283.0, 48742680.0, 50023380.0, 50161980.0, 50568780.0, 51502105.0, 53465880.0, 54369480.0, 54912192.0, 55216476.0, 55350480.0, 56169480.0, 56999304.0, 58347480.0, 62067205.0, 63955380.0, 65138040.0, 71406522.0, 72302952.0, 73590822.0, inf])"
      ]
     },
     "execution_count": 136,
     "metadata": {},
     "output_type": "execute_result"
    }
   ],
   "source": [
    "server_profile.distribution[6]"
   ]
  },
  {
   "cell_type": "code",
   "execution_count": null,
   "metadata": {},
   "outputs": [],
   "source": []
  }
 ],
 "metadata": {
  "kernelspec": {
   "display_name": "Python 3",
   "language": "python",
   "name": "python3"
  },
  "language_info": {
   "codemirror_mode": {
    "name": "ipython",
    "version": 3
   },
   "file_extension": ".py",
   "mimetype": "text/x-python",
   "name": "python",
   "nbconvert_exporter": "python",
   "pygments_lexer": "ipython3",
   "version": "3.6.4"
  }
 },
 "nbformat": 4,
 "nbformat_minor": 2
}
