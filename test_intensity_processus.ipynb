{
 "cells": [
  {
   "cell_type": "code",
   "execution_count": 1,
   "metadata": {},
   "outputs": [],
   "source": [
    "%load_ext autoreload"
   ]
  },
  {
   "cell_type": "code",
   "execution_count": 2,
   "metadata": {},
   "outputs": [],
   "source": [
    "import times_series_learning as tsl\n",
    "import server_profile_learning as spl\n",
    "import matplotlib.pyplot as plt\n",
    "from scipy.spatial.distance import euclidean\n",
    "from fastdtw import fastdtw\n",
    "import datetime as dt\n",
    "import time\n",
    "from logreader import read_dir\n",
    "from logparser import parse_all\n",
    "from loganalyzer import MessageLogAnalyzer, describe, print_description, print_clusters\n",
    "import class_time_series\n",
    "import pandas as pd\n",
    "import numpy as np\n",
    "import sortedcontainers\n",
    "from scipy import stats, integrate\n",
    "import matplotlib.pyplot as plt\n",
    "import seaborn as sns\n",
    "sns.set(color_codes=True)\n",
    "%autoreload "
   ]
  },
  {
   "cell_type": "code",
   "execution_count": 3,
   "metadata": {},
   "outputs": [],
   "source": [
    "LogPath = '/home/joseph/Dropbox/DeepLearning/ProjetFilRouge/AirFrance/logs/servers/'\n",
    "p = class_time_series.GetServerData(LogPath)\n",
    "ServerName = p.ServerList()"
   ]
  },
  {
   "cell_type": "code",
   "execution_count": 4,
   "metadata": {},
   "outputs": [
    {
     "data": {
      "text/plain": [
       "Index(['qvipnbdora02', 'qvipnbdora04', 'qvipnbusin02', 'qvipnmonlx06',\n",
       "       'qvipnmonlx10', 'qvipnmonlx14', 'qvipnmonlx16', 'qviqbkarfs02',\n",
       "       'qviqbocpno12', 'qviqbocpno14', 'qvirbkarfs02', 'qvirbkarno10',\n",
       "       'qvirbkarno12', 'qvirbkarno14', 'qvirbkarno16', 'qvirbkarno18',\n",
       "       'qvirbloges02', 'qvirbsapcr02', 'qvircmqsvr02', 'qvirctbems04',\n",
       "       'qvirnbdora02', 'qvirnbdora04', 'qvirnbusin02', 'qvitbbautin02',\n",
       "       'qvitbbautin04', 'qvitbbautin06', 'qvitbcjbod02', 'qvitntbems02',\n",
       "       'qvitsys6'],\n",
       "      dtype='object')"
      ]
     },
     "execution_count": 4,
     "metadata": {},
     "output_type": "execute_result"
    }
   ],
   "source": [
    "ServerName.columns"
   ]
  },
  {
   "cell_type": "code",
   "execution_count": 5,
   "metadata": {},
   "outputs": [
    {
     "data": {
      "text/html": [
       "<div>\n",
       "<style scoped>\n",
       "    .dataframe tbody tr th:only-of-type {\n",
       "        vertical-align: middle;\n",
       "    }\n",
       "\n",
       "    .dataframe tbody tr th {\n",
       "        vertical-align: top;\n",
       "    }\n",
       "\n",
       "    .dataframe thead th {\n",
       "        text-align: right;\n",
       "    }\n",
       "</style>\n",
       "<table border=\"1\" class=\"dataframe\">\n",
       "  <thead>\n",
       "    <tr style=\"text-align: right;\">\n",
       "      <th></th>\n",
       "      <th>qvipnbdora02</th>\n",
       "      <th>qvipnbdora04</th>\n",
       "      <th>qvipnbusin02</th>\n",
       "      <th>qvipnmonlx06</th>\n",
       "      <th>qvipnmonlx10</th>\n",
       "      <th>qvipnmonlx14</th>\n",
       "      <th>qvipnmonlx16</th>\n",
       "      <th>qviqbkarfs02</th>\n",
       "      <th>qviqbocpno12</th>\n",
       "      <th>qviqbocpno14</th>\n",
       "      <th>...</th>\n",
       "      <th>qvirctbems04</th>\n",
       "      <th>qvirnbdora02</th>\n",
       "      <th>qvirnbdora04</th>\n",
       "      <th>qvirnbusin02</th>\n",
       "      <th>qvitbbautin02</th>\n",
       "      <th>qvitbbautin04</th>\n",
       "      <th>qvitbbautin06</th>\n",
       "      <th>qvitbcjbod02</th>\n",
       "      <th>qvitntbems02</th>\n",
       "      <th>qvitsys6</th>\n",
       "    </tr>\n",
       "  </thead>\n",
       "  <tbody>\n",
       "    <tr>\n",
       "      <th>2017-09-24</th>\n",
       "      <td>/home/joseph/Dropbox/DeepLearning/ProjetFilRou...</td>\n",
       "      <td>/home/joseph/Dropbox/DeepLearning/ProjetFilRou...</td>\n",
       "      <td>/home/joseph/Dropbox/DeepLearning/ProjetFilRou...</td>\n",
       "      <td>/home/joseph/Dropbox/DeepLearning/ProjetFilRou...</td>\n",
       "      <td>/home/joseph/Dropbox/DeepLearning/ProjetFilRou...</td>\n",
       "      <td>/home/joseph/Dropbox/DeepLearning/ProjetFilRou...</td>\n",
       "      <td>/home/joseph/Dropbox/DeepLearning/ProjetFilRou...</td>\n",
       "      <td>/home/joseph/Dropbox/DeepLearning/ProjetFilRou...</td>\n",
       "      <td>0</td>\n",
       "      <td>/home/joseph/Dropbox/DeepLearning/ProjetFilRou...</td>\n",
       "      <td>...</td>\n",
       "      <td>/home/joseph/Dropbox/DeepLearning/ProjetFilRou...</td>\n",
       "      <td>/home/joseph/Dropbox/DeepLearning/ProjetFilRou...</td>\n",
       "      <td>/home/joseph/Dropbox/DeepLearning/ProjetFilRou...</td>\n",
       "      <td>/home/joseph/Dropbox/DeepLearning/ProjetFilRou...</td>\n",
       "      <td>/home/joseph/Dropbox/DeepLearning/ProjetFilRou...</td>\n",
       "      <td>/home/joseph/Dropbox/DeepLearning/ProjetFilRou...</td>\n",
       "      <td>/home/joseph/Dropbox/DeepLearning/ProjetFilRou...</td>\n",
       "      <td>/home/joseph/Dropbox/DeepLearning/ProjetFilRou...</td>\n",
       "      <td>0</td>\n",
       "      <td>/home/joseph/Dropbox/DeepLearning/ProjetFilRou...</td>\n",
       "    </tr>\n",
       "    <tr>\n",
       "      <th>2017-09-25</th>\n",
       "      <td>/home/joseph/Dropbox/DeepLearning/ProjetFilRou...</td>\n",
       "      <td>/home/joseph/Dropbox/DeepLearning/ProjetFilRou...</td>\n",
       "      <td>/home/joseph/Dropbox/DeepLearning/ProjetFilRou...</td>\n",
       "      <td>/home/joseph/Dropbox/DeepLearning/ProjetFilRou...</td>\n",
       "      <td>/home/joseph/Dropbox/DeepLearning/ProjetFilRou...</td>\n",
       "      <td>/home/joseph/Dropbox/DeepLearning/ProjetFilRou...</td>\n",
       "      <td>/home/joseph/Dropbox/DeepLearning/ProjetFilRou...</td>\n",
       "      <td>/home/joseph/Dropbox/DeepLearning/ProjetFilRou...</td>\n",
       "      <td>/home/joseph/Dropbox/DeepLearning/ProjetFilRou...</td>\n",
       "      <td>/home/joseph/Dropbox/DeepLearning/ProjetFilRou...</td>\n",
       "      <td>...</td>\n",
       "      <td>/home/joseph/Dropbox/DeepLearning/ProjetFilRou...</td>\n",
       "      <td>/home/joseph/Dropbox/DeepLearning/ProjetFilRou...</td>\n",
       "      <td>/home/joseph/Dropbox/DeepLearning/ProjetFilRou...</td>\n",
       "      <td>/home/joseph/Dropbox/DeepLearning/ProjetFilRou...</td>\n",
       "      <td>/home/joseph/Dropbox/DeepLearning/ProjetFilRou...</td>\n",
       "      <td>/home/joseph/Dropbox/DeepLearning/ProjetFilRou...</td>\n",
       "      <td>/home/joseph/Dropbox/DeepLearning/ProjetFilRou...</td>\n",
       "      <td>/home/joseph/Dropbox/DeepLearning/ProjetFilRou...</td>\n",
       "      <td>0</td>\n",
       "      <td>/home/joseph/Dropbox/DeepLearning/ProjetFilRou...</td>\n",
       "    </tr>\n",
       "    <tr>\n",
       "      <th>2017-09-26</th>\n",
       "      <td>/home/joseph/Dropbox/DeepLearning/ProjetFilRou...</td>\n",
       "      <td>/home/joseph/Dropbox/DeepLearning/ProjetFilRou...</td>\n",
       "      <td>/home/joseph/Dropbox/DeepLearning/ProjetFilRou...</td>\n",
       "      <td>/home/joseph/Dropbox/DeepLearning/ProjetFilRou...</td>\n",
       "      <td>/home/joseph/Dropbox/DeepLearning/ProjetFilRou...</td>\n",
       "      <td>/home/joseph/Dropbox/DeepLearning/ProjetFilRou...</td>\n",
       "      <td>/home/joseph/Dropbox/DeepLearning/ProjetFilRou...</td>\n",
       "      <td>/home/joseph/Dropbox/DeepLearning/ProjetFilRou...</td>\n",
       "      <td>/home/joseph/Dropbox/DeepLearning/ProjetFilRou...</td>\n",
       "      <td>/home/joseph/Dropbox/DeepLearning/ProjetFilRou...</td>\n",
       "      <td>...</td>\n",
       "      <td>/home/joseph/Dropbox/DeepLearning/ProjetFilRou...</td>\n",
       "      <td>/home/joseph/Dropbox/DeepLearning/ProjetFilRou...</td>\n",
       "      <td>/home/joseph/Dropbox/DeepLearning/ProjetFilRou...</td>\n",
       "      <td>/home/joseph/Dropbox/DeepLearning/ProjetFilRou...</td>\n",
       "      <td>/home/joseph/Dropbox/DeepLearning/ProjetFilRou...</td>\n",
       "      <td>/home/joseph/Dropbox/DeepLearning/ProjetFilRou...</td>\n",
       "      <td>/home/joseph/Dropbox/DeepLearning/ProjetFilRou...</td>\n",
       "      <td>/home/joseph/Dropbox/DeepLearning/ProjetFilRou...</td>\n",
       "      <td>/home/joseph/Dropbox/DeepLearning/ProjetFilRou...</td>\n",
       "      <td>/home/joseph/Dropbox/DeepLearning/ProjetFilRou...</td>\n",
       "    </tr>\n",
       "    <tr>\n",
       "      <th>2017-09-27</th>\n",
       "      <td>/home/joseph/Dropbox/DeepLearning/ProjetFilRou...</td>\n",
       "      <td>/home/joseph/Dropbox/DeepLearning/ProjetFilRou...</td>\n",
       "      <td>/home/joseph/Dropbox/DeepLearning/ProjetFilRou...</td>\n",
       "      <td>/home/joseph/Dropbox/DeepLearning/ProjetFilRou...</td>\n",
       "      <td>/home/joseph/Dropbox/DeepLearning/ProjetFilRou...</td>\n",
       "      <td>/home/joseph/Dropbox/DeepLearning/ProjetFilRou...</td>\n",
       "      <td>/home/joseph/Dropbox/DeepLearning/ProjetFilRou...</td>\n",
       "      <td>/home/joseph/Dropbox/DeepLearning/ProjetFilRou...</td>\n",
       "      <td>/home/joseph/Dropbox/DeepLearning/ProjetFilRou...</td>\n",
       "      <td>/home/joseph/Dropbox/DeepLearning/ProjetFilRou...</td>\n",
       "      <td>...</td>\n",
       "      <td>/home/joseph/Dropbox/DeepLearning/ProjetFilRou...</td>\n",
       "      <td>/home/joseph/Dropbox/DeepLearning/ProjetFilRou...</td>\n",
       "      <td>/home/joseph/Dropbox/DeepLearning/ProjetFilRou...</td>\n",
       "      <td>/home/joseph/Dropbox/DeepLearning/ProjetFilRou...</td>\n",
       "      <td>/home/joseph/Dropbox/DeepLearning/ProjetFilRou...</td>\n",
       "      <td>/home/joseph/Dropbox/DeepLearning/ProjetFilRou...</td>\n",
       "      <td>/home/joseph/Dropbox/DeepLearning/ProjetFilRou...</td>\n",
       "      <td>/home/joseph/Dropbox/DeepLearning/ProjetFilRou...</td>\n",
       "      <td>/home/joseph/Dropbox/DeepLearning/ProjetFilRou...</td>\n",
       "      <td>/home/joseph/Dropbox/DeepLearning/ProjetFilRou...</td>\n",
       "    </tr>\n",
       "    <tr>\n",
       "      <th>2017-09-28</th>\n",
       "      <td>/home/joseph/Dropbox/DeepLearning/ProjetFilRou...</td>\n",
       "      <td>/home/joseph/Dropbox/DeepLearning/ProjetFilRou...</td>\n",
       "      <td>/home/joseph/Dropbox/DeepLearning/ProjetFilRou...</td>\n",
       "      <td>/home/joseph/Dropbox/DeepLearning/ProjetFilRou...</td>\n",
       "      <td>/home/joseph/Dropbox/DeepLearning/ProjetFilRou...</td>\n",
       "      <td>/home/joseph/Dropbox/DeepLearning/ProjetFilRou...</td>\n",
       "      <td>/home/joseph/Dropbox/DeepLearning/ProjetFilRou...</td>\n",
       "      <td>/home/joseph/Dropbox/DeepLearning/ProjetFilRou...</td>\n",
       "      <td>/home/joseph/Dropbox/DeepLearning/ProjetFilRou...</td>\n",
       "      <td>/home/joseph/Dropbox/DeepLearning/ProjetFilRou...</td>\n",
       "      <td>...</td>\n",
       "      <td>/home/joseph/Dropbox/DeepLearning/ProjetFilRou...</td>\n",
       "      <td>/home/joseph/Dropbox/DeepLearning/ProjetFilRou...</td>\n",
       "      <td>/home/joseph/Dropbox/DeepLearning/ProjetFilRou...</td>\n",
       "      <td>/home/joseph/Dropbox/DeepLearning/ProjetFilRou...</td>\n",
       "      <td>/home/joseph/Dropbox/DeepLearning/ProjetFilRou...</td>\n",
       "      <td>/home/joseph/Dropbox/DeepLearning/ProjetFilRou...</td>\n",
       "      <td>/home/joseph/Dropbox/DeepLearning/ProjetFilRou...</td>\n",
       "      <td>/home/joseph/Dropbox/DeepLearning/ProjetFilRou...</td>\n",
       "      <td>/home/joseph/Dropbox/DeepLearning/ProjetFilRou...</td>\n",
       "      <td>/home/joseph/Dropbox/DeepLearning/ProjetFilRou...</td>\n",
       "    </tr>\n",
       "  </tbody>\n",
       "</table>\n",
       "<p>5 rows × 29 columns</p>\n",
       "</div>"
      ],
      "text/plain": [
       "                                                 qvipnbdora02  \\\n",
       "2017-09-24  /home/joseph/Dropbox/DeepLearning/ProjetFilRou...   \n",
       "2017-09-25  /home/joseph/Dropbox/DeepLearning/ProjetFilRou...   \n",
       "2017-09-26  /home/joseph/Dropbox/DeepLearning/ProjetFilRou...   \n",
       "2017-09-27  /home/joseph/Dropbox/DeepLearning/ProjetFilRou...   \n",
       "2017-09-28  /home/joseph/Dropbox/DeepLearning/ProjetFilRou...   \n",
       "\n",
       "                                                 qvipnbdora04  \\\n",
       "2017-09-24  /home/joseph/Dropbox/DeepLearning/ProjetFilRou...   \n",
       "2017-09-25  /home/joseph/Dropbox/DeepLearning/ProjetFilRou...   \n",
       "2017-09-26  /home/joseph/Dropbox/DeepLearning/ProjetFilRou...   \n",
       "2017-09-27  /home/joseph/Dropbox/DeepLearning/ProjetFilRou...   \n",
       "2017-09-28  /home/joseph/Dropbox/DeepLearning/ProjetFilRou...   \n",
       "\n",
       "                                                 qvipnbusin02  \\\n",
       "2017-09-24  /home/joseph/Dropbox/DeepLearning/ProjetFilRou...   \n",
       "2017-09-25  /home/joseph/Dropbox/DeepLearning/ProjetFilRou...   \n",
       "2017-09-26  /home/joseph/Dropbox/DeepLearning/ProjetFilRou...   \n",
       "2017-09-27  /home/joseph/Dropbox/DeepLearning/ProjetFilRou...   \n",
       "2017-09-28  /home/joseph/Dropbox/DeepLearning/ProjetFilRou...   \n",
       "\n",
       "                                                 qvipnmonlx06  \\\n",
       "2017-09-24  /home/joseph/Dropbox/DeepLearning/ProjetFilRou...   \n",
       "2017-09-25  /home/joseph/Dropbox/DeepLearning/ProjetFilRou...   \n",
       "2017-09-26  /home/joseph/Dropbox/DeepLearning/ProjetFilRou...   \n",
       "2017-09-27  /home/joseph/Dropbox/DeepLearning/ProjetFilRou...   \n",
       "2017-09-28  /home/joseph/Dropbox/DeepLearning/ProjetFilRou...   \n",
       "\n",
       "                                                 qvipnmonlx10  \\\n",
       "2017-09-24  /home/joseph/Dropbox/DeepLearning/ProjetFilRou...   \n",
       "2017-09-25  /home/joseph/Dropbox/DeepLearning/ProjetFilRou...   \n",
       "2017-09-26  /home/joseph/Dropbox/DeepLearning/ProjetFilRou...   \n",
       "2017-09-27  /home/joseph/Dropbox/DeepLearning/ProjetFilRou...   \n",
       "2017-09-28  /home/joseph/Dropbox/DeepLearning/ProjetFilRou...   \n",
       "\n",
       "                                                 qvipnmonlx14  \\\n",
       "2017-09-24  /home/joseph/Dropbox/DeepLearning/ProjetFilRou...   \n",
       "2017-09-25  /home/joseph/Dropbox/DeepLearning/ProjetFilRou...   \n",
       "2017-09-26  /home/joseph/Dropbox/DeepLearning/ProjetFilRou...   \n",
       "2017-09-27  /home/joseph/Dropbox/DeepLearning/ProjetFilRou...   \n",
       "2017-09-28  /home/joseph/Dropbox/DeepLearning/ProjetFilRou...   \n",
       "\n",
       "                                                 qvipnmonlx16  \\\n",
       "2017-09-24  /home/joseph/Dropbox/DeepLearning/ProjetFilRou...   \n",
       "2017-09-25  /home/joseph/Dropbox/DeepLearning/ProjetFilRou...   \n",
       "2017-09-26  /home/joseph/Dropbox/DeepLearning/ProjetFilRou...   \n",
       "2017-09-27  /home/joseph/Dropbox/DeepLearning/ProjetFilRou...   \n",
       "2017-09-28  /home/joseph/Dropbox/DeepLearning/ProjetFilRou...   \n",
       "\n",
       "                                                 qviqbkarfs02  \\\n",
       "2017-09-24  /home/joseph/Dropbox/DeepLearning/ProjetFilRou...   \n",
       "2017-09-25  /home/joseph/Dropbox/DeepLearning/ProjetFilRou...   \n",
       "2017-09-26  /home/joseph/Dropbox/DeepLearning/ProjetFilRou...   \n",
       "2017-09-27  /home/joseph/Dropbox/DeepLearning/ProjetFilRou...   \n",
       "2017-09-28  /home/joseph/Dropbox/DeepLearning/ProjetFilRou...   \n",
       "\n",
       "                                                 qviqbocpno12  \\\n",
       "2017-09-24                                                  0   \n",
       "2017-09-25  /home/joseph/Dropbox/DeepLearning/ProjetFilRou...   \n",
       "2017-09-26  /home/joseph/Dropbox/DeepLearning/ProjetFilRou...   \n",
       "2017-09-27  /home/joseph/Dropbox/DeepLearning/ProjetFilRou...   \n",
       "2017-09-28  /home/joseph/Dropbox/DeepLearning/ProjetFilRou...   \n",
       "\n",
       "                                                 qviqbocpno14  \\\n",
       "2017-09-24  /home/joseph/Dropbox/DeepLearning/ProjetFilRou...   \n",
       "2017-09-25  /home/joseph/Dropbox/DeepLearning/ProjetFilRou...   \n",
       "2017-09-26  /home/joseph/Dropbox/DeepLearning/ProjetFilRou...   \n",
       "2017-09-27  /home/joseph/Dropbox/DeepLearning/ProjetFilRou...   \n",
       "2017-09-28  /home/joseph/Dropbox/DeepLearning/ProjetFilRou...   \n",
       "\n",
       "                                  ...                          \\\n",
       "2017-09-24                        ...                           \n",
       "2017-09-25                        ...                           \n",
       "2017-09-26                        ...                           \n",
       "2017-09-27                        ...                           \n",
       "2017-09-28                        ...                           \n",
       "\n",
       "                                                 qvirctbems04  \\\n",
       "2017-09-24  /home/joseph/Dropbox/DeepLearning/ProjetFilRou...   \n",
       "2017-09-25  /home/joseph/Dropbox/DeepLearning/ProjetFilRou...   \n",
       "2017-09-26  /home/joseph/Dropbox/DeepLearning/ProjetFilRou...   \n",
       "2017-09-27  /home/joseph/Dropbox/DeepLearning/ProjetFilRou...   \n",
       "2017-09-28  /home/joseph/Dropbox/DeepLearning/ProjetFilRou...   \n",
       "\n",
       "                                                 qvirnbdora02  \\\n",
       "2017-09-24  /home/joseph/Dropbox/DeepLearning/ProjetFilRou...   \n",
       "2017-09-25  /home/joseph/Dropbox/DeepLearning/ProjetFilRou...   \n",
       "2017-09-26  /home/joseph/Dropbox/DeepLearning/ProjetFilRou...   \n",
       "2017-09-27  /home/joseph/Dropbox/DeepLearning/ProjetFilRou...   \n",
       "2017-09-28  /home/joseph/Dropbox/DeepLearning/ProjetFilRou...   \n",
       "\n",
       "                                                 qvirnbdora04  \\\n",
       "2017-09-24  /home/joseph/Dropbox/DeepLearning/ProjetFilRou...   \n",
       "2017-09-25  /home/joseph/Dropbox/DeepLearning/ProjetFilRou...   \n",
       "2017-09-26  /home/joseph/Dropbox/DeepLearning/ProjetFilRou...   \n",
       "2017-09-27  /home/joseph/Dropbox/DeepLearning/ProjetFilRou...   \n",
       "2017-09-28  /home/joseph/Dropbox/DeepLearning/ProjetFilRou...   \n",
       "\n",
       "                                                 qvirnbusin02  \\\n",
       "2017-09-24  /home/joseph/Dropbox/DeepLearning/ProjetFilRou...   \n",
       "2017-09-25  /home/joseph/Dropbox/DeepLearning/ProjetFilRou...   \n",
       "2017-09-26  /home/joseph/Dropbox/DeepLearning/ProjetFilRou...   \n",
       "2017-09-27  /home/joseph/Dropbox/DeepLearning/ProjetFilRou...   \n",
       "2017-09-28  /home/joseph/Dropbox/DeepLearning/ProjetFilRou...   \n",
       "\n",
       "                                                qvitbbautin02  \\\n",
       "2017-09-24  /home/joseph/Dropbox/DeepLearning/ProjetFilRou...   \n",
       "2017-09-25  /home/joseph/Dropbox/DeepLearning/ProjetFilRou...   \n",
       "2017-09-26  /home/joseph/Dropbox/DeepLearning/ProjetFilRou...   \n",
       "2017-09-27  /home/joseph/Dropbox/DeepLearning/ProjetFilRou...   \n",
       "2017-09-28  /home/joseph/Dropbox/DeepLearning/ProjetFilRou...   \n",
       "\n",
       "                                                qvitbbautin04  \\\n",
       "2017-09-24  /home/joseph/Dropbox/DeepLearning/ProjetFilRou...   \n",
       "2017-09-25  /home/joseph/Dropbox/DeepLearning/ProjetFilRou...   \n",
       "2017-09-26  /home/joseph/Dropbox/DeepLearning/ProjetFilRou...   \n",
       "2017-09-27  /home/joseph/Dropbox/DeepLearning/ProjetFilRou...   \n",
       "2017-09-28  /home/joseph/Dropbox/DeepLearning/ProjetFilRou...   \n",
       "\n",
       "                                                qvitbbautin06  \\\n",
       "2017-09-24  /home/joseph/Dropbox/DeepLearning/ProjetFilRou...   \n",
       "2017-09-25  /home/joseph/Dropbox/DeepLearning/ProjetFilRou...   \n",
       "2017-09-26  /home/joseph/Dropbox/DeepLearning/ProjetFilRou...   \n",
       "2017-09-27  /home/joseph/Dropbox/DeepLearning/ProjetFilRou...   \n",
       "2017-09-28  /home/joseph/Dropbox/DeepLearning/ProjetFilRou...   \n",
       "\n",
       "                                                 qvitbcjbod02  \\\n",
       "2017-09-24  /home/joseph/Dropbox/DeepLearning/ProjetFilRou...   \n",
       "2017-09-25  /home/joseph/Dropbox/DeepLearning/ProjetFilRou...   \n",
       "2017-09-26  /home/joseph/Dropbox/DeepLearning/ProjetFilRou...   \n",
       "2017-09-27  /home/joseph/Dropbox/DeepLearning/ProjetFilRou...   \n",
       "2017-09-28  /home/joseph/Dropbox/DeepLearning/ProjetFilRou...   \n",
       "\n",
       "                                                 qvitntbems02  \\\n",
       "2017-09-24                                                  0   \n",
       "2017-09-25                                                  0   \n",
       "2017-09-26  /home/joseph/Dropbox/DeepLearning/ProjetFilRou...   \n",
       "2017-09-27  /home/joseph/Dropbox/DeepLearning/ProjetFilRou...   \n",
       "2017-09-28  /home/joseph/Dropbox/DeepLearning/ProjetFilRou...   \n",
       "\n",
       "                                                     qvitsys6  \n",
       "2017-09-24  /home/joseph/Dropbox/DeepLearning/ProjetFilRou...  \n",
       "2017-09-25  /home/joseph/Dropbox/DeepLearning/ProjetFilRou...  \n",
       "2017-09-26  /home/joseph/Dropbox/DeepLearning/ProjetFilRou...  \n",
       "2017-09-27  /home/joseph/Dropbox/DeepLearning/ProjetFilRou...  \n",
       "2017-09-28  /home/joseph/Dropbox/DeepLearning/ProjetFilRou...  \n",
       "\n",
       "[5 rows x 29 columns]"
      ]
     },
     "execution_count": 5,
     "metadata": {},
     "output_type": "execute_result"
    }
   ],
   "source": [
    "ServerName.head()"
   ]
  },
  {
   "cell_type": "code",
   "execution_count": 6,
   "metadata": {},
   "outputs": [
    {
     "name": "stdout",
     "output_type": "stream",
     "text": [
      "<class 'pandas.core.indexes.datetimes.DatetimeIndex'>\n",
      "[datetime.date(2017, 10, 1), datetime.date(2017, 10, 2), datetime.date(2017, 10, 3), datetime.date(2017, 10, 4), datetime.date(2017, 10, 5), datetime.date(2017, 10, 6), datetime.date(2017, 10, 7), datetime.date(2017, 10, 8), datetime.date(2017, 10, 9), datetime.date(2017, 10, 10), datetime.date(2017, 10, 11), datetime.date(2017, 10, 12), datetime.date(2017, 10, 13), datetime.date(2017, 10, 14), datetime.date(2017, 10, 15), datetime.date(2017, 10, 16), datetime.date(2017, 10, 17), datetime.date(2017, 10, 18), datetime.date(2017, 10, 19), datetime.date(2017, 10, 20), datetime.date(2017, 10, 21), datetime.date(2017, 10, 22), datetime.date(2017, 10, 23), datetime.date(2017, 10, 24), datetime.date(2017, 10, 25), datetime.date(2017, 10, 26)]\n",
      "[datetime.date(2017, 9, 25) datetime.date(2017, 9, 26)\n",
      " datetime.date(2017, 9, 27) datetime.date(2017, 9, 28)\n",
      " datetime.date(2017, 9, 29) datetime.date(2017, 9, 30)\n",
      " datetime.date(2017, 9, 24)]\n"
     ]
    }
   ],
   "source": [
    "#Select a full week for learning even if not contiguous date\n",
    "date_available = ServerName[ServerName['qvipnbdora04'] != 0].index\n",
    "# let 's del the 2017-10-19\n",
    "#date_available = np.delete(date_available, np.argwhere(date_available == '2017-10-19')[0])\n",
    "# bug from 19:00 for 284 minutes without logs\n",
    "print(type(date_available))\n",
    "# let's take now the first full week\n",
    "date_ind = np.empty(7,dtype=dt.date)\n",
    "date_available_2 = np.empty(date_available.shape[0]-7,dtype=dt.date)\n",
    "for i in range(7):\n",
    "    d = date_available[int(np.argwhere(date_available.weekday ==i)[0])]\n",
    "    date_available = np.delete(date_available, np.argwhere(date_available == d)[0])\n",
    "    date_ind[i]= dt.date.fromtimestamp(d.timestamp())\n",
    "date_available_2 =[dt.date.fromtimestamp(d.timestamp()) for d in date_available]\n",
    "print(date_available_2)\n",
    "print(date_ind)"
   ]
  },
  {
   "cell_type": "code",
   "execution_count": 7,
   "metadata": {},
   "outputs": [
    {
     "data": {
      "text/plain": [
       "['/home/joseph/Dropbox/DeepLearning/ProjetFilRouge/AirFrance/logs/servers/qvipnbdora04.20170924.log',\n",
       " '/home/joseph/Dropbox/DeepLearning/ProjetFilRouge/AirFrance/logs/servers/qvipnbdora04.20170925.log',\n",
       " '/home/joseph/Dropbox/DeepLearning/ProjetFilRouge/AirFrance/logs/servers/qvipnbdora04.20170926.log',\n",
       " '/home/joseph/Dropbox/DeepLearning/ProjetFilRouge/AirFrance/logs/servers/qvipnbdora04.20170927.log',\n",
       " '/home/joseph/Dropbox/DeepLearning/ProjetFilRouge/AirFrance/logs/servers/qvipnbdora04.20170928.log',\n",
       " '/home/joseph/Dropbox/DeepLearning/ProjetFilRouge/AirFrance/logs/servers/qvipnbdora04.20170929.log',\n",
       " '/home/joseph/Dropbox/DeepLearning/ProjetFilRouge/AirFrance/logs/servers/qvipnbdora04.20170930.log',\n",
       " '/home/joseph/Dropbox/DeepLearning/ProjetFilRouge/AirFrance/logs/servers/qvipnbdora04.20171001.log',\n",
       " '/home/joseph/Dropbox/DeepLearning/ProjetFilRouge/AirFrance/logs/servers/qvipnbdora04.20171002.log',\n",
       " '/home/joseph/Dropbox/DeepLearning/ProjetFilRouge/AirFrance/logs/servers/qvipnbdora04.20171003.log',\n",
       " '/home/joseph/Dropbox/DeepLearning/ProjetFilRouge/AirFrance/logs/servers/qvipnbdora04.20171004.log',\n",
       " '/home/joseph/Dropbox/DeepLearning/ProjetFilRouge/AirFrance/logs/servers/qvipnbdora04.20171005.log',\n",
       " '/home/joseph/Dropbox/DeepLearning/ProjetFilRouge/AirFrance/logs/servers/qvipnbdora04.20171006.log',\n",
       " '/home/joseph/Dropbox/DeepLearning/ProjetFilRouge/AirFrance/logs/servers/qvipnbdora04.20171007.log',\n",
       " '/home/joseph/Dropbox/DeepLearning/ProjetFilRouge/AirFrance/logs/servers/qvipnbdora04.20171008.log',\n",
       " '/home/joseph/Dropbox/DeepLearning/ProjetFilRouge/AirFrance/logs/servers/qvipnbdora04.20171009.log',\n",
       " '/home/joseph/Dropbox/DeepLearning/ProjetFilRouge/AirFrance/logs/servers/qvipnbdora04.20171010.log',\n",
       " '/home/joseph/Dropbox/DeepLearning/ProjetFilRouge/AirFrance/logs/servers/qvipnbdora04.20171011.log',\n",
       " '/home/joseph/Dropbox/DeepLearning/ProjetFilRouge/AirFrance/logs/servers/qvipnbdora04.20171012.log',\n",
       " '/home/joseph/Dropbox/DeepLearning/ProjetFilRouge/AirFrance/logs/servers/qvipnbdora04.20171013.log',\n",
       " '/home/joseph/Dropbox/DeepLearning/ProjetFilRouge/AirFrance/logs/servers/qvipnbdora04.20171014.log',\n",
       " '/home/joseph/Dropbox/DeepLearning/ProjetFilRouge/AirFrance/logs/servers/qvipnbdora04.20171015.log',\n",
       " '/home/joseph/Dropbox/DeepLearning/ProjetFilRouge/AirFrance/logs/servers/qvipnbdora04.20171016.log',\n",
       " '/home/joseph/Dropbox/DeepLearning/ProjetFilRouge/AirFrance/logs/servers/qvipnbdora04.20171017.log',\n",
       " '/home/joseph/Dropbox/DeepLearning/ProjetFilRouge/AirFrance/logs/servers/qvipnbdora04.20171018.log',\n",
       " '/home/joseph/Dropbox/DeepLearning/ProjetFilRouge/AirFrance/logs/servers/qvipnbdora04.20171019.log',\n",
       " '/home/joseph/Dropbox/DeepLearning/ProjetFilRouge/AirFrance/logs/servers/qvipnbdora04.20171020.log',\n",
       " '/home/joseph/Dropbox/DeepLearning/ProjetFilRouge/AirFrance/logs/servers/qvipnbdora04.20171021.log',\n",
       " '/home/joseph/Dropbox/DeepLearning/ProjetFilRouge/AirFrance/logs/servers/qvipnbdora04.20171022.log',\n",
       " '/home/joseph/Dropbox/DeepLearning/ProjetFilRouge/AirFrance/logs/servers/qvipnbdora04.20171023.log',\n",
       " '/home/joseph/Dropbox/DeepLearning/ProjetFilRouge/AirFrance/logs/servers/qvipnbdora04.20171024.log',\n",
       " '/home/joseph/Dropbox/DeepLearning/ProjetFilRouge/AirFrance/logs/servers/qvipnbdora04.20171025.log',\n",
       " '/home/joseph/Dropbox/DeepLearning/ProjetFilRouge/AirFrance/logs/servers/qvipnbdora04.20171026.log']"
      ]
     },
     "execution_count": 7,
     "metadata": {},
     "output_type": "execute_result"
    }
   ],
   "source": [
    "log_data_list = ServerName.loc[:,'qvipnbdora04'].values\n",
    "log_data_list = [i for i in log_data_list if i !=0 ]\n",
    "log_data_list"
   ]
  },
  {
   "cell_type": "code",
   "execution_count": null,
   "metadata": {},
   "outputs": [
    {
     "name": "stdout",
     "output_type": "stream",
     "text": [
      "[Success] Logs parsed within 2.14s\n",
      "[Success] Vocabulary processed within 4.72s\n"
     ]
    }
   ],
   "source": [
    "#Log Clustering\n",
    "\n",
    "analyzer = MessageLogAnalyzer()\n",
    "\n",
    "# Import des logs\n",
    "logs = read_dir('../logs/servers/*qvipnbdora04*')\n",
    "\n",
    "# Parsing des logs en df\n",
    "df_log = parse_all(logs)\n",
    "\n",
    "# Extraction de la partie message\n",
    "X = df_log.loc[:,2:].values\n",
    "\n",
    "# Count des fréquences verticales\n",
    "X_count = analyzer.fit_count(X) # \"batch\"\n",
    "\n",
    "# Obtention des labels de clustering\n",
    "y = analyzer.fit_clusterize(X,X_count)\n",
    "\n",
    "# Stockage des labels de clustering\n",
    "df_log['label'] = y\n",
    "\n",
    "df_log.to_csv('dataframe.csv')"
   ]
  },
  {
   "cell_type": "code",
   "execution_count": null,
   "metadata": {},
   "outputs": [],
   "source": [
    "df_log = pd.read_csv('dataframe.csv')\n",
    "df_log.head()"
   ]
  },
  {
   "cell_type": "code",
   "execution_count": 16,
   "metadata": {},
   "outputs": [],
   "source": [
    "# I have to preprocess the dataframe, put timestamp in index in order to get\n",
    "# the 3 datasets (1 for profiling, 2nd to set distributionn, 3rd to test)\n",
    "df_log.index = pd.to_datetime(df_log.timestamp, format='%Y-%m-%d %H:%M:%S')\n",
    "df_log = df_log.sort_index()"
   ]
  },
  {
   "cell_type": "code",
   "execution_count": 17,
   "metadata": {},
   "outputs": [
    {
     "data": {
      "text/plain": [
       "['2017-09-25',\n",
       " '2017-09-26',\n",
       " '2017-09-27',\n",
       " '2017-09-28',\n",
       " '2017-09-29',\n",
       " '2017-09-30',\n",
       " '2017-09-24']"
      ]
     },
     "execution_count": 17,
     "metadata": {},
     "output_type": "execute_result"
    }
   ],
   "source": [
    "date_profile = [t.isoformat() for t in date_ind]\n",
    "date_train = [t.isoformat() for t in date_available_2]\n",
    "date_profile"
   ]
  },
  {
   "cell_type": "code",
   "execution_count": 18,
   "metadata": {},
   "outputs": [
    {
     "data": {
      "text/html": [
       "<div>\n",
       "<style scoped>\n",
       "    .dataframe tbody tr th:only-of-type {\n",
       "        vertical-align: middle;\n",
       "    }\n",
       "\n",
       "    .dataframe tbody tr th {\n",
       "        vertical-align: top;\n",
       "    }\n",
       "\n",
       "    .dataframe thead th {\n",
       "        text-align: right;\n",
       "    }\n",
       "</style>\n",
       "<table border=\"1\" class=\"dataframe\">\n",
       "  <thead>\n",
       "    <tr style=\"text-align: right;\">\n",
       "      <th></th>\n",
       "      <th>timestamp</th>\n",
       "      <th>0</th>\n",
       "      <th>1</th>\n",
       "      <th>2</th>\n",
       "      <th>3</th>\n",
       "      <th>4</th>\n",
       "      <th>5</th>\n",
       "      <th>6</th>\n",
       "      <th>7</th>\n",
       "      <th>8</th>\n",
       "      <th>...</th>\n",
       "      <th>61</th>\n",
       "      <th>62</th>\n",
       "      <th>63</th>\n",
       "      <th>64</th>\n",
       "      <th>65</th>\n",
       "      <th>66</th>\n",
       "      <th>67</th>\n",
       "      <th>68</th>\n",
       "      <th>69</th>\n",
       "      <th>label</th>\n",
       "    </tr>\n",
       "    <tr>\n",
       "      <th>timestamp</th>\n",
       "      <th></th>\n",
       "      <th></th>\n",
       "      <th></th>\n",
       "      <th></th>\n",
       "      <th></th>\n",
       "      <th></th>\n",
       "      <th></th>\n",
       "      <th></th>\n",
       "      <th></th>\n",
       "      <th></th>\n",
       "      <th></th>\n",
       "      <th></th>\n",
       "      <th></th>\n",
       "      <th></th>\n",
       "      <th></th>\n",
       "      <th></th>\n",
       "      <th></th>\n",
       "      <th></th>\n",
       "      <th></th>\n",
       "      <th></th>\n",
       "      <th></th>\n",
       "    </tr>\n",
       "  </thead>\n",
       "  <tbody>\n",
       "    <tr>\n",
       "      <th>2017-09-24 00:00:54</th>\n",
       "      <td>2017-09-24 00:00:54</td>\n",
       "      <td>qvipnbdora04</td>\n",
       "      <td>su:</td>\n",
       "      <td>pam_unix(su:session):</td>\n",
       "      <td>session</td>\n",
       "      <td>opened</td>\n",
       "      <td>for</td>\n",
       "      <td>user</td>\n",
       "      <td>oracle</td>\n",
       "      <td>by</td>\n",
       "      <td>...</td>\n",
       "      <td>NaN</td>\n",
       "      <td>NaN</td>\n",
       "      <td>NaN</td>\n",
       "      <td>NaN</td>\n",
       "      <td>NaN</td>\n",
       "      <td>NaN</td>\n",
       "      <td>NaN</td>\n",
       "      <td>NaN</td>\n",
       "      <td>NaN</td>\n",
       "      <td>0.0</td>\n",
       "    </tr>\n",
       "    <tr>\n",
       "      <th>2017-09-24 00:00:54</th>\n",
       "      <td>2017-09-24 00:00:54</td>\n",
       "      <td>qvipnbdora04</td>\n",
       "      <td>su:</td>\n",
       "      <td>pam_unix(su:session):</td>\n",
       "      <td>session</td>\n",
       "      <td>opened</td>\n",
       "      <td>for</td>\n",
       "      <td>user</td>\n",
       "      <td>oracle</td>\n",
       "      <td>by</td>\n",
       "      <td>...</td>\n",
       "      <td>NaN</td>\n",
       "      <td>NaN</td>\n",
       "      <td>NaN</td>\n",
       "      <td>NaN</td>\n",
       "      <td>NaN</td>\n",
       "      <td>NaN</td>\n",
       "      <td>NaN</td>\n",
       "      <td>NaN</td>\n",
       "      <td>NaN</td>\n",
       "      <td>0.0</td>\n",
       "    </tr>\n",
       "    <tr>\n",
       "      <th>2017-09-24 00:00:54</th>\n",
       "      <td>2017-09-24 00:00:54</td>\n",
       "      <td>qvipnbdora04</td>\n",
       "      <td>su:</td>\n",
       "      <td>pam_unix(su:session):</td>\n",
       "      <td>session</td>\n",
       "      <td>closed</td>\n",
       "      <td>for</td>\n",
       "      <td>user</td>\n",
       "      <td>oracle</td>\n",
       "      <td>NaN</td>\n",
       "      <td>...</td>\n",
       "      <td>NaN</td>\n",
       "      <td>NaN</td>\n",
       "      <td>NaN</td>\n",
       "      <td>NaN</td>\n",
       "      <td>NaN</td>\n",
       "      <td>NaN</td>\n",
       "      <td>NaN</td>\n",
       "      <td>NaN</td>\n",
       "      <td>NaN</td>\n",
       "      <td>0.0</td>\n",
       "    </tr>\n",
       "    <tr>\n",
       "      <th>2017-09-24 00:00:54</th>\n",
       "      <td>2017-09-24 00:00:54</td>\n",
       "      <td>qvipnbdora04</td>\n",
       "      <td>su:</td>\n",
       "      <td>pam_unix(su:session):</td>\n",
       "      <td>session</td>\n",
       "      <td>opened</td>\n",
       "      <td>for</td>\n",
       "      <td>user</td>\n",
       "      <td>oracle</td>\n",
       "      <td>by</td>\n",
       "      <td>...</td>\n",
       "      <td>NaN</td>\n",
       "      <td>NaN</td>\n",
       "      <td>NaN</td>\n",
       "      <td>NaN</td>\n",
       "      <td>NaN</td>\n",
       "      <td>NaN</td>\n",
       "      <td>NaN</td>\n",
       "      <td>NaN</td>\n",
       "      <td>NaN</td>\n",
       "      <td>0.0</td>\n",
       "    </tr>\n",
       "    <tr>\n",
       "      <th>2017-09-24 00:00:54</th>\n",
       "      <td>2017-09-24 00:00:54</td>\n",
       "      <td>qvipnbdora04</td>\n",
       "      <td>su:</td>\n",
       "      <td>pam_unix(su:session):</td>\n",
       "      <td>session</td>\n",
       "      <td>closed</td>\n",
       "      <td>for</td>\n",
       "      <td>user</td>\n",
       "      <td>oracle</td>\n",
       "      <td>NaN</td>\n",
       "      <td>...</td>\n",
       "      <td>NaN</td>\n",
       "      <td>NaN</td>\n",
       "      <td>NaN</td>\n",
       "      <td>NaN</td>\n",
       "      <td>NaN</td>\n",
       "      <td>NaN</td>\n",
       "      <td>NaN</td>\n",
       "      <td>NaN</td>\n",
       "      <td>NaN</td>\n",
       "      <td>0.0</td>\n",
       "    </tr>\n",
       "  </tbody>\n",
       "</table>\n",
       "<p>5 rows × 72 columns</p>\n",
       "</div>"
      ],
      "text/plain": [
       "                               timestamp             0    1  \\\n",
       "timestamp                                                     \n",
       "2017-09-24 00:00:54  2017-09-24 00:00:54  qvipnbdora04  su:   \n",
       "2017-09-24 00:00:54  2017-09-24 00:00:54  qvipnbdora04  su:   \n",
       "2017-09-24 00:00:54  2017-09-24 00:00:54  qvipnbdora04  su:   \n",
       "2017-09-24 00:00:54  2017-09-24 00:00:54  qvipnbdora04  su:   \n",
       "2017-09-24 00:00:54  2017-09-24 00:00:54  qvipnbdora04  su:   \n",
       "\n",
       "                                         2        3       4    5     6  \\\n",
       "timestamp                                                                \n",
       "2017-09-24 00:00:54  pam_unix(su:session):  session  opened  for  user   \n",
       "2017-09-24 00:00:54  pam_unix(su:session):  session  opened  for  user   \n",
       "2017-09-24 00:00:54  pam_unix(su:session):  session  closed  for  user   \n",
       "2017-09-24 00:00:54  pam_unix(su:session):  session  opened  for  user   \n",
       "2017-09-24 00:00:54  pam_unix(su:session):  session  closed  for  user   \n",
       "\n",
       "                          7    8  ...    61   62   63   64   65   66   67  \\\n",
       "timestamp                         ...                                       \n",
       "2017-09-24 00:00:54  oracle   by  ...   NaN  NaN  NaN  NaN  NaN  NaN  NaN   \n",
       "2017-09-24 00:00:54  oracle   by  ...   NaN  NaN  NaN  NaN  NaN  NaN  NaN   \n",
       "2017-09-24 00:00:54  oracle  NaN  ...   NaN  NaN  NaN  NaN  NaN  NaN  NaN   \n",
       "2017-09-24 00:00:54  oracle   by  ...   NaN  NaN  NaN  NaN  NaN  NaN  NaN   \n",
       "2017-09-24 00:00:54  oracle  NaN  ...   NaN  NaN  NaN  NaN  NaN  NaN  NaN   \n",
       "\n",
       "                      68   69 label  \n",
       "timestamp                            \n",
       "2017-09-24 00:00:54  NaN  NaN   0.0  \n",
       "2017-09-24 00:00:54  NaN  NaN   0.0  \n",
       "2017-09-24 00:00:54  NaN  NaN   0.0  \n",
       "2017-09-24 00:00:54  NaN  NaN   0.0  \n",
       "2017-09-24 00:00:54  NaN  NaN   0.0  \n",
       "\n",
       "[5 rows x 72 columns]"
      ]
     },
     "execution_count": 18,
     "metadata": {},
     "output_type": "execute_result"
    }
   ],
   "source": [
    "#resample nous demande une semaine contigu\n",
    "mask = (df_log.index >= date_profile[6]) & (df_log.index <= date_profile[5])\n",
    "data_profile = df_log.loc[mask]\n",
    "data_profile.head()"
   ]
  },
  {
   "cell_type": "code",
   "execution_count": 121,
   "metadata": {},
   "outputs": [
    {
     "data": {
      "text/plain": [
       "17974"
      ]
     },
     "execution_count": 121,
     "metadata": {},
     "output_type": "execute_result"
    }
   ],
   "source": [
    "len(data_profile['2017-09-29'])"
   ]
  },
  {
   "cell_type": "code",
   "execution_count": 19,
   "metadata": {},
   "outputs": [],
   "source": [
    "distribution_init = sortedcontainers.SortedDict(sortedcontainers.SortedList())\n",
    "for i in range(7):\n",
    "    distribution_init[i]=sortedcontainers.SortedList([0,np.inf])"
   ]
  },
  {
   "cell_type": "code",
   "execution_count": 20,
   "metadata": {},
   "outputs": [],
   "source": [
    "# Server Profile Learning (data, parameters, distribution, distribution_period, level_threshold)\n",
    "%autoreload \n",
    "period = 1\n",
    "m_avg_period = 5\n",
    "dist_period = 15\n",
    "dist_radius = 5\n",
    "parameters = np.asarray([period, m_avg_period, dist_period, dist_radius])\n",
    "distribution_period = 60*24 # 1 distribution for each day\n",
    "level_threshold = 1e-2 # For defining outliers\n",
    "distribution = distribution_init\n",
    "processus = True"
   ]
  },
  {
   "cell_type": "code",
   "execution_count": 21,
   "metadata": {},
   "outputs": [
    {
     "name": "stdout",
     "output_type": "stream",
     "text": [
      "cluster number 0.0 of hostname: qvipnbdora04\n",
      "cluster number 1.0 of hostname: qvipnbdora04\n",
      "cluster number 2.0 of hostname: qvipnbdora04\n",
      "cluster number 3.0 of hostname: qvipnbdora04\n",
      "cluster number 4.0 of hostname: qvipnbdora04\n",
      "cluster number 5.0 of hostname: qvipnbdora04\n",
      "cluster number 6.0 of hostname: qvipnbdora04\n",
      "cluster number 8.0 of hostname: qvipnbdora04\n",
      "cluster number 9.0 of hostname: qvipnbdora04\n",
      "cluster number 10.0 of hostname: qvipnbdora04\n",
      "cluster number 11.0 of hostname: qvipnbdora04\n",
      "cluster number 13.0 of hostname: qvipnbdora04\n",
      "cluster number 14.0 of hostname: qvipnbdora04\n",
      "cluster number 17.0 of hostname: qvipnbdora04\n",
      "cluster number 19.0 of hostname: qvipnbdora04\n",
      "cluster number 21.0 of hostname: qvipnbdora04\n",
      "cluster number 33.0 of hostname: qvipnbdora04\n",
      "cluster number 34.0 of hostname: qvipnbdora04\n",
      "cluster number 35.0 of hostname: qvipnbdora04\n",
      "cluster number 56.0 of hostname: qvipnbdora04\n",
      "cluster number 57.0 of hostname: qvipnbdora04\n",
      "cluster number 123.0 of hostname: qvipnbdora04\n",
      "cluster number 124.0 of hostname: qvipnbdora04\n",
      "cluster number 126.0 of hostname: qvipnbdora04\n",
      "cluster number 127.0 of hostname: qvipnbdora04\n",
      "cluster number 128.0 of hostname: qvipnbdora04\n",
      "cluster number 129.0 of hostname: qvipnbdora04\n",
      "cluster number 130.0 of hostname: qvipnbdora04\n",
      "cluster number 131.0 of hostname: qvipnbdora04\n",
      "cluster number 132.0 of hostname: qvipnbdora04\n",
      "cluster number 138.0 of hostname: qvipnbdora04\n",
      "cluster number 140.0 of hostname: qvipnbdora04\n",
      "cluster number 146.0 of hostname: qvipnbdora04\n",
      "cluster number 154.0 of hostname: qvipnbdora04\n",
      "cluster number 157.0 of hostname: qvipnbdora04\n",
      "cluster number 161.0 of hostname: qvipnbdora04\n",
      "cluster number 162.0 of hostname: qvipnbdora04\n",
      "cluster number 163.0 of hostname: qvipnbdora04\n",
      "cluster number 186.0 of hostname: qvipnbdora04\n",
      "cluster number 188.0 of hostname: qvipnbdora04\n",
      "cluster number 193.0 of hostname: qvipnbdora04\n",
      "cluster number 194.0 of hostname: qvipnbdora04\n",
      "cluster number 197.0 of hostname: qvipnbdora04\n",
      "cluster number 198.0 of hostname: qvipnbdora04\n",
      "cluster number 206.0 of hostname: qvipnbdora04\n",
      "cluster number 210.0 of hostname: qvipnbdora04\n",
      "cluster number 219.0 of hostname: qvipnbdora04\n",
      "cluster number 250.0 of hostname: qvipnbdora04\n",
      "cluster number 265.0 of hostname: qvipnbdora04\n",
      "cluster number 266.0 of hostname: qvipnbdora04\n",
      "cluster number 267.0 of hostname: qvipnbdora04\n",
      "cluster number 268.0 of hostname: qvipnbdora04\n",
      "cluster number 269.0 of hostname: qvipnbdora04\n",
      "cluster number 270.0 of hostname: qvipnbdora04\n",
      "cluster number 272.0 of hostname: qvipnbdora04\n",
      "cluster number 273.0 of hostname: qvipnbdora04\n",
      "cluster number 274.0 of hostname: qvipnbdora04\n",
      "cluster number 275.0 of hostname: qvipnbdora04\n",
      "cluster number 276.0 of hostname: qvipnbdora04\n",
      "cluster number 277.0 of hostname: qvipnbdora04\n",
      "cluster number 278.0 of hostname: qvipnbdora04\n",
      "cluster number 279.0 of hostname: qvipnbdora04\n",
      "cluster number 280.0 of hostname: qvipnbdora04\n",
      "cluster number 281.0 of hostname: qvipnbdora04\n",
      "cluster number 282.0 of hostname: qvipnbdora04\n",
      "cluster number 283.0 of hostname: qvipnbdora04\n",
      "cluster number 302.0 of hostname: qvipnbdora04\n",
      "cluster number 307.0 of hostname: qvipnbdora04\n",
      "cluster number 309.0 of hostname: qvipnbdora04\n",
      "cluster number 316.0 of hostname: qvipnbdora04\n",
      "cluster number 349.0 of hostname: qvipnbdora04\n",
      "cluster number 351.0 of hostname: qvipnbdora04\n",
      "cluster number 358.0 of hostname: qvipnbdora04\n",
      "cluster number 376.0 of hostname: qvipnbdora04\n",
      "cluster number 444.0 of hostname: qvipnbdora04\n",
      "cluster number 465.0 of hostname: qvipnbdora04\n",
      "cluster number 466.0 of hostname: qvipnbdora04\n",
      "cluster number 467.0 of hostname: qvipnbdora04\n",
      "cluster number 468.0 of hostname: qvipnbdora04\n",
      "cluster number 469.0 of hostname: qvipnbdora04\n",
      "cluster number 470.0 of hostname: qvipnbdora04\n",
      "cluster number 492.0 of hostname: qvipnbdora04\n",
      "cluster number 493.0 of hostname: qvipnbdora04\n",
      "cluster number 494.0 of hostname: qvipnbdora04\n",
      "cluster number 495.0 of hostname: qvipnbdora04\n",
      "cluster number 496.0 of hostname: qvipnbdora04\n",
      "cluster number 497.0 of hostname: qvipnbdora04\n",
      "cluster number 508.0 of hostname: qvipnbdora04\n",
      "cluster number 509.0 of hostname: qvipnbdora04\n",
      "cluster number 510.0 of hostname: qvipnbdora04\n",
      "cluster number 511.0 of hostname: qvipnbdora04\n",
      "cluster number 512.0 of hostname: qvipnbdora04\n",
      "cluster number 513.0 of hostname: qvipnbdora04\n",
      "cluster number 563.0 of hostname: qvipnbdora04\n",
      "cluster number 564.0 of hostname: qvipnbdora04\n",
      "cluster number 571.0 of hostname: qvipnbdora04\n",
      "cluster number 572.0 of hostname: qvipnbdora04\n",
      "cluster number 573.0 of hostname: qvipnbdora04\n",
      "cluster number 574.0 of hostname: qvipnbdora04\n",
      "cluster number 575.0 of hostname: qvipnbdora04\n",
      "cluster number 576.0 of hostname: qvipnbdora04\n",
      "cluster number 577.0 of hostname: qvipnbdora04\n",
      "cluster number 578.0 of hostname: qvipnbdora04\n",
      "cluster number 579.0 of hostname: qvipnbdora04\n",
      "cluster number 803.0 of hostname: qvipnbdora04\n",
      "Learning Serverqvipnbdora04 Done in 6.211491584777832\n"
     ]
    }
   ],
   "source": [
    "server_profile = spl.ServerProfileLearning(data_profile,parameters, distribution,distribution_period,level_threshold, processus)\n",
    "server_profile.set_profile()"
   ]
  },
  {
   "cell_type": "code",
   "execution_count": 22,
   "metadata": {},
   "outputs": [
    {
     "data": {
      "text/plain": [
       "dict_keys(['qvipnbdora04_general', 'qvipnbdora04_0.0', 'qvipnbdora04_1.0', 'qvipnbdora04_2.0', 'qvipnbdora04_3.0', 'qvipnbdora04_4.0', 'qvipnbdora04_5.0', 'qvipnbdora04_6.0', 'qvipnbdora04_8.0', 'qvipnbdora04_9.0', 'qvipnbdora04_10.0', 'qvipnbdora04_11.0', 'qvipnbdora04_13.0', 'qvipnbdora04_14.0', 'qvipnbdora04_17.0', 'qvipnbdora04_19.0', 'qvipnbdora04_21.0', 'qvipnbdora04_33.0', 'qvipnbdora04_34.0', 'qvipnbdora04_35.0', 'qvipnbdora04_56.0', 'qvipnbdora04_57.0', 'qvipnbdora04_123.0', 'qvipnbdora04_124.0', 'qvipnbdora04_126.0', 'qvipnbdora04_127.0', 'qvipnbdora04_128.0', 'qvipnbdora04_129.0', 'qvipnbdora04_130.0', 'qvipnbdora04_131.0', 'qvipnbdora04_132.0', 'qvipnbdora04_138.0', 'qvipnbdora04_140.0', 'qvipnbdora04_146.0', 'qvipnbdora04_154.0', 'qvipnbdora04_157.0', 'qvipnbdora04_161.0', 'qvipnbdora04_162.0', 'qvipnbdora04_163.0', 'qvipnbdora04_186.0', 'qvipnbdora04_188.0', 'qvipnbdora04_193.0', 'qvipnbdora04_194.0', 'qvipnbdora04_197.0', 'qvipnbdora04_198.0', 'qvipnbdora04_206.0', 'qvipnbdora04_210.0', 'qvipnbdora04_219.0', 'qvipnbdora04_250.0', 'qvipnbdora04_265.0', 'qvipnbdora04_266.0', 'qvipnbdora04_267.0', 'qvipnbdora04_268.0', 'qvipnbdora04_269.0', 'qvipnbdora04_270.0', 'qvipnbdora04_272.0', 'qvipnbdora04_273.0', 'qvipnbdora04_274.0', 'qvipnbdora04_275.0', 'qvipnbdora04_276.0', 'qvipnbdora04_277.0', 'qvipnbdora04_278.0', 'qvipnbdora04_279.0', 'qvipnbdora04_280.0', 'qvipnbdora04_281.0', 'qvipnbdora04_282.0', 'qvipnbdora04_283.0', 'qvipnbdora04_302.0', 'qvipnbdora04_307.0', 'qvipnbdora04_309.0', 'qvipnbdora04_316.0', 'qvipnbdora04_349.0', 'qvipnbdora04_351.0', 'qvipnbdora04_358.0', 'qvipnbdora04_376.0', 'qvipnbdora04_444.0', 'qvipnbdora04_465.0', 'qvipnbdora04_466.0', 'qvipnbdora04_467.0', 'qvipnbdora04_468.0', 'qvipnbdora04_469.0', 'qvipnbdora04_470.0', 'qvipnbdora04_492.0', 'qvipnbdora04_493.0', 'qvipnbdora04_494.0', 'qvipnbdora04_495.0', 'qvipnbdora04_496.0', 'qvipnbdora04_497.0', 'qvipnbdora04_508.0', 'qvipnbdora04_509.0', 'qvipnbdora04_510.0', 'qvipnbdora04_511.0', 'qvipnbdora04_512.0', 'qvipnbdora04_513.0', 'qvipnbdora04_563.0', 'qvipnbdora04_564.0', 'qvipnbdora04_571.0', 'qvipnbdora04_572.0', 'qvipnbdora04_573.0', 'qvipnbdora04_574.0', 'qvipnbdora04_575.0', 'qvipnbdora04_576.0', 'qvipnbdora04_577.0', 'qvipnbdora04_578.0', 'qvipnbdora04_579.0', 'qvipnbdora04_803.0'])"
      ]
     },
     "execution_count": 22,
     "metadata": {},
     "output_type": "execute_result"
    }
   ],
   "source": [
    "server_profile.server_profile.keys()"
   ]
  },
  {
   "cell_type": "code",
   "execution_count": 23,
   "metadata": {},
   "outputs": [
    {
     "data": {
      "text/plain": [
       "106"
      ]
     },
     "execution_count": 23,
     "metadata": {},
     "output_type": "execute_result"
    }
   ],
   "source": [
    "len(server_profile.server_profile.keys())"
   ]
  },
  {
   "cell_type": "code",
   "execution_count": 24,
   "metadata": {},
   "outputs": [
    {
     "data": {
      "text/plain": [
       "61"
      ]
     },
     "execution_count": 24,
     "metadata": {},
     "output_type": "execute_result"
    }
   ],
   "source": [
    "server_profile.server_profile['qvipnbdora04_general'].max_spread"
   ]
  },
  {
   "cell_type": "code",
   "execution_count": 25,
   "metadata": {},
   "outputs": [
    {
     "data": {
      "text/html": [
       "<div>\n",
       "<style scoped>\n",
       "    .dataframe tbody tr th:only-of-type {\n",
       "        vertical-align: middle;\n",
       "    }\n",
       "\n",
       "    .dataframe tbody tr th {\n",
       "        vertical-align: top;\n",
       "    }\n",
       "\n",
       "    .dataframe thead th {\n",
       "        text-align: right;\n",
       "    }\n",
       "</style>\n",
       "<table border=\"1\" class=\"dataframe\">\n",
       "  <thead>\n",
       "    <tr style=\"text-align: right;\">\n",
       "      <th></th>\n",
       "      <th>timestamp</th>\n",
       "    </tr>\n",
       "  </thead>\n",
       "  <tbody>\n",
       "    <tr>\n",
       "      <th>2017-09-24 00:00:54</th>\n",
       "      <td>5.0</td>\n",
       "    </tr>\n",
       "    <tr>\n",
       "      <th>2017-09-24 00:00:55</th>\n",
       "      <td>8.0</td>\n",
       "    </tr>\n",
       "    <tr>\n",
       "      <th>2017-09-24 00:00:56</th>\n",
       "      <td>8.0</td>\n",
       "    </tr>\n",
       "    <tr>\n",
       "      <th>2017-09-24 00:00:57</th>\n",
       "      <td>8.0</td>\n",
       "    </tr>\n",
       "    <tr>\n",
       "      <th>2017-09-24 00:00:58</th>\n",
       "      <td>8.0</td>\n",
       "    </tr>\n",
       "    <tr>\n",
       "      <th>2017-09-24 00:00:59</th>\n",
       "      <td>8.0</td>\n",
       "    </tr>\n",
       "    <tr>\n",
       "      <th>2017-09-24 00:01:00</th>\n",
       "      <td>8.0</td>\n",
       "    </tr>\n",
       "    <tr>\n",
       "      <th>2017-09-24 00:01:01</th>\n",
       "      <td>14.0</td>\n",
       "    </tr>\n",
       "    <tr>\n",
       "      <th>2017-09-24 00:01:02</th>\n",
       "      <td>14.0</td>\n",
       "    </tr>\n",
       "    <tr>\n",
       "      <th>2017-09-24 00:01:03</th>\n",
       "      <td>14.0</td>\n",
       "    </tr>\n",
       "    <tr>\n",
       "      <th>2017-09-24 00:01:04</th>\n",
       "      <td>14.0</td>\n",
       "    </tr>\n",
       "    <tr>\n",
       "      <th>2017-09-24 00:01:05</th>\n",
       "      <td>14.0</td>\n",
       "    </tr>\n",
       "    <tr>\n",
       "      <th>2017-09-24 00:01:06</th>\n",
       "      <td>14.0</td>\n",
       "    </tr>\n",
       "    <tr>\n",
       "      <th>2017-09-24 00:01:07</th>\n",
       "      <td>14.0</td>\n",
       "    </tr>\n",
       "    <tr>\n",
       "      <th>2017-09-24 00:01:08</th>\n",
       "      <td>14.0</td>\n",
       "    </tr>\n",
       "    <tr>\n",
       "      <th>2017-09-24 00:01:09</th>\n",
       "      <td>14.0</td>\n",
       "    </tr>\n",
       "    <tr>\n",
       "      <th>2017-09-24 00:01:10</th>\n",
       "      <td>14.0</td>\n",
       "    </tr>\n",
       "    <tr>\n",
       "      <th>2017-09-24 00:01:11</th>\n",
       "      <td>14.0</td>\n",
       "    </tr>\n",
       "    <tr>\n",
       "      <th>2017-09-24 00:01:12</th>\n",
       "      <td>14.0</td>\n",
       "    </tr>\n",
       "    <tr>\n",
       "      <th>2017-09-24 00:01:13</th>\n",
       "      <td>14.0</td>\n",
       "    </tr>\n",
       "    <tr>\n",
       "      <th>2017-09-24 00:01:14</th>\n",
       "      <td>14.0</td>\n",
       "    </tr>\n",
       "    <tr>\n",
       "      <th>2017-09-24 00:01:15</th>\n",
       "      <td>14.0</td>\n",
       "    </tr>\n",
       "    <tr>\n",
       "      <th>2017-09-24 00:01:16</th>\n",
       "      <td>14.0</td>\n",
       "    </tr>\n",
       "    <tr>\n",
       "      <th>2017-09-24 00:01:17</th>\n",
       "      <td>14.0</td>\n",
       "    </tr>\n",
       "    <tr>\n",
       "      <th>2017-09-24 00:01:18</th>\n",
       "      <td>14.0</td>\n",
       "    </tr>\n",
       "    <tr>\n",
       "      <th>2017-09-24 00:01:19</th>\n",
       "      <td>14.0</td>\n",
       "    </tr>\n",
       "    <tr>\n",
       "      <th>2017-09-24 00:01:20</th>\n",
       "      <td>14.0</td>\n",
       "    </tr>\n",
       "    <tr>\n",
       "      <th>2017-09-24 00:01:21</th>\n",
       "      <td>14.0</td>\n",
       "    </tr>\n",
       "    <tr>\n",
       "      <th>2017-09-24 00:01:22</th>\n",
       "      <td>14.0</td>\n",
       "    </tr>\n",
       "    <tr>\n",
       "      <th>2017-09-24 00:01:23</th>\n",
       "      <td>14.0</td>\n",
       "    </tr>\n",
       "  </tbody>\n",
       "</table>\n",
       "</div>"
      ],
      "text/plain": [
       "                     timestamp\n",
       "2017-09-24 00:00:54        5.0\n",
       "2017-09-24 00:00:55        8.0\n",
       "2017-09-24 00:00:56        8.0\n",
       "2017-09-24 00:00:57        8.0\n",
       "2017-09-24 00:00:58        8.0\n",
       "2017-09-24 00:00:59        8.0\n",
       "2017-09-24 00:01:00        8.0\n",
       "2017-09-24 00:01:01       14.0\n",
       "2017-09-24 00:01:02       14.0\n",
       "2017-09-24 00:01:03       14.0\n",
       "2017-09-24 00:01:04       14.0\n",
       "2017-09-24 00:01:05       14.0\n",
       "2017-09-24 00:01:06       14.0\n",
       "2017-09-24 00:01:07       14.0\n",
       "2017-09-24 00:01:08       14.0\n",
       "2017-09-24 00:01:09       14.0\n",
       "2017-09-24 00:01:10       14.0\n",
       "2017-09-24 00:01:11       14.0\n",
       "2017-09-24 00:01:12       14.0\n",
       "2017-09-24 00:01:13       14.0\n",
       "2017-09-24 00:01:14       14.0\n",
       "2017-09-24 00:01:15       14.0\n",
       "2017-09-24 00:01:16       14.0\n",
       "2017-09-24 00:01:17       14.0\n",
       "2017-09-24 00:01:18       14.0\n",
       "2017-09-24 00:01:19       14.0\n",
       "2017-09-24 00:01:20       14.0\n",
       "2017-09-24 00:01:21       14.0\n",
       "2017-09-24 00:01:22       14.0\n",
       "2017-09-24 00:01:23       14.0"
      ]
     },
     "execution_count": 25,
     "metadata": {},
     "output_type": "execute_result"
    }
   ],
   "source": [
    "server_profile.server_profile['qvipnbdora04_general'].profile.head(30)"
   ]
  },
  {
   "cell_type": "code",
   "execution_count": 116,
   "metadata": {},
   "outputs": [
    {
     "data": {
      "text/plain": [
       "[<matplotlib.lines.Line2D at 0x7efd30ffa898>]"
      ]
     },
     "execution_count": 116,
     "metadata": {},
     "output_type": "execute_result"
    },
    {
     "data": {
      "image/png": "[encoded data removed]",
      "text/plain": [
       "<Figure size 2160x1440 with 1 Axes>"
      ]
     },
     "metadata": {},
     "output_type": "display_data"
    }
   ],
   "source": [
    "plt.figure(figsize=(30,20))\n",
    "plt.plot(server_profile.server_profile['qvipnbdora04_general'].profile['2017-09-29'])"
   ]
  },
  {
   "cell_type": "code",
   "execution_count": 27,
   "metadata": {},
   "outputs": [],
   "source": [
    "test = server_profile.server_profile['qvipnbdora04_general'].profile"
   ]
  },
  {
   "cell_type": "code",
   "execution_count": 28,
   "metadata": {},
   "outputs": [
    {
     "data": {
      "text/plain": [
       "(102229, 1)"
      ]
     },
     "execution_count": 28,
     "metadata": {},
     "output_type": "execute_result"
    }
   ],
   "source": [
    "test.loc[mask].shape"
   ]
  },
  {
   "cell_type": "code",
   "execution_count": 29,
   "metadata": {},
   "outputs": [
    {
     "data": {
      "text/plain": [
       "'2017-10-18'"
      ]
     },
     "execution_count": 29,
     "metadata": {},
     "output_type": "execute_result"
    }
   ],
   "source": [
    "date_train[17]"
   ]
  },
  {
   "cell_type": "code",
   "execution_count": 30,
   "metadata": {},
   "outputs": [],
   "source": [
    "mask = (df_log.index >= date_train[0]) & (df_log.index <= date_train[17])\n",
    "data = df_log.loc[mask]"
   ]
  },
  {
   "cell_type": "code",
   "execution_count": 31,
   "metadata": {},
   "outputs": [
    {
     "data": {
      "text/html": [
       "<div>\n",
       "<style scoped>\n",
       "    .dataframe tbody tr th:only-of-type {\n",
       "        vertical-align: middle;\n",
       "    }\n",
       "\n",
       "    .dataframe tbody tr th {\n",
       "        vertical-align: top;\n",
       "    }\n",
       "\n",
       "    .dataframe thead th {\n",
       "        text-align: right;\n",
       "    }\n",
       "</style>\n",
       "<table border=\"1\" class=\"dataframe\">\n",
       "  <thead>\n",
       "    <tr style=\"text-align: right;\">\n",
       "      <th></th>\n",
       "      <th>timestamp</th>\n",
       "      <th>0</th>\n",
       "      <th>1</th>\n",
       "      <th>2</th>\n",
       "      <th>3</th>\n",
       "      <th>4</th>\n",
       "      <th>5</th>\n",
       "      <th>6</th>\n",
       "      <th>7</th>\n",
       "      <th>8</th>\n",
       "      <th>...</th>\n",
       "      <th>61</th>\n",
       "      <th>62</th>\n",
       "      <th>63</th>\n",
       "      <th>64</th>\n",
       "      <th>65</th>\n",
       "      <th>66</th>\n",
       "      <th>67</th>\n",
       "      <th>68</th>\n",
       "      <th>69</th>\n",
       "      <th>label</th>\n",
       "    </tr>\n",
       "    <tr>\n",
       "      <th>timestamp</th>\n",
       "      <th></th>\n",
       "      <th></th>\n",
       "      <th></th>\n",
       "      <th></th>\n",
       "      <th></th>\n",
       "      <th></th>\n",
       "      <th></th>\n",
       "      <th></th>\n",
       "      <th></th>\n",
       "      <th></th>\n",
       "      <th></th>\n",
       "      <th></th>\n",
       "      <th></th>\n",
       "      <th></th>\n",
       "      <th></th>\n",
       "      <th></th>\n",
       "      <th></th>\n",
       "      <th></th>\n",
       "      <th></th>\n",
       "      <th></th>\n",
       "      <th></th>\n",
       "    </tr>\n",
       "  </thead>\n",
       "  <tbody>\n",
       "    <tr>\n",
       "      <th>2017-10-01 00:00:54</th>\n",
       "      <td>2017-10-01 00:00:54</td>\n",
       "      <td>qvipnbdora04</td>\n",
       "      <td>su:</td>\n",
       "      <td>pam_unix(su:session):</td>\n",
       "      <td>session</td>\n",
       "      <td>opened</td>\n",
       "      <td>for</td>\n",
       "      <td>user</td>\n",
       "      <td>oracle</td>\n",
       "      <td>by</td>\n",
       "      <td>...</td>\n",
       "      <td>NaN</td>\n",
       "      <td>NaN</td>\n",
       "      <td>NaN</td>\n",
       "      <td>NaN</td>\n",
       "      <td>NaN</td>\n",
       "      <td>NaN</td>\n",
       "      <td>NaN</td>\n",
       "      <td>NaN</td>\n",
       "      <td>NaN</td>\n",
       "      <td>0.0</td>\n",
       "    </tr>\n",
       "    <tr>\n",
       "      <th>2017-10-01 00:00:54</th>\n",
       "      <td>2017-10-01 00:00:54</td>\n",
       "      <td>qvipnbdora04</td>\n",
       "      <td>su:</td>\n",
       "      <td>pam_unix(su:session):</td>\n",
       "      <td>session</td>\n",
       "      <td>opened</td>\n",
       "      <td>for</td>\n",
       "      <td>user</td>\n",
       "      <td>oracle</td>\n",
       "      <td>by</td>\n",
       "      <td>...</td>\n",
       "      <td>NaN</td>\n",
       "      <td>NaN</td>\n",
       "      <td>NaN</td>\n",
       "      <td>NaN</td>\n",
       "      <td>NaN</td>\n",
       "      <td>NaN</td>\n",
       "      <td>NaN</td>\n",
       "      <td>NaN</td>\n",
       "      <td>NaN</td>\n",
       "      <td>0.0</td>\n",
       "    </tr>\n",
       "    <tr>\n",
       "      <th>2017-10-01 00:00:54</th>\n",
       "      <td>2017-10-01 00:00:54</td>\n",
       "      <td>qvipnbdora04</td>\n",
       "      <td>su:</td>\n",
       "      <td>pam_unix(su:session):</td>\n",
       "      <td>session</td>\n",
       "      <td>closed</td>\n",
       "      <td>for</td>\n",
       "      <td>user</td>\n",
       "      <td>oracle</td>\n",
       "      <td>NaN</td>\n",
       "      <td>...</td>\n",
       "      <td>NaN</td>\n",
       "      <td>NaN</td>\n",
       "      <td>NaN</td>\n",
       "      <td>NaN</td>\n",
       "      <td>NaN</td>\n",
       "      <td>NaN</td>\n",
       "      <td>NaN</td>\n",
       "      <td>NaN</td>\n",
       "      <td>NaN</td>\n",
       "      <td>0.0</td>\n",
       "    </tr>\n",
       "    <tr>\n",
       "      <th>2017-10-01 00:00:54</th>\n",
       "      <td>2017-10-01 00:00:54</td>\n",
       "      <td>qvipnbdora04</td>\n",
       "      <td>su:</td>\n",
       "      <td>pam_unix(su:session):</td>\n",
       "      <td>session</td>\n",
       "      <td>opened</td>\n",
       "      <td>for</td>\n",
       "      <td>user</td>\n",
       "      <td>oracle</td>\n",
       "      <td>by</td>\n",
       "      <td>...</td>\n",
       "      <td>NaN</td>\n",
       "      <td>NaN</td>\n",
       "      <td>NaN</td>\n",
       "      <td>NaN</td>\n",
       "      <td>NaN</td>\n",
       "      <td>NaN</td>\n",
       "      <td>NaN</td>\n",
       "      <td>NaN</td>\n",
       "      <td>NaN</td>\n",
       "      <td>0.0</td>\n",
       "    </tr>\n",
       "    <tr>\n",
       "      <th>2017-10-01 00:00:54</th>\n",
       "      <td>2017-10-01 00:00:54</td>\n",
       "      <td>qvipnbdora04</td>\n",
       "      <td>su:</td>\n",
       "      <td>pam_unix(su:session):</td>\n",
       "      <td>session</td>\n",
       "      <td>closed</td>\n",
       "      <td>for</td>\n",
       "      <td>user</td>\n",
       "      <td>oracle</td>\n",
       "      <td>NaN</td>\n",
       "      <td>...</td>\n",
       "      <td>NaN</td>\n",
       "      <td>NaN</td>\n",
       "      <td>NaN</td>\n",
       "      <td>NaN</td>\n",
       "      <td>NaN</td>\n",
       "      <td>NaN</td>\n",
       "      <td>NaN</td>\n",
       "      <td>NaN</td>\n",
       "      <td>NaN</td>\n",
       "      <td>0.0</td>\n",
       "    </tr>\n",
       "  </tbody>\n",
       "</table>\n",
       "<p>5 rows × 72 columns</p>\n",
       "</div>"
      ],
      "text/plain": [
       "                               timestamp             0    1  \\\n",
       "timestamp                                                     \n",
       "2017-10-01 00:00:54  2017-10-01 00:00:54  qvipnbdora04  su:   \n",
       "2017-10-01 00:00:54  2017-10-01 00:00:54  qvipnbdora04  su:   \n",
       "2017-10-01 00:00:54  2017-10-01 00:00:54  qvipnbdora04  su:   \n",
       "2017-10-01 00:00:54  2017-10-01 00:00:54  qvipnbdora04  su:   \n",
       "2017-10-01 00:00:54  2017-10-01 00:00:54  qvipnbdora04  su:   \n",
       "\n",
       "                                         2        3       4    5     6  \\\n",
       "timestamp                                                                \n",
       "2017-10-01 00:00:54  pam_unix(su:session):  session  opened  for  user   \n",
       "2017-10-01 00:00:54  pam_unix(su:session):  session  opened  for  user   \n",
       "2017-10-01 00:00:54  pam_unix(su:session):  session  closed  for  user   \n",
       "2017-10-01 00:00:54  pam_unix(su:session):  session  opened  for  user   \n",
       "2017-10-01 00:00:54  pam_unix(su:session):  session  closed  for  user   \n",
       "\n",
       "                          7    8  ...    61   62   63   64   65   66   67  \\\n",
       "timestamp                         ...                                       \n",
       "2017-10-01 00:00:54  oracle   by  ...   NaN  NaN  NaN  NaN  NaN  NaN  NaN   \n",
       "2017-10-01 00:00:54  oracle   by  ...   NaN  NaN  NaN  NaN  NaN  NaN  NaN   \n",
       "2017-10-01 00:00:54  oracle  NaN  ...   NaN  NaN  NaN  NaN  NaN  NaN  NaN   \n",
       "2017-10-01 00:00:54  oracle   by  ...   NaN  NaN  NaN  NaN  NaN  NaN  NaN   \n",
       "2017-10-01 00:00:54  oracle  NaN  ...   NaN  NaN  NaN  NaN  NaN  NaN  NaN   \n",
       "\n",
       "                      68   69 label  \n",
       "timestamp                            \n",
       "2017-10-01 00:00:54  NaN  NaN   0.0  \n",
       "2017-10-01 00:00:54  NaN  NaN   0.0  \n",
       "2017-10-01 00:00:54  NaN  NaN   0.0  \n",
       "2017-10-01 00:00:54  NaN  NaN   0.0  \n",
       "2017-10-01 00:00:54  NaN  NaN   0.0  \n",
       "\n",
       "[5 rows x 72 columns]"
      ]
     },
     "execution_count": 31,
     "metadata": {},
     "output_type": "execute_result"
    }
   ],
   "source": [
    "data.head()"
   ]
  },
  {
   "cell_type": "code",
   "execution_count": 141,
   "metadata": {},
   "outputs": [],
   "source": [
    "# learning the distribution hope we do not have any\n",
    "%autoreload \n",
    "distribution_init = sortedcontainers.SortedDict(sortedcontainers.SortedList())\n",
    "for i in range(7):\n",
    "    distribution_init[i]=sortedcontainers.SortedList([0,np.inf])\n",
    "server_profile.verbose = False\n",
    "server_profile.level_threshold = 1e-6\n",
    "server_profile.distribution = distribution_init\n",
    "server_profile.processus = True\n",
    "start_date = data.index[0]\n",
    "i=0\n",
    "while start_date + dt.timedelta(seconds=server_profile.parameters[0,2]*60) < data.index[-1]:\n",
    "    data_to_compute = data.loc[start_date:(start_date + dt.timedelta(seconds=server_profile.parameters[0,2]*60))]\n",
    "    anomaly, max_spread, min_spread, d, date, threshold, quant = server_profile.process_distance(data_to_compute)\n",
    "    start_date = start_date + dt.timedelta(minutes=1)\n",
    "    i+=1"
   ]
  },
  {
   "cell_type": "code",
   "execution_count": 142,
   "metadata": {},
   "outputs": [],
   "source": [
    "server_profile.distribution[0].remove(np.inf)\n",
    "server_profile.distribution[1].remove(np.inf)\n",
    "server_profile.distribution[2].remove(np.inf)\n",
    "server_profile.distribution[3].remove(np.inf)\n",
    "server_profile.distribution[4].remove(np.inf)\n",
    "server_profile.distribution[5].remove(np.inf)"
   ]
  },
  {
   "cell_type": "code",
   "execution_count": 143,
   "metadata": {},
   "outputs": [
    {
     "name": "stderr",
     "output_type": "stream",
     "text": [
      "WARNING:matplotlib.legend:No handles with labels found to put in legend.\n"
     ]
    },
    {
     "data": {
      "image/png": "[encoded data removed]",
      "text/plain": [
       "<Figure size 2160x720 with 1 Axes>"
      ]
     },
     "metadata": {},
     "output_type": "display_data"
    }
   ],
   "source": [
    "# distribution jour \n",
    "import calendar\n",
    "plt.figure(figsize=(30,10))\n",
    "plt.hist(server_profile.distribution[0], bins = 'auto')\n",
    "plt.title(calendar.day_name[0])\n",
    "plt.legend()\n",
    "plt.show()"
   ]
  },
  {
   "cell_type": "code",
   "execution_count": 144,
   "metadata": {},
   "outputs": [
    {
     "name": "stderr",
     "output_type": "stream",
     "text": [
      "WARNING:matplotlib.legend:No handles with labels found to put in legend.\n"
     ]
    },
    {
     "data": {
      "image/png": "[encoded data removed]",
      "text/plain": [
       "<Figure size 2160x720 with 1 Axes>"
      ]
     },
     "metadata": {},
     "output_type": "display_data"
    }
   ],
   "source": [
    "import calendar\n",
    "plt.figure(figsize=(30,10))\n",
    "plt.hist(server_profile.distribution[1], bins ='auto')\n",
    "plt.title(calendar.day_name[1])\n",
    "plt.legend()\n",
    "plt.show()"
   ]
  },
  {
   "cell_type": "code",
   "execution_count": 146,
   "metadata": {},
   "outputs": [
    {
     "data": {
      "text/plain": [
       "[<matplotlib.lines.Line2D at 0x7efd301b3828>]"
      ]
     },
     "execution_count": 146,
     "metadata": {},
     "output_type": "execute_result"
    },
    {
     "data": {
      "image/png": "[encoded data removed]",
      "text/plain": [
       "<Figure size 2160x720 with 1 Axes>"
      ]
     },
     "metadata": {},
     "output_type": "display_data"
    }
   ],
   "source": [
    "plt.figure(figsize=(30,10))\n",
    "plt.plot(range(len(server_profile.measures[0]['Area_Difference'])),server_profile.measures[0]['Area_Difference'] )"
   ]
  },
  {
   "cell_type": "code",
   "execution_count": 125,
   "metadata": {},
   "outputs": [],
   "source": [
    "data = df_log[date_train[1]]"
   ]
  },
  {
   "cell_type": "code",
   "execution_count": 127,
   "metadata": {},
   "outputs": [],
   "source": [
    "data.index = pd.to_datetime(data.timestamp, format='%Y-%m-%d %H:%M:%S')\n",
    "data_rs= data.drop(data.columns[1:len(data.columns) - 1], axis=1)\n",
    "d_min = data[date_train[1]].resample('1S').count().cumsum()['timestamp'].values\n",
    "d_min = pd.DataFrame(d_min, columns=['intensity'])"
   ]
  },
  {
   "cell_type": "code",
   "execution_count": 128,
   "metadata": {},
   "outputs": [
    {
     "data": {
      "text/plain": [
       "'2017-10-01'"
      ]
     },
     "execution_count": 128,
     "metadata": {},
     "output_type": "execute_result"
    }
   ],
   "source": [
    "date_train[0]"
   ]
  },
  {
   "cell_type": "code",
   "execution_count": 129,
   "metadata": {},
   "outputs": [
    {
     "data": {
      "text/html": [
       "<div>\n",
       "<style scoped>\n",
       "    .dataframe tbody tr th:only-of-type {\n",
       "        vertical-align: middle;\n",
       "    }\n",
       "\n",
       "    .dataframe tbody tr th {\n",
       "        vertical-align: top;\n",
       "    }\n",
       "\n",
       "    .dataframe thead th {\n",
       "        text-align: right;\n",
       "    }\n",
       "</style>\n",
       "<table border=\"1\" class=\"dataframe\">\n",
       "  <thead>\n",
       "    <tr style=\"text-align: right;\">\n",
       "      <th></th>\n",
       "      <th>intensity</th>\n",
       "    </tr>\n",
       "  </thead>\n",
       "  <tbody>\n",
       "    <tr>\n",
       "      <th>0</th>\n",
       "      <td>8</td>\n",
       "    </tr>\n",
       "    <tr>\n",
       "      <th>1</th>\n",
       "      <td>8</td>\n",
       "    </tr>\n",
       "    <tr>\n",
       "      <th>2</th>\n",
       "      <td>8</td>\n",
       "    </tr>\n",
       "    <tr>\n",
       "      <th>3</th>\n",
       "      <td>8</td>\n",
       "    </tr>\n",
       "    <tr>\n",
       "      <th>4</th>\n",
       "      <td>8</td>\n",
       "    </tr>\n",
       "  </tbody>\n",
       "</table>\n",
       "</div>"
      ],
      "text/plain": [
       "   intensity\n",
       "0          8\n",
       "1          8\n",
       "2          8\n",
       "3          8\n",
       "4          8"
      ]
     },
     "execution_count": 129,
     "metadata": {},
     "output_type": "execute_result"
    }
   ],
   "source": [
    "d_min.head()"
   ]
  },
  {
   "cell_type": "code",
   "execution_count": 130,
   "metadata": {},
   "outputs": [],
   "source": [
    "mask = (server_profile.server_profile['qvipnbdora04_general'].profile.index.weekday == 0) & (server_profile.server_profile['qvipnbdora04_general'].profile.index.hour <= 2) \n",
    "start_date = server_profile.server_profile['qvipnbdora04_general'].profile.loc[mask,'timestamp'].index[0]\n"
   ]
  },
  {
   "cell_type": "code",
   "execution_count": 131,
   "metadata": {},
   "outputs": [
    {
     "data": {
      "text/plain": [
       "array([16656., 16656., 16656., ..., 33500., 33500., 33500.])"
      ]
     },
     "execution_count": 131,
     "metadata": {},
     "output_type": "execute_result"
    }
   ],
   "source": [
    "server_profile.server_profile['qvipnbdora04_general'].profile.loc[start_date: start_date + dt.timedelta(seconds=3600*24),'timestamp'].values"
   ]
  },
  {
   "cell_type": "code",
   "execution_count": 135,
   "metadata": {},
   "outputs": [
    {
     "data": {
      "image/png": "[encoded data removed]",
      "text/plain": [
       "<Figure size 2160x720 with 1 Axes>"
      ]
     },
     "metadata": {},
     "output_type": "display_data"
    }
   ],
   "source": [
    "plt.figure(figsize=(30,10))\n",
    "plt.plot(d_min.loc[:3600*24,'intensity'])\n",
    "plt.plot(server_profile.server_profile['qvipnbdora04_general'].profile.loc[start_date: start_date + dt.timedelta(seconds=3600*24),'timestamp'].values\n",
    "         -server_profile.server_profile['qvipnbdora04_general'].profile.loc[start_date-dt.timedelta(seconds=1), 'timestamp'])\n",
    "plt.show()"
   ]
  },
  {
   "cell_type": "code",
   "execution_count": 128,
   "metadata": {},
   "outputs": [
    {
     "data": {
      "text/plain": [
       "['2017-09-25',\n",
       " '2017-09-26',\n",
       " '2017-09-27',\n",
       " '2017-09-28',\n",
       " '2017-09-29',\n",
       " '2017-09-30',\n",
       " '2017-09-24']"
      ]
     },
     "execution_count": 128,
     "metadata": {},
     "output_type": "execute_result"
    }
   ],
   "source": [
    "date_profile"
   ]
  },
  {
   "cell_type": "code",
   "execution_count": 129,
   "metadata": {},
   "outputs": [
    {
     "data": {
      "text/plain": [
       "['2017-10-01',\n",
       " '2017-10-02',\n",
       " '2017-10-03',\n",
       " '2017-10-04',\n",
       " '2017-10-05',\n",
       " '2017-10-06',\n",
       " '2017-10-07',\n",
       " '2017-10-08',\n",
       " '2017-10-09',\n",
       " '2017-10-10',\n",
       " '2017-10-11',\n",
       " '2017-10-12',\n",
       " '2017-10-13',\n",
       " '2017-10-14',\n",
       " '2017-10-15',\n",
       " '2017-10-16',\n",
       " '2017-10-17',\n",
       " '2017-10-18',\n",
       " '2017-10-19',\n",
       " '2017-10-20',\n",
       " '2017-10-21',\n",
       " '2017-10-22',\n",
       " '2017-10-23',\n",
       " '2017-10-24',\n",
       " '2017-10-25',\n",
       " '2017-10-26']"
      ]
     },
     "execution_count": 129,
     "metadata": {},
     "output_type": "execute_result"
    }
   ],
   "source": [
    "date_train"
   ]
  },
  {
   "cell_type": "code",
   "execution_count": 136,
   "metadata": {},
   "outputs": [
    {
     "data": {
      "text/plain": [
       "SortedList([-1621800.0, -1621800.0, -1621800.0, -1621800.0, -810900.0, -810900.0, -810900.0, -810900.0, -810900.0, -810900.0, -810900.0, -810900.0, -810900.0, -432000.0, -432000.0, -432000.0, -432000.0, 0, 44592720.0, 44690976.0, 45658380.0, 45719580.0, 45976083.0, 46198320.0, 47387283.0, 48742680.0, 50023380.0, 50161980.0, 50568780.0, 51502105.0, 53465880.0, 54369480.0, 54912192.0, 55216476.0, 55350480.0, 56169480.0, 56999304.0, 58347480.0, 62067205.0, 63955380.0, 65138040.0, 71406522.0, 72302952.0, 73590822.0, inf])"
      ]
     },
     "execution_count": 136,
     "metadata": {},
     "output_type": "execute_result"
    }
   ],
   "source": [
    "server_profile.distribution[6]"
   ]
  },
  {
   "cell_type": "code",
   "execution_count": null,
   "metadata": {},
   "outputs": [],
   "source": [
    "24*3600*6"
   ]
  }
 ],
 "metadata": {
  "kernelspec": {
   "display_name": "Python 3",
   "language": "python",
   "name": "python3"
  },
  "language_info": {
   "codemirror_mode": {
    "name": "ipython",
    "version": 3
   },
   "file_extension": ".py",
   "mimetype": "text/x-python",
   "name": "python",
   "nbconvert_exporter": "python",
   "pygments_lexer": "ipython3",
   "version": "3.6.4"
  }
 },
 "nbformat": 4,
 "nbformat_minor": 2
}
