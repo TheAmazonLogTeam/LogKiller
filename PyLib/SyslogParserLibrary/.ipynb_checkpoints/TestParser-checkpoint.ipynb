{
 "cells": [
  {
   "cell_type": "code",
   "execution_count": 14,
   "metadata": {},
   "outputs": [],
   "source": [
    "import re\n",
    "import pandas as pd"
   ]
  },
  {
   "cell_type": "code",
   "execution_count": 15,
   "metadata": {},
   "outputs": [],
   "source": [
    "log = \"2017-11-10T00:00:01+00:00 qvipcasb2c01 CROND[24279]: (isashare) CMD (/exploit/ISA/share/scripts/bin/isa_statsMonitor --environment share --epagentFile --record --killOnHighGC --nolog 1>/dev/null 2>&1)\""
   ]
  },
  {
   "cell_type": "code",
   "execution_count": 16,
   "metadata": {},
   "outputs": [],
   "source": [
    "regexp= r\"(\\d+-\\d+-\\d+T\\d+:\\d+:\\d+\\S\\d+:\\d+)\\s(\\w*)\\s(\\w*)\\[(\\d*)\\]:\\s((\\S*\\s*)*)\""
   ]
  },
  {
   "cell_type": "code",
   "execution_count": 23,
   "metadata": {},
   "outputs": [
    {
     "name": "stdout",
     "output_type": "stream",
     "text": [
      "2017-11-10T00:00:01+00:00 qvipcasb2c01 CROND[24279]: (isashare) CMD (/exploit/ISA/share/scripts/bin/isa_statsMonitor --environment share --epagentFile --record --killOnHighGC --nolog 1>/dev/null 2>&1)\n",
      "2017-11-10T00:00:01+00:00\n",
      "qvipcasb2c01\n",
      "CROND\n",
      "24279\n",
      "(isashare) CMD (/exploit/ISA/share/scripts/bin/isa_statsMonitor --environment share --epagentFile --record --killOnHighGC --nolog 1>/dev/null 2>&1)\n"
     ]
    }
   ],
   "source": [
    "parsed = re.search(regexp,log)\n",
    "for i in range(0,6):\n",
    "    print(parsed.group(i))\n",
    "    \n"
   ]
  },
  {
   "cell_type": "code",
   "execution_count": null,
   "metadata": {
    "collapsed": true
   },
   "outputs": [],
   "source": [
    "#Convert into datetime pandas\n",
    "time_format = \"%Y-%m-%d%Z%%H:%M:%S\"\n",
    "pd.to_datetime(format='')"
   ]
  }
 ],
 "metadata": {
  "kernelspec": {
   "display_name": "Python 3",
   "language": "python",
   "name": "python3"
  },
  "language_info": {
   "codemirror_mode": {
    "name": "ipython",
    "version": 3
   },
   "file_extension": ".py",
   "mimetype": "text/x-python",
   "name": "python",
   "nbconvert_exporter": "python",
   "pygments_lexer": "ipython3",
   "version": "3.6.3"
  },
  "latex_envs": {
   "LaTeX_envs_menu_present": true,
   "autocomplete": true,
   "bibliofile": "biblio.bib",
   "cite_by": "apalike",
   "current_citInitial": 1,
   "eqLabelWithNumbers": true,
   "eqNumInitial": 1,
   "hotkeys": {
    "equation": "Ctrl-E",
    "itemize": "Ctrl-I"
   },
   "labels_anchors": false,
   "latex_user_defs": false,
   "report_style_numbering": false,
   "user_envs_cfg": false
  }
 },
 "nbformat": 4,
 "nbformat_minor": 2
}
